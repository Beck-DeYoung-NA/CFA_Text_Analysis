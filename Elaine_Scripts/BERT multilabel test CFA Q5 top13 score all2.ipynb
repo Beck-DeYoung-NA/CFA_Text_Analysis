{
 "cells": [
  {
   "cell_type": "code",
   "execution_count": 10,
   "metadata": {},
   "outputs": [
    {
     "name": "stdout",
     "output_type": "stream",
     "text": [
      "Requirement already satisfied: ipywidgets in c:\\users\\elainez\\appdata\\local\\packages\\pythonsoftwarefoundation.python.3.9_qbz5n2kfra8p0\\localcache\\local-packages\\python39\\site-packages (8.0.1)\n",
      "Requirement already satisfied: ipykernel>=4.5.1 in c:\\users\\elainez\\appdata\\local\\packages\\pythonsoftwarefoundation.python.3.9_qbz5n2kfra8p0\\localcache\\local-packages\\python39\\site-packages (from ipywidgets) (6.15.1)\n",
      "Requirement already satisfied: ipython>=6.1.0 in c:\\users\\elainez\\appdata\\local\\packages\\pythonsoftwarefoundation.python.3.9_qbz5n2kfra8p0\\localcache\\local-packages\\python39\\site-packages (from ipywidgets) (8.4.0)\n",
      "Requirement already satisfied: jupyterlab-widgets~=3.0 in c:\\users\\elainez\\appdata\\local\\packages\\pythonsoftwarefoundation.python.3.9_qbz5n2kfra8p0\\localcache\\local-packages\\python39\\site-packages (from ipywidgets) (3.0.2)\n",
      "Requirement already satisfied: widgetsnbextension~=4.0 in c:\\users\\elainez\\appdata\\local\\packages\\pythonsoftwarefoundation.python.3.9_qbz5n2kfra8p0\\localcache\\local-packages\\python39\\site-packages (from ipywidgets) (4.0.2)\n",
      "Requirement already satisfied: traitlets>=4.3.1 in c:\\users\\elainez\\appdata\\local\\packages\\pythonsoftwarefoundation.python.3.9_qbz5n2kfra8p0\\localcache\\local-packages\\python39\\site-packages (from ipywidgets) (5.3.0)\n",
      "Requirement already satisfied: nest-asyncio in c:\\users\\elainez\\appdata\\local\\packages\\pythonsoftwarefoundation.python.3.9_qbz5n2kfra8p0\\localcache\\local-packages\\python39\\site-packages (from ipykernel>=4.5.1->ipywidgets) (1.5.5)\n",
      "Requirement already satisfied: matplotlib-inline>=0.1 in c:\\users\\elainez\\appdata\\local\\packages\\pythonsoftwarefoundation.python.3.9_qbz5n2kfra8p0\\localcache\\local-packages\\python39\\site-packages (from ipykernel>=4.5.1->ipywidgets) (0.1.6)\n",
      "Requirement already satisfied: psutil in c:\\users\\elainez\\appdata\\local\\packages\\pythonsoftwarefoundation.python.3.9_qbz5n2kfra8p0\\localcache\\local-packages\\python39\\site-packages (from ipykernel>=4.5.1->ipywidgets) (5.9.1)\n",
      "Requirement already satisfied: tornado>=6.1 in c:\\users\\elainez\\appdata\\local\\packages\\pythonsoftwarefoundation.python.3.9_qbz5n2kfra8p0\\localcache\\local-packages\\python39\\site-packages (from ipykernel>=4.5.1->ipywidgets) (6.2)\n",
      "Requirement already satisfied: jupyter-client>=6.1.12 in c:\\users\\elainez\\appdata\\local\\packages\\pythonsoftwarefoundation.python.3.9_qbz5n2kfra8p0\\localcache\\local-packages\\python39\\site-packages (from ipykernel>=4.5.1->ipywidgets) (7.3.5)\n",
      "Requirement already satisfied: pyzmq>=17 in c:\\users\\elainez\\appdata\\local\\packages\\pythonsoftwarefoundation.python.3.9_qbz5n2kfra8p0\\localcache\\local-packages\\python39\\site-packages (from ipykernel>=4.5.1->ipywidgets) (23.2.1)\n",
      "Requirement already satisfied: packaging in c:\\users\\elainez\\appdata\\local\\packages\\pythonsoftwarefoundation.python.3.9_qbz5n2kfra8p0\\localcache\\local-packages\\python39\\site-packages (from ipykernel>=4.5.1->ipywidgets) (21.3)\n",
      "Requirement already satisfied: debugpy>=1.0 in c:\\users\\elainez\\appdata\\local\\packages\\pythonsoftwarefoundation.python.3.9_qbz5n2kfra8p0\\localcache\\local-packages\\python39\\site-packages (from ipykernel>=4.5.1->ipywidgets) (1.6.3)\n",
      "Requirement already satisfied: pickleshare in c:\\users\\elainez\\appdata\\local\\packages\\pythonsoftwarefoundation.python.3.9_qbz5n2kfra8p0\\localcache\\local-packages\\python39\\site-packages (from ipython>=6.1.0->ipywidgets) (0.7.5)\n",
      "Requirement already satisfied: decorator in c:\\users\\elainez\\appdata\\local\\packages\\pythonsoftwarefoundation.python.3.9_qbz5n2kfra8p0\\localcache\\local-packages\\python39\\site-packages (from ipython>=6.1.0->ipywidgets) (5.1.1)\n",
      "Requirement already satisfied: colorama in c:\\users\\elainez\\appdata\\local\\packages\\pythonsoftwarefoundation.python.3.9_qbz5n2kfra8p0\\localcache\\local-packages\\python39\\site-packages (from ipython>=6.1.0->ipywidgets) (0.4.5)\n",
      "Requirement already satisfied: stack-data in c:\\users\\elainez\\appdata\\local\\packages\\pythonsoftwarefoundation.python.3.9_qbz5n2kfra8p0\\localcache\\local-packages\\python39\\site-packages (from ipython>=6.1.0->ipywidgets) (0.5.0)\n",
      "Requirement already satisfied: pygments>=2.4.0 in c:\\users\\elainez\\appdata\\local\\packages\\pythonsoftwarefoundation.python.3.9_qbz5n2kfra8p0\\localcache\\local-packages\\python39\\site-packages (from ipython>=6.1.0->ipywidgets) (2.13.0)\n",
      "Requirement already satisfied: setuptools>=18.5 in c:\\program files\\windowsapps\\pythonsoftwarefoundation.python.3.9_3.9.3568.0_x64__qbz5n2kfra8p0\\lib\\site-packages (from ipython>=6.1.0->ipywidgets) (58.1.0)\n",
      "Requirement already satisfied: jedi>=0.16 in c:\\users\\elainez\\appdata\\local\\packages\\pythonsoftwarefoundation.python.3.9_qbz5n2kfra8p0\\localcache\\local-packages\\python39\\site-packages (from ipython>=6.1.0->ipywidgets) (0.18.1)\n",
      "Requirement already satisfied: backcall in c:\\users\\elainez\\appdata\\local\\packages\\pythonsoftwarefoundation.python.3.9_qbz5n2kfra8p0\\localcache\\local-packages\\python39\\site-packages (from ipython>=6.1.0->ipywidgets) (0.2.0)\n",
      "Requirement already satisfied: prompt-toolkit!=3.0.0,!=3.0.1,<3.1.0,>=2.0.0 in c:\\users\\elainez\\appdata\\local\\packages\\pythonsoftwarefoundation.python.3.9_qbz5n2kfra8p0\\localcache\\local-packages\\python39\\site-packages (from ipython>=6.1.0->ipywidgets) (3.0.30)\n",
      "Requirement already satisfied: parso<0.9.0,>=0.8.0 in c:\\users\\elainez\\appdata\\local\\packages\\pythonsoftwarefoundation.python.3.9_qbz5n2kfra8p0\\localcache\\local-packages\\python39\\site-packages (from jedi>=0.16->ipython>=6.1.0->ipywidgets) (0.8.3)\n",
      "Requirement already satisfied: jupyter-core>=4.9.2 in c:\\users\\elainez\\appdata\\local\\packages\\pythonsoftwarefoundation.python.3.9_qbz5n2kfra8p0\\localcache\\local-packages\\python39\\site-packages (from jupyter-client>=6.1.12->ipykernel>=4.5.1->ipywidgets) (4.11.1)\n",
      "Requirement already satisfied: entrypoints in c:\\users\\elainez\\appdata\\local\\packages\\pythonsoftwarefoundation.python.3.9_qbz5n2kfra8p0\\localcache\\local-packages\\python39\\site-packages (from jupyter-client>=6.1.12->ipykernel>=4.5.1->ipywidgets) (0.4)\n",
      "Requirement already satisfied: python-dateutil>=2.8.2 in c:\\users\\elainez\\appdata\\local\\packages\\pythonsoftwarefoundation.python.3.9_qbz5n2kfra8p0\\localcache\\local-packages\\python39\\site-packages (from jupyter-client>=6.1.12->ipykernel>=4.5.1->ipywidgets) (2.8.2)\n",
      "Requirement already satisfied: wcwidth in c:\\users\\elainez\\appdata\\local\\packages\\pythonsoftwarefoundation.python.3.9_qbz5n2kfra8p0\\localcache\\local-packages\\python39\\site-packages (from prompt-toolkit!=3.0.0,!=3.0.1,<3.1.0,>=2.0.0->ipython>=6.1.0->ipywidgets) (0.2.5)\n",
      "Requirement already satisfied: pyparsing!=3.0.5,>=2.0.2 in c:\\users\\elainez\\appdata\\local\\packages\\pythonsoftwarefoundation.python.3.9_qbz5n2kfra8p0\\localcache\\local-packages\\python39\\site-packages (from packaging->ipykernel>=4.5.1->ipywidgets) (3.0.9)\n",
      "Requirement already satisfied: asttokens in c:\\users\\elainez\\appdata\\local\\packages\\pythonsoftwarefoundation.python.3.9_qbz5n2kfra8p0\\localcache\\local-packages\\python39\\site-packages (from stack-data->ipython>=6.1.0->ipywidgets) (2.0.8)\n",
      "Requirement already satisfied: pure-eval in c:\\users\\elainez\\appdata\\local\\packages\\pythonsoftwarefoundation.python.3.9_qbz5n2kfra8p0\\localcache\\local-packages\\python39\\site-packages (from stack-data->ipython>=6.1.0->ipywidgets) (0.2.2)\n",
      "Requirement already satisfied: executing in c:\\users\\elainez\\appdata\\local\\packages\\pythonsoftwarefoundation.python.3.9_qbz5n2kfra8p0\\localcache\\local-packages\\python39\\site-packages (from stack-data->ipython>=6.1.0->ipywidgets) (1.0.0)\n",
      "Requirement already satisfied: pywin32>=1.0 in c:\\users\\elainez\\appdata\\local\\packages\\pythonsoftwarefoundation.python.3.9_qbz5n2kfra8p0\\localcache\\local-packages\\python39\\site-packages (from jupyter-core>=4.9.2->jupyter-client>=6.1.12->ipykernel>=4.5.1->ipywidgets) (304)\n",
      "Requirement already satisfied: six>=1.5 in c:\\users\\elainez\\appdata\\local\\packages\\pythonsoftwarefoundation.python.3.9_qbz5n2kfra8p0\\localcache\\local-packages\\python39\\site-packages (from python-dateutil>=2.8.2->jupyter-client>=6.1.12->ipykernel>=4.5.1->ipywidgets) (1.16.0)\n",
      "Requirement already satisfied: pandas in c:\\users\\elainez\\appdata\\local\\packages\\pythonsoftwarefoundation.python.3.9_qbz5n2kfra8p0\\localcache\\local-packages\\python39\\site-packages (1.4.3)\n",
      "Requirement already satisfied: numpy>=1.18.5 in c:\\users\\elainez\\appdata\\local\\packages\\pythonsoftwarefoundation.python.3.9_qbz5n2kfra8p0\\localcache\\local-packages\\python39\\site-packages (from pandas) (1.23.2)\n",
      "Requirement already satisfied: pytz>=2020.1 in c:\\users\\elainez\\appdata\\local\\packages\\pythonsoftwarefoundation.python.3.9_qbz5n2kfra8p0\\localcache\\local-packages\\python39\\site-packages (from pandas) (2022.2.1)\n",
      "Requirement already satisfied: python-dateutil>=2.8.1 in c:\\users\\elainez\\appdata\\local\\packages\\pythonsoftwarefoundation.python.3.9_qbz5n2kfra8p0\\localcache\\local-packages\\python39\\site-packages (from pandas) (2.8.2)\n",
      "Requirement already satisfied: six>=1.5 in c:\\users\\elainez\\appdata\\local\\packages\\pythonsoftwarefoundation.python.3.9_qbz5n2kfra8p0\\localcache\\local-packages\\python39\\site-packages (from python-dateutil>=2.8.1->pandas) (1.16.0)\n",
      "Requirement already satisfied: sklearn in c:\\users\\elainez\\appdata\\local\\packages\\pythonsoftwarefoundation.python.3.9_qbz5n2kfra8p0\\localcache\\local-packages\\python39\\site-packages (0.0)\n",
      "Requirement already satisfied: scikit-learn in c:\\users\\elainez\\appdata\\local\\packages\\pythonsoftwarefoundation.python.3.9_qbz5n2kfra8p0\\localcache\\local-packages\\python39\\site-packages (from sklearn) (1.1.2)\n",
      "Requirement already satisfied: threadpoolctl>=2.0.0 in c:\\users\\elainez\\appdata\\local\\packages\\pythonsoftwarefoundation.python.3.9_qbz5n2kfra8p0\\localcache\\local-packages\\python39\\site-packages (from scikit-learn->sklearn) (3.1.0)\n",
      "Requirement already satisfied: joblib>=1.0.0 in c:\\users\\elainez\\appdata\\local\\packages\\pythonsoftwarefoundation.python.3.9_qbz5n2kfra8p0\\localcache\\local-packages\\python39\\site-packages (from scikit-learn->sklearn) (1.1.0)\n",
      "Requirement already satisfied: scipy>=1.3.2 in c:\\users\\elainez\\appdata\\local\\packages\\pythonsoftwarefoundation.python.3.9_qbz5n2kfra8p0\\localcache\\local-packages\\python39\\site-packages (from scikit-learn->sklearn) (1.9.1)\n",
      "Requirement already satisfied: numpy>=1.17.3 in c:\\users\\elainez\\appdata\\local\\packages\\pythonsoftwarefoundation.python.3.9_qbz5n2kfra8p0\\localcache\\local-packages\\python39\\site-packages (from scikit-learn->sklearn) (1.23.2)\n",
      "Requirement already satisfied: seaborn in c:\\users\\elainez\\appdata\\local\\packages\\pythonsoftwarefoundation.python.3.9_qbz5n2kfra8p0\\localcache\\local-packages\\python39\\site-packages (0.11.2)\n",
      "Requirement already satisfied: matplotlib>=2.2 in c:\\users\\elainez\\appdata\\local\\packages\\pythonsoftwarefoundation.python.3.9_qbz5n2kfra8p0\\localcache\\local-packages\\python39\\site-packages (from seaborn) (3.5.3)\n",
      "Requirement already satisfied: scipy>=1.0 in c:\\users\\elainez\\appdata\\local\\packages\\pythonsoftwarefoundation.python.3.9_qbz5n2kfra8p0\\localcache\\local-packages\\python39\\site-packages (from seaborn) (1.9.1)\n",
      "Requirement already satisfied: numpy>=1.15 in c:\\users\\elainez\\appdata\\local\\packages\\pythonsoftwarefoundation.python.3.9_qbz5n2kfra8p0\\localcache\\local-packages\\python39\\site-packages (from seaborn) (1.23.2)\n",
      "Requirement already satisfied: pandas>=0.23 in c:\\users\\elainez\\appdata\\local\\packages\\pythonsoftwarefoundation.python.3.9_qbz5n2kfra8p0\\localcache\\local-packages\\python39\\site-packages (from seaborn) (1.4.3)\n",
      "Requirement already satisfied: pyparsing>=2.2.1 in c:\\users\\elainez\\appdata\\local\\packages\\pythonsoftwarefoundation.python.3.9_qbz5n2kfra8p0\\localcache\\local-packages\\python39\\site-packages (from matplotlib>=2.2->seaborn) (3.0.9)\n",
      "Requirement already satisfied: packaging>=20.0 in c:\\users\\elainez\\appdata\\local\\packages\\pythonsoftwarefoundation.python.3.9_qbz5n2kfra8p0\\localcache\\local-packages\\python39\\site-packages (from matplotlib>=2.2->seaborn) (21.3)\n",
      "Requirement already satisfied: fonttools>=4.22.0 in c:\\users\\elainez\\appdata\\local\\packages\\pythonsoftwarefoundation.python.3.9_qbz5n2kfra8p0\\localcache\\local-packages\\python39\\site-packages (from matplotlib>=2.2->seaborn) (4.37.1)\n",
      "Requirement already satisfied: cycler>=0.10 in c:\\users\\elainez\\appdata\\local\\packages\\pythonsoftwarefoundation.python.3.9_qbz5n2kfra8p0\\localcache\\local-packages\\python39\\site-packages (from matplotlib>=2.2->seaborn) (0.11.0)\n",
      "Requirement already satisfied: kiwisolver>=1.0.1 in c:\\users\\elainez\\appdata\\local\\packages\\pythonsoftwarefoundation.python.3.9_qbz5n2kfra8p0\\localcache\\local-packages\\python39\\site-packages (from matplotlib>=2.2->seaborn) (1.4.4)\n",
      "Requirement already satisfied: pillow>=6.2.0 in c:\\users\\elainez\\appdata\\local\\packages\\pythonsoftwarefoundation.python.3.9_qbz5n2kfra8p0\\localcache\\local-packages\\python39\\site-packages (from matplotlib>=2.2->seaborn) (9.2.0)\n",
      "Requirement already satisfied: python-dateutil>=2.7 in c:\\users\\elainez\\appdata\\local\\packages\\pythonsoftwarefoundation.python.3.9_qbz5n2kfra8p0\\localcache\\local-packages\\python39\\site-packages (from matplotlib>=2.2->seaborn) (2.8.2)\n",
      "Requirement already satisfied: pytz>=2020.1 in c:\\users\\elainez\\appdata\\local\\packages\\pythonsoftwarefoundation.python.3.9_qbz5n2kfra8p0\\localcache\\local-packages\\python39\\site-packages (from pandas>=0.23->seaborn) (2022.2.1)\n",
      "Requirement already satisfied: six>=1.5 in c:\\users\\elainez\\appdata\\local\\packages\\pythonsoftwarefoundation.python.3.9_qbz5n2kfra8p0\\localcache\\local-packages\\python39\\site-packages (from python-dateutil>=2.7->matplotlib>=2.2->seaborn) (1.16.0)\n"
     ]
    }
   ],
   "source": [
    "! pip install -q pytorch-lightning\n",
    "! pip install -q bs4\n",
    "! pip install -q transformers\n",
    "! pip install ipywidgets\n",
    "! pip install pandas\n",
    "! pip install sklearn\n",
    "! pip install seaborn"
   ]
  },
  {
   "cell_type": "code",
   "execution_count": 11,
   "metadata": {},
   "outputs": [],
   "source": [
    "# https://github.com/pnageshkar/NLP/blob/master/Medium/Multi_label_Classification_BERT_Lightning.ipynb\n",
    "# Import all libraries\n",
    "import pandas as pd\n",
    "import numpy as np\n",
    "import re\n",
    "\n",
    "# Huggingface transformers\n",
    "import transformers\n",
    "from transformers import BertModel,BertTokenizer,AdamW, get_linear_schedule_with_warmup\n",
    "\n",
    "import torch\n",
    "from torch import nn ,cuda\n",
    "from torch.utils.data import DataLoader,Dataset,RandomSampler, SequentialSampler\n",
    "\n",
    "import pytorch_lightning as pl\n",
    "from pytorch_lightning.callbacks import ModelCheckpoint\n",
    "\n",
    "from sklearn.model_selection import train_test_split\n",
    "from sklearn.metrics import accuracy_score, precision_recall_fscore_support\n",
    "\n",
    "#handling html data\n",
    "from bs4 import BeautifulSoup\n",
    "\n",
    "import seaborn as sns\n",
    "from pylab import rcParams\n",
    "import matplotlib.pyplot as plt\n",
    "from matplotlib import rc\n",
    "%matplotlib inline\n",
    "\n",
    "RANDOM_SEED = 42\n",
    "np.random.seed(RANDOM_SEED)\n",
    "torch.manual_seed(RANDOM_SEED)\n",
    "\n",
    "device = torch.device(\"cuda:0\" if torch.cuda.is_available() else \"cpu\")"
   ]
  },
  {
   "cell_type": "code",
   "execution_count": 12,
   "metadata": {},
   "outputs": [],
   "source": [
    "# load the questions data set\n",
    "df_questionsA=pd.read_csv(\"U:/computer/Python BERT/CFA data/NAXION_Q5_top13text_for_BERT.csv\", encoding='iso-8859-1')\n",
    "#load the tags dataset\n",
    "#df_tagsA=pd.read_csv(\"U:\\computer\\Python BERT\\Kaggle tag data\\Tags.csv\", encoding='iso-8859-1')\n",
    "\n",
    "df_tagsA=pd.read_csv(\"U:/computer/Python BERT/CFA data/NAXION_Q5_top13tags_for_BERT.csv\", encoding='iso-8859-1')"
   ]
  },
  {
   "cell_type": "code",
   "execution_count": 13,
   "metadata": {},
   "outputs": [
    {
     "data": {
      "text/plain": [
       "(1378, 3)"
      ]
     },
     "execution_count": 13,
     "metadata": {},
     "output_type": "execute_result"
    }
   ],
   "source": [
    "df_questionsA.shape"
   ]
  },
  {
   "cell_type": "code",
   "execution_count": 14,
   "metadata": {},
   "outputs": [
    {
     "data": {
      "text/plain": [
       "(1975, 3)"
      ]
     },
     "execution_count": 14,
     "metadata": {},
     "output_type": "execute_result"
    }
   ],
   "source": [
    "df_tagsA.shape"
   ]
  },
  {
   "cell_type": "code",
   "execution_count": 15,
   "metadata": {},
   "outputs": [
    {
     "data": {
      "text/html": [
       "<div>\n",
       "<style scoped>\n",
       "    .dataframe tbody tr th:only-of-type {\n",
       "        vertical-align: middle;\n",
       "    }\n",
       "\n",
       "    .dataframe tbody tr th {\n",
       "        vertical-align: top;\n",
       "    }\n",
       "\n",
       "    .dataframe thead th {\n",
       "        text-align: right;\n",
       "    }\n",
       "</style>\n",
       "<table border=\"1\" class=\"dataframe\">\n",
       "  <thead>\n",
       "    <tr style=\"text-align: right;\">\n",
       "      <th></th>\n",
       "      <th>Unnamed: 0</th>\n",
       "      <th>Id</th>\n",
       "      <th>Body</th>\n",
       "    </tr>\n",
       "  </thead>\n",
       "  <tbody>\n",
       "    <tr>\n",
       "      <th>0</th>\n",
       "      <td>1</td>\n",
       "      <td>1</td>\n",
       "      <td>Adding headcount to assist with volume of work</td>\n",
       "    </tr>\n",
       "    <tr>\n",
       "      <th>1</th>\n",
       "      <td>3</td>\n",
       "      <td>3</td>\n",
       "      <td>Understanding that we need to focus on improvi...</td>\n",
       "    </tr>\n",
       "    <tr>\n",
       "      <th>2</th>\n",
       "      <td>8</td>\n",
       "      <td>8</td>\n",
       "      <td>Which systems to use - Seems like we have mult...</td>\n",
       "    </tr>\n",
       "    <tr>\n",
       "      <th>3</th>\n",
       "      <td>9</td>\n",
       "      <td>9</td>\n",
       "      <td>The program we use to pick is very limited in ...</td>\n",
       "    </tr>\n",
       "    <tr>\n",
       "      <th>4</th>\n",
       "      <td>10</td>\n",
       "      <td>10</td>\n",
       "      <td>Communication within the business - CFA Supply...</td>\n",
       "    </tr>\n",
       "  </tbody>\n",
       "</table>\n",
       "</div>"
      ],
      "text/plain": [
       "   Unnamed: 0  Id                                               Body\n",
       "0           1   1     Adding headcount to assist with volume of work\n",
       "1           3   3  Understanding that we need to focus on improvi...\n",
       "2           8   8  Which systems to use - Seems like we have mult...\n",
       "3           9   9  The program we use to pick is very limited in ...\n",
       "4          10  10  Communication within the business - CFA Supply..."
      ]
     },
     "execution_count": 15,
     "metadata": {},
     "output_type": "execute_result"
    }
   ],
   "source": [
    "df_questionsA.head()"
   ]
  },
  {
   "cell_type": "code",
   "execution_count": 16,
   "metadata": {},
   "outputs": [
    {
     "data": {
      "text/html": [
       "<div>\n",
       "<style scoped>\n",
       "    .dataframe tbody tr th:only-of-type {\n",
       "        vertical-align: middle;\n",
       "    }\n",
       "\n",
       "    .dataframe tbody tr th {\n",
       "        vertical-align: top;\n",
       "    }\n",
       "\n",
       "    .dataframe thead th {\n",
       "        text-align: right;\n",
       "    }\n",
       "</style>\n",
       "<table border=\"1\" class=\"dataframe\">\n",
       "  <thead>\n",
       "    <tr style=\"text-align: right;\">\n",
       "      <th></th>\n",
       "      <th>Unnamed: 0</th>\n",
       "      <th>Id</th>\n",
       "      <th>Body</th>\n",
       "    </tr>\n",
       "  </thead>\n",
       "  <tbody>\n",
       "    <tr>\n",
       "      <th>600</th>\n",
       "      <td>1315</td>\n",
       "      <td>1315</td>\n",
       "      <td>It does feel like many times, out of way too m...</td>\n",
       "    </tr>\n",
       "    <tr>\n",
       "      <th>601</th>\n",
       "      <td>1316</td>\n",
       "      <td>1316</td>\n",
       "      <td>How we work together. Lack of process creates ...</td>\n",
       "    </tr>\n",
       "    <tr>\n",
       "      <th>602</th>\n",
       "      <td>1318</td>\n",
       "      <td>1318</td>\n",
       "      <td>Strategically how CFA Staff is used to stand u...</td>\n",
       "    </tr>\n",
       "    <tr>\n",
       "      <th>603</th>\n",
       "      <td>1319</td>\n",
       "      <td>1319</td>\n",
       "      <td>It is difficult for me to think of improvement...</td>\n",
       "    </tr>\n",
       "    <tr>\n",
       "      <th>604</th>\n",
       "      <td>1321</td>\n",
       "      <td>1321</td>\n",
       "      <td>Hiring talent that may not want to relocate or...</td>\n",
       "    </tr>\n",
       "    <tr>\n",
       "      <th>605</th>\n",
       "      <td>1326</td>\n",
       "      <td>1326</td>\n",
       "      <td>How much resourcing to provide for Internation...</td>\n",
       "    </tr>\n",
       "    <tr>\n",
       "      <th>606</th>\n",
       "      <td>1330</td>\n",
       "      <td>1330</td>\n",
       "      <td>Speed of decision making.</td>\n",
       "    </tr>\n",
       "    <tr>\n",
       "      <th>607</th>\n",
       "      <td>1331</td>\n",
       "      <td>1331</td>\n",
       "      <td>CFA tends to hesitate too much when making dec...</td>\n",
       "    </tr>\n",
       "    <tr>\n",
       "      <th>608</th>\n",
       "      <td>1332</td>\n",
       "      <td>1332</td>\n",
       "      <td>While we generally hire high-quality people, I...</td>\n",
       "    </tr>\n",
       "    <tr>\n",
       "      <th>609</th>\n",
       "      <td>1333</td>\n",
       "      <td>1333</td>\n",
       "      <td>More detailed direction and action plan on dep...</td>\n",
       "    </tr>\n",
       "  </tbody>\n",
       "</table>\n",
       "</div>"
      ],
      "text/plain": [
       "     Unnamed: 0    Id                                               Body\n",
       "600        1315  1315  It does feel like many times, out of way too m...\n",
       "601        1316  1316  How we work together. Lack of process creates ...\n",
       "602        1318  1318  Strategically how CFA Staff is used to stand u...\n",
       "603        1319  1319  It is difficult for me to think of improvement...\n",
       "604        1321  1321  Hiring talent that may not want to relocate or...\n",
       "605        1326  1326  How much resourcing to provide for Internation...\n",
       "606        1330  1330                          Speed of decision making.\n",
       "607        1331  1331  CFA tends to hesitate too much when making dec...\n",
       "608        1332  1332  While we generally hire high-quality people, I...\n",
       "609        1333  1333  More detailed direction and action plan on dep..."
      ]
     },
     "execution_count": 16,
     "metadata": {},
     "output_type": "execute_result"
    }
   ],
   "source": [
    "df_questionsA[600:610]"
   ]
  },
  {
   "cell_type": "code",
   "execution_count": 17,
   "metadata": {},
   "outputs": [
    {
     "data": {
      "text/html": [
       "<div>\n",
       "<style scoped>\n",
       "    .dataframe tbody tr th:only-of-type {\n",
       "        vertical-align: middle;\n",
       "    }\n",
       "\n",
       "    .dataframe tbody tr th {\n",
       "        vertical-align: top;\n",
       "    }\n",
       "\n",
       "    .dataframe thead th {\n",
       "        text-align: right;\n",
       "    }\n",
       "</style>\n",
       "<table border=\"1\" class=\"dataframe\">\n",
       "  <thead>\n",
       "    <tr style=\"text-align: right;\">\n",
       "      <th></th>\n",
       "      <th>Unnamed: 0</th>\n",
       "      <th>Id</th>\n",
       "      <th>Tag</th>\n",
       "    </tr>\n",
       "  </thead>\n",
       "  <tbody>\n",
       "    <tr>\n",
       "      <th>0</th>\n",
       "      <td>1</td>\n",
       "      <td>1</td>\n",
       "      <td>2</td>\n",
       "    </tr>\n",
       "    <tr>\n",
       "      <th>1</th>\n",
       "      <td>2</td>\n",
       "      <td>3</td>\n",
       "      <td>4</td>\n",
       "    </tr>\n",
       "    <tr>\n",
       "      <th>2</th>\n",
       "      <td>3</td>\n",
       "      <td>3</td>\n",
       "      <td>54</td>\n",
       "    </tr>\n",
       "    <tr>\n",
       "      <th>3</th>\n",
       "      <td>4</td>\n",
       "      <td>8</td>\n",
       "      <td>6</td>\n",
       "    </tr>\n",
       "    <tr>\n",
       "      <th>4</th>\n",
       "      <td>5</td>\n",
       "      <td>9</td>\n",
       "      <td>53</td>\n",
       "    </tr>\n",
       "  </tbody>\n",
       "</table>\n",
       "</div>"
      ],
      "text/plain": [
       "   Unnamed: 0  Id  Tag\n",
       "0           1   1    2\n",
       "1           2   3    4\n",
       "2           3   3   54\n",
       "3           4   8    6\n",
       "4           5   9   53"
      ]
     },
     "execution_count": 17,
     "metadata": {},
     "output_type": "execute_result"
    }
   ],
   "source": [
    "df_tagsA.head()"
   ]
  },
  {
   "cell_type": "code",
   "execution_count": 18,
   "metadata": {},
   "outputs": [],
   "source": [
    "#take a subset of the data so the code runs faster\n",
    "#df_questions=df_questionsA[1:50000]\n",
    "#df_tags=df_tagsA[1:50000]\n",
    "df_questions=df_questionsA\n",
    "df_tags=df_tagsA\n"
   ]
  },
  {
   "cell_type": "code",
   "execution_count": 19,
   "metadata": {},
   "outputs": [],
   "source": [
    "#Pre process the data\n",
    "\n",
    "def pre_process(text):\n",
    "\n",
    "  text = BeautifulSoup(text).get_text()\n",
    "  \n",
    "  # fetch alphabetic characters\n",
    "  text = re.sub(\"[^a-zA-Z]\", \" \", text)\n",
    "\n",
    "  # convert text to lower case\n",
    "  text = text.lower()\n",
    "\n",
    "  # split text into tokens to remove whitespaces\n",
    "  tokens = text.split()\n",
    "\n",
    "  return \" \".join(tokens)"
   ]
  },
  {
   "cell_type": "code",
   "execution_count": 20,
   "metadata": {},
   "outputs": [
    {
     "name": "stderr",
     "output_type": "stream",
     "text": [
      "C:\\Users\\elainez\\AppData\\Local\\Packages\\PythonSoftwareFoundation.Python.3.9_qbz5n2kfra8p0\\LocalCache\\local-packages\\Python39\\site-packages\\bs4\\__init__.py:435: MarkupResemblesLocatorWarning: The input looks more like a filename than markup. You may want to open this file and pass the filehandle into Beautiful Soup.\n",
      "  warnings.warn(\n"
     ]
    }
   ],
   "source": [
    "# clean the text in Body column\n",
    "df_questions['Clean_Body'] = df_questions['Body'].apply(pre_process)\n",
    "#df_all['Clean_Body'] = df_all['Body'].apply(pre_process)\n",
    "#df_questions['Clean_Body'] = df_questions['Body'].str.lower()"
   ]
  },
  {
   "cell_type": "code",
   "execution_count": 21,
   "metadata": {},
   "outputs": [
    {
     "data": {
      "text/html": [
       "<div>\n",
       "<style scoped>\n",
       "    .dataframe tbody tr th:only-of-type {\n",
       "        vertical-align: middle;\n",
       "    }\n",
       "\n",
       "    .dataframe tbody tr th {\n",
       "        vertical-align: top;\n",
       "    }\n",
       "\n",
       "    .dataframe thead th {\n",
       "        text-align: right;\n",
       "    }\n",
       "</style>\n",
       "<table border=\"1\" class=\"dataframe\">\n",
       "  <thead>\n",
       "    <tr style=\"text-align: right;\">\n",
       "      <th></th>\n",
       "      <th>Unnamed: 0</th>\n",
       "      <th>Id</th>\n",
       "      <th>Body</th>\n",
       "      <th>Clean_Body</th>\n",
       "    </tr>\n",
       "  </thead>\n",
       "  <tbody>\n",
       "    <tr>\n",
       "      <th>0</th>\n",
       "      <td>1</td>\n",
       "      <td>1</td>\n",
       "      <td>Adding headcount to assist with volume of work</td>\n",
       "      <td>adding headcount to assist with volume of work</td>\n",
       "    </tr>\n",
       "    <tr>\n",
       "      <th>1</th>\n",
       "      <td>3</td>\n",
       "      <td>3</td>\n",
       "      <td>Understanding that we need to focus on improvi...</td>\n",
       "      <td>understanding that we need to focus on improvi...</td>\n",
       "    </tr>\n",
       "    <tr>\n",
       "      <th>2</th>\n",
       "      <td>8</td>\n",
       "      <td>8</td>\n",
       "      <td>Which systems to use - Seems like we have mult...</td>\n",
       "      <td>which systems to use seems like we have multip...</td>\n",
       "    </tr>\n",
       "    <tr>\n",
       "      <th>3</th>\n",
       "      <td>9</td>\n",
       "      <td>9</td>\n",
       "      <td>The program we use to pick is very limited in ...</td>\n",
       "      <td>the program we use to pick is very limited in ...</td>\n",
       "    </tr>\n",
       "    <tr>\n",
       "      <th>4</th>\n",
       "      <td>10</td>\n",
       "      <td>10</td>\n",
       "      <td>Communication within the business - CFA Supply...</td>\n",
       "      <td>communication within the business cfa supply c...</td>\n",
       "    </tr>\n",
       "  </tbody>\n",
       "</table>\n",
       "</div>"
      ],
      "text/plain": [
       "   Unnamed: 0  Id                                               Body  \\\n",
       "0           1   1     Adding headcount to assist with volume of work   \n",
       "1           3   3  Understanding that we need to focus on improvi...   \n",
       "2           8   8  Which systems to use - Seems like we have mult...   \n",
       "3           9   9  The program we use to pick is very limited in ...   \n",
       "4          10  10  Communication within the business - CFA Supply...   \n",
       "\n",
       "                                          Clean_Body  \n",
       "0     adding headcount to assist with volume of work  \n",
       "1  understanding that we need to focus on improvi...  \n",
       "2  which systems to use seems like we have multip...  \n",
       "3  the program we use to pick is very limited in ...  \n",
       "4  communication within the business cfa supply c...  "
      ]
     },
     "execution_count": 21,
     "metadata": {},
     "output_type": "execute_result"
    }
   ],
   "source": [
    "#possiblity 1\n",
    "#df_all['Clean_Body'] = re.sub(\"[^a-zA-Z]\", \" \", df_all['Clean_Body'])\n",
    "df_questions.head()"
   ]
  },
  {
   "cell_type": "code",
   "execution_count": 22,
   "metadata": {},
   "outputs": [
    {
     "data": {
      "text/plain": [
       "'Understanding that we need to focus on improving our current operations and streamlining it while we thinking about growth and the future'"
      ]
     },
     "execution_count": 22,
     "metadata": {},
     "output_type": "execute_result"
    }
   ],
   "source": [
    "df_questions['Body'][1]"
   ]
  },
  {
   "cell_type": "code",
   "execution_count": 23,
   "metadata": {},
   "outputs": [
    {
     "data": {
      "text/plain": [
       "'understanding that we need to focus on improving our current operations and streamlining it while we thinking about growth and the future'"
      ]
     },
     "execution_count": 23,
     "metadata": {},
     "output_type": "execute_result"
    }
   ],
   "source": [
    "df_questions['Clean_Body'][1]"
   ]
  },
  {
   "cell_type": "code",
   "execution_count": 24,
   "metadata": {},
   "outputs": [
    {
     "data": {
      "text/plain": [
       "13"
      ]
     },
     "execution_count": 24,
     "metadata": {},
     "output_type": "execute_result"
    }
   ],
   "source": [
    "# count of unique tags\n",
    "len(df_tags['Tag'].unique())"
   ]
  },
  {
   "cell_type": "code",
   "execution_count": 25,
   "metadata": {},
   "outputs": [
    {
     "data": {
      "text/plain": [
       "53    300\n",
       "13    275\n",
       "2     221\n",
       "54    157\n",
       "70    157\n",
       "52    152\n",
       "3     135\n",
       "6     114\n",
       "4     102\n",
       "12    101\n",
       "7      91\n",
       "8      85\n",
       "69     85\n",
       "Name: Tag, dtype: int64"
      ]
     },
     "execution_count": 25,
     "metadata": {},
     "output_type": "execute_result"
    }
   ],
   "source": [
    "df_tags['Tag'].value_counts()[0:20]"
   ]
  },
  {
   "cell_type": "code",
   "execution_count": 26,
   "metadata": {},
   "outputs": [
    {
     "data": {
      "text/plain": [
       "53    300\n",
       "13    275\n",
       "2     221\n",
       "54    157\n",
       "70    157\n",
       "52    152\n",
       "3     135\n",
       "6     114\n",
       "4     102\n",
       "12    101\n",
       "7      91\n",
       "8      85\n",
       "69     85\n",
       "Name: Tag, dtype: int64"
      ]
     },
     "execution_count": 26,
     "metadata": {},
     "output_type": "execute_result"
    }
   ],
   "source": [
    "df_tags['Tag'].value_counts()"
   ]
  },
  {
   "cell_type": "code",
   "execution_count": 27,
   "metadata": {},
   "outputs": [
    {
     "data": {
      "text/html": [
       "<div>\n",
       "<style scoped>\n",
       "    .dataframe tbody tr th:only-of-type {\n",
       "        vertical-align: middle;\n",
       "    }\n",
       "\n",
       "    .dataframe tbody tr th {\n",
       "        vertical-align: top;\n",
       "    }\n",
       "\n",
       "    .dataframe thead th {\n",
       "        text-align: right;\n",
       "    }\n",
       "</style>\n",
       "<table border=\"1\" class=\"dataframe\">\n",
       "  <thead>\n",
       "    <tr style=\"text-align: right;\">\n",
       "      <th></th>\n",
       "      <th>Unnamed: 0</th>\n",
       "      <th>Id</th>\n",
       "      <th>Tag</th>\n",
       "    </tr>\n",
       "  </thead>\n",
       "  <tbody>\n",
       "    <tr>\n",
       "      <th>0</th>\n",
       "      <td>1</td>\n",
       "      <td>1</td>\n",
       "      <td>2</td>\n",
       "    </tr>\n",
       "    <tr>\n",
       "      <th>1</th>\n",
       "      <td>2</td>\n",
       "      <td>3</td>\n",
       "      <td>4</td>\n",
       "    </tr>\n",
       "    <tr>\n",
       "      <th>2</th>\n",
       "      <td>3</td>\n",
       "      <td>3</td>\n",
       "      <td>54</td>\n",
       "    </tr>\n",
       "    <tr>\n",
       "      <th>3</th>\n",
       "      <td>4</td>\n",
       "      <td>8</td>\n",
       "      <td>6</td>\n",
       "    </tr>\n",
       "    <tr>\n",
       "      <th>4</th>\n",
       "      <td>5</td>\n",
       "      <td>9</td>\n",
       "      <td>53</td>\n",
       "    </tr>\n",
       "  </tbody>\n",
       "</table>\n",
       "</div>"
      ],
      "text/plain": [
       "   Unnamed: 0  Id  Tag\n",
       "0           1   1    2\n",
       "1           2   3    4\n",
       "2           3   3   54\n",
       "3           4   8    6\n",
       "4           5   9   53"
      ]
     },
     "execution_count": 27,
     "metadata": {},
     "output_type": "execute_result"
    }
   ],
   "source": [
    "df_tags.head()"
   ]
  },
  {
   "cell_type": "code",
   "execution_count": 28,
   "metadata": {},
   "outputs": [],
   "source": [
    "# remove \"-\" from the tags\n",
    "#df_tags['Tag']= df_tags['Tag'].apply(lambda x:re.sub(\"-\",\" \",x))"
   ]
  },
  {
   "cell_type": "code",
   "execution_count": 29,
   "metadata": {},
   "outputs": [
    {
     "data": {
      "text/plain": [
       "Int64Index([53, 13, 2, 54, 70, 52, 3, 6, 4, 12, 7, 8, 69], dtype='int64')"
      ]
     },
     "execution_count": 29,
     "metadata": {},
     "output_type": "execute_result"
    }
   ],
   "source": [
    "# Consider only Top 10 tags - want to keep a smaller dataset\n",
    "#top_tags = df_tags['Tag'].value_counts().keys()[0:10]\n",
    "top_tags = df_tags['Tag'].value_counts().keys()[0:15]\n",
    "top_tags"
   ]
  },
  {
   "cell_type": "code",
   "execution_count": 30,
   "metadata": {},
   "outputs": [
    {
     "data": {
      "text/html": [
       "<div>\n",
       "<style scoped>\n",
       "    .dataframe tbody tr th:only-of-type {\n",
       "        vertical-align: middle;\n",
       "    }\n",
       "\n",
       "    .dataframe tbody tr th {\n",
       "        vertical-align: top;\n",
       "    }\n",
       "\n",
       "    .dataframe thead th {\n",
       "        text-align: right;\n",
       "    }\n",
       "</style>\n",
       "<table border=\"1\" class=\"dataframe\">\n",
       "  <thead>\n",
       "    <tr style=\"text-align: right;\">\n",
       "      <th></th>\n",
       "      <th>Id</th>\n",
       "      <th>tags</th>\n",
       "    </tr>\n",
       "  </thead>\n",
       "  <tbody>\n",
       "    <tr>\n",
       "      <th>0</th>\n",
       "      <td>1</td>\n",
       "      <td>[2]</td>\n",
       "    </tr>\n",
       "    <tr>\n",
       "      <th>1</th>\n",
       "      <td>3</td>\n",
       "      <td>[4, 54]</td>\n",
       "    </tr>\n",
       "    <tr>\n",
       "      <th>2</th>\n",
       "      <td>8</td>\n",
       "      <td>[6]</td>\n",
       "    </tr>\n",
       "    <tr>\n",
       "      <th>3</th>\n",
       "      <td>9</td>\n",
       "      <td>[53]</td>\n",
       "    </tr>\n",
       "    <tr>\n",
       "      <th>4</th>\n",
       "      <td>10</td>\n",
       "      <td>[8, 54]</td>\n",
       "    </tr>\n",
       "  </tbody>\n",
       "</table>\n",
       "</div>"
      ],
      "text/plain": [
       "   Id     tags\n",
       "0   1      [2]\n",
       "1   3  [4, 54]\n",
       "2   8      [6]\n",
       "3   9     [53]\n",
       "4  10  [8, 54]"
      ]
     },
     "execution_count": 30,
     "metadata": {},
     "output_type": "execute_result"
    }
   ],
   "source": [
    "# First group tags Id wise\n",
    "df_tags = df_tags.groupby('Id').apply(lambda x:x['Tag'].values).reset_index(name='tags')\n",
    "df_tags.head()"
   ]
  },
  {
   "cell_type": "code",
   "execution_count": 31,
   "metadata": {},
   "outputs": [],
   "source": [
    "# merge tags and questions datasets\n",
    "df = pd.merge(df_questions,df_tags,how='inner',on='Id')"
   ]
  },
  {
   "cell_type": "code",
   "execution_count": 32,
   "metadata": {},
   "outputs": [
    {
     "data": {
      "text/html": [
       "<div>\n",
       "<style scoped>\n",
       "    .dataframe tbody tr th:only-of-type {\n",
       "        vertical-align: middle;\n",
       "    }\n",
       "\n",
       "    .dataframe tbody tr th {\n",
       "        vertical-align: top;\n",
       "    }\n",
       "\n",
       "    .dataframe thead th {\n",
       "        text-align: right;\n",
       "    }\n",
       "</style>\n",
       "<table border=\"1\" class=\"dataframe\">\n",
       "  <thead>\n",
       "    <tr style=\"text-align: right;\">\n",
       "      <th></th>\n",
       "      <th>Unnamed: 0</th>\n",
       "      <th>Id</th>\n",
       "      <th>Body</th>\n",
       "      <th>Clean_Body</th>\n",
       "      <th>tags</th>\n",
       "    </tr>\n",
       "  </thead>\n",
       "  <tbody>\n",
       "    <tr>\n",
       "      <th>0</th>\n",
       "      <td>1</td>\n",
       "      <td>1</td>\n",
       "      <td>Adding headcount to assist with volume of work</td>\n",
       "      <td>adding headcount to assist with volume of work</td>\n",
       "      <td>[2]</td>\n",
       "    </tr>\n",
       "    <tr>\n",
       "      <th>1</th>\n",
       "      <td>3</td>\n",
       "      <td>3</td>\n",
       "      <td>Understanding that we need to focus on improvi...</td>\n",
       "      <td>understanding that we need to focus on improvi...</td>\n",
       "      <td>[4, 54]</td>\n",
       "    </tr>\n",
       "    <tr>\n",
       "      <th>2</th>\n",
       "      <td>8</td>\n",
       "      <td>8</td>\n",
       "      <td>Which systems to use - Seems like we have mult...</td>\n",
       "      <td>which systems to use seems like we have multip...</td>\n",
       "      <td>[6]</td>\n",
       "    </tr>\n",
       "    <tr>\n",
       "      <th>3</th>\n",
       "      <td>9</td>\n",
       "      <td>9</td>\n",
       "      <td>The program we use to pick is very limited in ...</td>\n",
       "      <td>the program we use to pick is very limited in ...</td>\n",
       "      <td>[53]</td>\n",
       "    </tr>\n",
       "    <tr>\n",
       "      <th>4</th>\n",
       "      <td>10</td>\n",
       "      <td>10</td>\n",
       "      <td>Communication within the business - CFA Supply...</td>\n",
       "      <td>communication within the business cfa supply c...</td>\n",
       "      <td>[8, 54]</td>\n",
       "    </tr>\n",
       "  </tbody>\n",
       "</table>\n",
       "</div>"
      ],
      "text/plain": [
       "   Unnamed: 0  Id                                               Body  \\\n",
       "0           1   1     Adding headcount to assist with volume of work   \n",
       "1           3   3  Understanding that we need to focus on improvi...   \n",
       "2           8   8  Which systems to use - Seems like we have mult...   \n",
       "3           9   9  The program we use to pick is very limited in ...   \n",
       "4          10  10  Communication within the business - CFA Supply...   \n",
       "\n",
       "                                          Clean_Body     tags  \n",
       "0     adding headcount to assist with volume of work      [2]  \n",
       "1  understanding that we need to focus on improvi...  [4, 54]  \n",
       "2  which systems to use seems like we have multip...      [6]  \n",
       "3  the program we use to pick is very limited in ...     [53]  \n",
       "4  communication within the business cfa supply c...  [8, 54]  "
      ]
     },
     "execution_count": 32,
     "metadata": {},
     "output_type": "execute_result"
    }
   ],
   "source": [
    "df.head()"
   ]
  },
  {
   "cell_type": "code",
   "execution_count": 33,
   "metadata": {},
   "outputs": [
    {
     "data": {
      "text/plain": [
       "(1378, 5)"
      ]
     },
     "execution_count": 33,
     "metadata": {},
     "output_type": "execute_result"
    }
   ],
   "source": [
    "df.shape"
   ]
  },
  {
   "cell_type": "code",
   "execution_count": 34,
   "metadata": {},
   "outputs": [],
   "source": [
    "df.to_csv(\"U:/computer/Python BERT/CFA data/outQ5top13_cleanbody.csv\")"
   ]
  },
  {
   "cell_type": "code",
   "execution_count": 35,
   "metadata": {},
   "outputs": [
    {
     "data": {
      "text/html": [
       "<div>\n",
       "<style scoped>\n",
       "    .dataframe tbody tr th:only-of-type {\n",
       "        vertical-align: middle;\n",
       "    }\n",
       "\n",
       "    .dataframe tbody tr th {\n",
       "        vertical-align: top;\n",
       "    }\n",
       "\n",
       "    .dataframe thead th {\n",
       "        text-align: right;\n",
       "    }\n",
       "</style>\n",
       "<table border=\"1\" class=\"dataframe\">\n",
       "  <thead>\n",
       "    <tr style=\"text-align: right;\">\n",
       "      <th></th>\n",
       "      <th>Clean_Body</th>\n",
       "      <th>tags</th>\n",
       "    </tr>\n",
       "  </thead>\n",
       "  <tbody>\n",
       "    <tr>\n",
       "      <th>0</th>\n",
       "      <td>adding headcount to assist with volume of work</td>\n",
       "      <td>[2]</td>\n",
       "    </tr>\n",
       "    <tr>\n",
       "      <th>1</th>\n",
       "      <td>understanding that we need to focus on improvi...</td>\n",
       "      <td>[4, 54]</td>\n",
       "    </tr>\n",
       "    <tr>\n",
       "      <th>2</th>\n",
       "      <td>which systems to use seems like we have multip...</td>\n",
       "      <td>[6]</td>\n",
       "    </tr>\n",
       "    <tr>\n",
       "      <th>3</th>\n",
       "      <td>the program we use to pick is very limited in ...</td>\n",
       "      <td>[53]</td>\n",
       "    </tr>\n",
       "    <tr>\n",
       "      <th>4</th>\n",
       "      <td>communication within the business cfa supply c...</td>\n",
       "      <td>[8, 54]</td>\n",
       "    </tr>\n",
       "  </tbody>\n",
       "</table>\n",
       "</div>"
      ],
      "text/plain": [
       "                                          Clean_Body     tags\n",
       "0     adding headcount to assist with volume of work      [2]\n",
       "1  understanding that we need to focus on improvi...  [4, 54]\n",
       "2  which systems to use seems like we have multip...      [6]\n",
       "3  the program we use to pick is very limited in ...     [53]\n",
       "4  communication within the business cfa supply c...  [8, 54]"
      ]
     },
     "execution_count": 35,
     "metadata": {},
     "output_type": "execute_result"
    }
   ],
   "source": [
    "# Retain only the columns we will use for training the model - Tags will be the label\n",
    "df = df[['Clean_Body','tags']]\n",
    "df.head()"
   ]
  },
  {
   "cell_type": "code",
   "execution_count": 36,
   "metadata": {},
   "outputs": [
    {
     "data": {
      "text/plain": [
       "(1378, 2)"
      ]
     },
     "execution_count": 36,
     "metadata": {},
     "output_type": "execute_result"
    }
   ],
   "source": [
    "df.shape"
   ]
  },
  {
   "cell_type": "code",
   "execution_count": 37,
   "metadata": {},
   "outputs": [],
   "source": [
    "#df.to_csv(\"clean_question_tag.csv\")"
   ]
  },
  {
   "cell_type": "code",
   "execution_count": 38,
   "metadata": {},
   "outputs": [],
   "source": [
    "# Filter out records ( values in clean_body and tags) that have atleast one of the top tags\n",
    "\n",
    "x=[] # To store the filtered clean_body values\n",
    "y=[] # to store the corresponding tags\n",
    "# Convert to list data type\n",
    "lst_top_tags = list(top_tags)\n",
    "\n",
    "for i in range(len(df['tags'])):\n",
    "    temp=[]\n",
    "    for tag in df['tags'][i]:\n",
    "        if tag in lst_top_tags:\n",
    "            temp.append(tag)\n",
    "\n",
    "    if(len(temp)>0):\n",
    "        x.append(df['Clean_Body'][i])\n",
    "        y.append(temp)"
   ]
  },
  {
   "cell_type": "code",
   "execution_count": 39,
   "metadata": {},
   "outputs": [
    {
     "data": {
      "text/plain": [
       "1378"
      ]
     },
     "execution_count": 39,
     "metadata": {},
     "output_type": "execute_result"
    }
   ],
   "source": [
    "# number of records that will be used for training and testing\n",
    "len(x)"
   ]
  },
  {
   "cell_type": "code",
   "execution_count": 40,
   "metadata": {},
   "outputs": [
    {
     "data": {
      "text/plain": [
       "['adding', 'headcount', 'to', 'assist', 'with', 'volume', 'of', 'work']"
      ]
     },
     "execution_count": 40,
     "metadata": {},
     "output_type": "execute_result"
    }
   ],
   "source": [
    "xx=x[0]\n",
    "xx.split()"
   ]
  },
  {
   "cell_type": "code",
   "execution_count": 41,
   "metadata": {},
   "outputs": [
    {
     "data": {
      "text/plain": [
       "(1378, 13)"
      ]
     },
     "execution_count": 41,
     "metadata": {},
     "output_type": "execute_result"
    }
   ],
   "source": [
    "# Encode the tags(labels) in a binary format in order to be used for training\n",
    "\n",
    "from sklearn.preprocessing import MultiLabelBinarizer\n",
    "mlb = MultiLabelBinarizer()\n",
    " \n",
    "yt = mlb.fit_transform(y)\n",
    "yt.shape"
   ]
  },
  {
   "cell_type": "code",
   "execution_count": 42,
   "metadata": {},
   "outputs": [
    {
     "name": "stdout",
     "output_type": "stream",
     "text": [
      "[1 0 0 0 0 0 0 0 0 0 0 0 0]\n",
      "[(2,)]\n",
      "[2 3 4 6 7 8 12 13 52 53 54 69 70]\n"
     ]
    }
   ],
   "source": [
    "# Getting a sense of how the tags data looks like\n",
    "print(yt[0])\n",
    "print(mlb.inverse_transform(yt[0].reshape(1,-1)))\n",
    "print(mlb.classes_)"
   ]
  },
  {
   "cell_type": "code",
   "execution_count": 43,
   "metadata": {},
   "outputs": [
    {
     "data": {
      "text/plain": [
       "1378"
      ]
     },
     "execution_count": 43,
     "metadata": {},
     "output_type": "execute_result"
    }
   ],
   "source": [
    "len(x)"
   ]
  },
  {
   "cell_type": "code",
   "execution_count": 44,
   "metadata": {},
   "outputs": [
    {
     "data": {
      "text/plain": [
       "'while we generally hire high quality people i ve noticed a trend of waning stewardship in newer staff when it comes to technology there s an attitude of i want it and chick fil a has the money where i feel like five years ago there was more of an attitude of saying do i really need this all of that to say i feel like we need to be instilling stewardship into newer hires and reminding others of what stewardship really looks like'"
      ]
     },
     "execution_count": 44,
     "metadata": {},
     "output_type": "execute_result"
    }
   ],
   "source": [
    "x[608]"
   ]
  },
  {
   "cell_type": "code",
   "execution_count": 45,
   "metadata": {},
   "outputs": [
    {
     "data": {
      "text/plain": [
       "['while',\n",
       " 'we',\n",
       " 'generally',\n",
       " 'hire',\n",
       " 'high',\n",
       " 'quality',\n",
       " 'people',\n",
       " 'i',\n",
       " 've',\n",
       " 'noticed',\n",
       " 'a',\n",
       " 'trend',\n",
       " 'of',\n",
       " 'waning',\n",
       " 'stewardship',\n",
       " 'in',\n",
       " 'newer',\n",
       " 'staff',\n",
       " 'when',\n",
       " 'it',\n",
       " 'comes',\n",
       " 'to',\n",
       " 'technology',\n",
       " 'there',\n",
       " 's',\n",
       " 'an',\n",
       " 'attitude',\n",
       " 'of',\n",
       " 'i',\n",
       " 'want',\n",
       " 'it',\n",
       " 'and',\n",
       " 'chick',\n",
       " 'fil',\n",
       " 'a',\n",
       " 'has',\n",
       " 'the',\n",
       " 'money',\n",
       " 'where',\n",
       " 'i',\n",
       " 'feel',\n",
       " 'like',\n",
       " 'five',\n",
       " 'years',\n",
       " 'ago',\n",
       " 'there',\n",
       " 'was',\n",
       " 'more',\n",
       " 'of',\n",
       " 'an',\n",
       " 'attitude',\n",
       " 'of',\n",
       " 'saying',\n",
       " 'do',\n",
       " 'i',\n",
       " 'really',\n",
       " 'need',\n",
       " 'this',\n",
       " 'all',\n",
       " 'of',\n",
       " 'that',\n",
       " 'to',\n",
       " 'say',\n",
       " 'i',\n",
       " 'feel',\n",
       " 'like',\n",
       " 'we',\n",
       " 'need',\n",
       " 'to',\n",
       " 'be',\n",
       " 'instilling',\n",
       " 'stewardship',\n",
       " 'into',\n",
       " 'newer',\n",
       " 'hires',\n",
       " 'and',\n",
       " 'reminding',\n",
       " 'others',\n",
       " 'of',\n",
       " 'what',\n",
       " 'stewardship',\n",
       " 'really',\n",
       " 'looks',\n",
       " 'like']"
      ]
     },
     "execution_count": 45,
     "metadata": {},
     "output_type": "execute_result"
    }
   ],
   "source": [
    "xx=x[608]\n",
    "xx.split()"
   ]
  },
  {
   "cell_type": "code",
   "execution_count": 46,
   "metadata": {},
   "outputs": [
    {
     "data": {
      "image/png": "[encoded data removed]",
      "text/plain": [
       "<Figure size 800x500 with 1 Axes>"
      ]
     },
     "metadata": {},
     "output_type": "display_data"
    }
   ],
   "source": [
    "# compute no. of words in each question\n",
    "questions = x\n",
    "word_cnt = [len(quest.split()) for quest in questions]\n",
    "# Plot the distribution\n",
    "plt.figure(figsize=[8,5])\n",
    "plt.hist(word_cnt, bins = 40)\n",
    "plt.xlabel('Word Count/Question')\n",
    "plt.ylabel('# of Occurences')\n",
    "plt.title(\"Frequency of Word Counts/sentence\")\n",
    "plt.show()"
   ]
  },
  {
   "cell_type": "code",
   "execution_count": 47,
   "metadata": {},
   "outputs": [],
   "source": [
    "#Split into train, validate and test\n",
    "#from sklearn.model_selection import train_test_split\n",
    "# First Split for Train and Test\n",
    "#x_train,x_test,y_train,y_test = train_test_split(x, yt, test_size=0.2, random_state=RANDOM_SEED,shuffle=True)\n",
    "# Next split Train in to training and validation\n",
    "#x_tr,x_val,y_tr,y_val = train_test_split(x_train, y_train, test_size=0.2, random_state=RANDOM_SEED,shuffle=True)"
   ]
  },
  {
   "cell_type": "code",
   "execution_count": 48,
   "metadata": {},
   "outputs": [],
   "source": [
    "#Use all data for training\n",
    "#Use all data for scoring\n",
    "from sklearn.model_selection import train_test_split\n",
    "x_train=x\n",
    "x_test=x\n",
    "y_train=yt\n",
    "y_test=yt\n",
    "x_tr,x_val,y_tr,y_val = train_test_split(x_train, y_train, test_size=0.5, random_state=RANDOM_SEED,shuffle=True)"
   ]
  },
  {
   "cell_type": "code",
   "execution_count": 49,
   "metadata": {},
   "outputs": [
    {
     "data": {
      "text/plain": [
       "(964, 414, 1378)"
      ]
     },
     "execution_count": 49,
     "metadata": {},
     "output_type": "execute_result"
    }
   ],
   "source": [
    "len(x_tr) ,len(x_val), len(x_test)"
   ]
  },
  {
   "cell_type": "code",
   "execution_count": 50,
   "metadata": {},
   "outputs": [],
   "source": [
    "#prepare the dataset and datamodule\n",
    "#First create QTagDataset class based on the Dataset class,that readies the text in a format needed for the BERT Model\n",
    "class QTagDataset (Dataset):\n",
    "    def __init__(self,quest,tags, tokenizer, max_len):\n",
    "        self.tokenizer = tokenizer\n",
    "        self.text = quest\n",
    "        self.labels = tags\n",
    "        self.max_len = max_len\n",
    "        \n",
    "    def __len__(self):\n",
    "        return len(self.text)\n",
    "    \n",
    "    def __getitem__(self, item_idx):\n",
    "        text = self.text[item_idx]\n",
    "        inputs = self.tokenizer.encode_plus(\n",
    "            text,\n",
    "            None,\n",
    "            add_special_tokens=True, # Add [CLS] [SEP]\n",
    "            max_length= self.max_len,\n",
    "            padding = 'max_length',\n",
    "            return_token_type_ids= False,\n",
    "            return_attention_mask= True, # Differentiates padded vs normal token\n",
    "            truncation=True, # Truncate data beyond max length\n",
    "            return_tensors = 'pt' # PyTorch Tensor format\n",
    "          )\n",
    "        \n",
    "        input_ids = inputs['input_ids'].flatten()\n",
    "        attn_mask = inputs['attention_mask'].flatten()\n",
    "        #token_type_ids = inputs[\"token_type_ids\"]\n",
    "        \n",
    "        return {\n",
    "            'input_ids': input_ids ,\n",
    "            'attention_mask': attn_mask,\n",
    "            'label': torch.tensor(self.labels[item_idx], dtype=torch.float)\n",
    "            \n",
    "        }"
   ]
  },
  {
   "cell_type": "code",
   "execution_count": 51,
   "metadata": {},
   "outputs": [],
   "source": [
    "#Since we are using Pytorch Lightning for Model training - we will setup the QTagDataModule class that is derived from the LightningDataModuleclass QTagDataModule (pl.LightningDataModule):\n",
    "    \n",
    "class QTagDataModule (pl.LightningDataModule):\n",
    "    \n",
    "    def __init__(self,x_tr,y_tr,x_val,y_val,x_test,y_test,tokenizer,batch_size=16,max_token_len=200):\n",
    "        super().__init__()\n",
    "        self.tr_text = x_tr\n",
    "        self.tr_label = y_tr\n",
    "        self.val_text = x_val\n",
    "        self.val_label = y_val\n",
    "        self.test_text = x_test\n",
    "        self.test_label = y_test\n",
    "        self.tokenizer = tokenizer\n",
    "        self.batch_size = batch_size\n",
    "        self.max_token_len = max_token_len\n",
    "\n",
    "    def setup(self, stage=None):\n",
    "        self.train_dataset = QTagDataset(quest=self.tr_text, tags=self.tr_label, tokenizer=self.tokenizer,max_len = self.max_token_len)\n",
    "        self.val_dataset  = QTagDataset(quest=self.val_text,tags=self.val_label,tokenizer=self.tokenizer,max_len = self.max_token_len)\n",
    "        self.test_dataset  = QTagDataset(quest=self.test_text,tags=self.test_label,tokenizer=self.tokenizer,max_len = self.max_token_len)\n",
    "        \n",
    "        \n",
    "    def train_dataloader(self):\n",
    "        return DataLoader (self.train_dataset,batch_size = self.batch_size,shuffle = True , num_workers=0)\n",
    "\n",
    "    def val_dataloader(self):\n",
    "        return DataLoader (self.val_dataset,batch_size= 16)\n",
    "\n",
    "    def test_dataloader(self):\n",
    "        return DataLoader (self.test_dataset,batch_size= 16)"
   ]
  },
  {
   "cell_type": "code",
   "execution_count": 52,
   "metadata": {},
   "outputs": [],
   "source": [
    "# Initialize the Bert tokenizer\n",
    "BERT_MODEL_NAME = \"bert-base-cased\" # we will use the BERT base model(the smaller one)\n",
    "Bert_tokenizer = BertTokenizer.from_pretrained(BERT_MODEL_NAME)"
   ]
  },
  {
   "cell_type": "code",
   "execution_count": 53,
   "metadata": {},
   "outputs": [
    {
     "name": "stderr",
     "output_type": "stream",
     "text": [
      "Token indices sequence length is longer than the specified maximum sequence length for this model (688 > 512). Running this sequence through the model will result in indexing errors\n"
     ]
    },
    {
     "name": "stdout",
     "output_type": "stream",
     "text": [
      "# Question having word count > 300: is  5\n"
     ]
    }
   ],
   "source": [
    "max_word_cnt = 300\n",
    "quest_cnt = 0\n",
    "\n",
    "# For every sentence...\n",
    "for question in questions:\n",
    "\n",
    "    # Tokenize the text and add `[CLS]` and `[SEP]` tokens.\n",
    "    input_ids = Bert_tokenizer.encode(question, add_special_tokens=True)\n",
    "\n",
    "    # Update the maximum sentence length.\n",
    "    if len(input_ids) > max_word_cnt:\n",
    "        quest_cnt +=1\n",
    "\n",
    "print(f'# Question having word count > {max_word_cnt}: is  {quest_cnt}')"
   ]
  },
  {
   "cell_type": "code",
   "execution_count": 54,
   "metadata": {},
   "outputs": [],
   "source": [
    "# Initialize the parameters that will be use for training\n",
    "N_EPOCHS = 12\n",
    "BATCH_SIZE = 32\n",
    "MAX_LEN = 300\n",
    "LR = 2e-05"
   ]
  },
  {
   "cell_type": "code",
   "execution_count": 55,
   "metadata": {},
   "outputs": [],
   "source": [
    "# Instantiate and set up the data_module\n",
    "QTdata_module = QTagDataModule(x_tr,y_tr,x_val,y_val,x_test,y_test,Bert_tokenizer,BATCH_SIZE,MAX_LEN)\n",
    "QTdata_module.setup()"
   ]
  },
  {
   "cell_type": "code",
   "execution_count": 56,
   "metadata": {},
   "outputs": [],
   "source": [
    "#Train the Model\n",
    "#Setup the Multi-label Classifier Model - dervived from LightningModule , similar to nn.module of PyTorch\n",
    "class QTagClassifier(pl.LightningModule):\n",
    "    # Set up the classifier\n",
    "    def __init__(self, n_classes=13, steps_per_epoch=None, n_epochs=3, lr=2e-5 ):\n",
    "        super().__init__()\n",
    "\n",
    "        self.bert = BertModel.from_pretrained(BERT_MODEL_NAME, return_dict=True)\n",
    "        self.classifier = nn.Linear(self.bert.config.hidden_size,n_classes) # outputs = number of labels\n",
    "        self.steps_per_epoch = steps_per_epoch\n",
    "        self.n_epochs = n_epochs\n",
    "        self.lr = lr\n",
    "        self.criterion = nn.BCEWithLogitsLoss()\n",
    "        \n",
    "    def forward(self,input_ids, attn_mask):\n",
    "        output = self.bert(input_ids = input_ids ,attention_mask = attn_mask)\n",
    "        output = self.classifier(output.pooler_output)\n",
    "                \n",
    "        return output\n",
    "    \n",
    "    \n",
    "    def training_step(self,batch,batch_idx):\n",
    "        input_ids = batch['input_ids']\n",
    "        attention_mask = batch['attention_mask']\n",
    "        labels = batch['label']\n",
    "        \n",
    "        outputs = self(input_ids,attention_mask)\n",
    "        loss = self.criterion(outputs,labels)\n",
    "        self.log('train_loss',loss , prog_bar=True,logger=True)\n",
    "        \n",
    "        return {\"loss\" :loss, \"predictions\":outputs, \"labels\": labels }\n",
    "\n",
    "\n",
    "    def validation_step(self,batch,batch_idx):\n",
    "        input_ids = batch['input_ids']\n",
    "        attention_mask = batch['attention_mask']\n",
    "        labels = batch['label']\n",
    "        \n",
    "        outputs = self(input_ids,attention_mask)\n",
    "        loss = self.criterion(outputs,labels)\n",
    "        self.log('val_loss',loss , prog_bar=True,logger=True)\n",
    "        \n",
    "        return loss\n",
    "\n",
    "    def test_step(self,batch,batch_idx):\n",
    "        input_ids = batch['input_ids']\n",
    "        attention_mask = batch['attention_mask']\n",
    "        labels = batch['label']\n",
    "        \n",
    "        outputs = self(input_ids,attention_mask)\n",
    "        loss = self.criterion(outputs,labels)\n",
    "        self.log('test_loss',loss , prog_bar=True,logger=True)\n",
    "        \n",
    "        return loss\n",
    "    \n",
    "    \n",
    "    def configure_optimizers(self):\n",
    "        optimizer = AdamW(self.parameters() , lr=self.lr)\n",
    "        warmup_steps = self.steps_per_epoch//3\n",
    "        total_steps = self.steps_per_epoch * self.n_epochs - warmup_steps\n",
    "\n",
    "        scheduler = get_linear_schedule_with_warmup(optimizer,warmup_steps,total_steps)\n",
    "\n",
    "        return [optimizer], [scheduler]\n",
    "    "
   ]
  },
  {
   "cell_type": "code",
   "execution_count": 57,
   "metadata": {},
   "outputs": [
    {
     "name": "stderr",
     "output_type": "stream",
     "text": [
      "Some weights of the model checkpoint at bert-base-cased were not used when initializing BertModel: ['cls.predictions.transform.dense.bias', 'cls.seq_relationship.bias', 'cls.seq_relationship.weight', 'cls.predictions.decoder.weight', 'cls.predictions.transform.dense.weight', 'cls.predictions.transform.LayerNorm.bias', 'cls.predictions.transform.LayerNorm.weight', 'cls.predictions.bias']\n",
      "- This IS expected if you are initializing BertModel from the checkpoint of a model trained on another task or with another architecture (e.g. initializing a BertForSequenceClassification model from a BertForPreTraining model).\n",
      "- This IS NOT expected if you are initializing BertModel from the checkpoint of a model that you expect to be exactly identical (initializing a BertForSequenceClassification model from a BertForSequenceClassification model).\n"
     ]
    }
   ],
   "source": [
    "# Instantiate the classifier model\n",
    "steps_per_epoch = len(x_tr)//BATCH_SIZE\n",
    "model = QTagClassifier(n_classes=13, steps_per_epoch=steps_per_epoch,n_epochs=N_EPOCHS,lr=LR)"
   ]
  },
  {
   "cell_type": "code",
   "execution_count": 58,
   "metadata": {},
   "outputs": [],
   "source": [
    "#Initialize Pytorch Lightning callback for Model checkpointing\n",
    "\n",
    "# saves a file like: input/QTag-epoch=02-val_loss=0.32.ckpt\n",
    "checkpoint_callback = ModelCheckpoint(\n",
    "    monitor='val_loss',# monitored quantity\n",
    "    filename='QTag-{epoch:02d}-{val_loss:.2f}',\n",
    "    save_top_k=3, #  save the top 3 models\n",
    "    mode='min', # mode of the monitored quantity  for optimization\n",
    ")"
   ]
  },
  {
   "cell_type": "code",
   "execution_count": 59,
   "metadata": {},
   "outputs": [
    {
     "name": "stderr",
     "output_type": "stream",
     "text": [
      "GPU available: False, used: False\n",
      "TPU available: False, using: 0 TPU cores\n",
      "IPU available: False, using: 0 IPUs\n",
      "HPU available: False, using: 0 HPUs\n"
     ]
    }
   ],
   "source": [
    "# Instantiate the Model Trainer\n",
    "trainer = pl.Trainer(max_epochs = N_EPOCHS , callbacks=[checkpoint_callback])"
   ]
  },
  {
   "cell_type": "code",
   "execution_count": 60,
   "metadata": {},
   "outputs": [],
   "source": [
    "#torch.cuda.memory_summary(device=None, abbreviated=False)"
   ]
  },
  {
   "cell_type": "code",
   "execution_count": 61,
   "metadata": {},
   "outputs": [
    {
     "name": "stderr",
     "output_type": "stream",
     "text": [
      "C:\\Users\\elainez\\AppData\\Local\\Packages\\PythonSoftwareFoundation.Python.3.9_qbz5n2kfra8p0\\LocalCache\\local-packages\\Python39\\site-packages\\transformers\\optimization.py:306: FutureWarning: This implementation of AdamW is deprecated and will be removed in a future version. Use the PyTorch implementation torch.optim.AdamW instead, or set `no_deprecation_warning=True` to disable this warning\n",
      "  warnings.warn(\n",
      "\n",
      "  | Name       | Type              | Params\n",
      "-------------------------------------------------\n",
      "0 | bert       | BertModel         | 108 M \n",
      "1 | classifier | Linear            | 10.0 K\n",
      "2 | criterion  | BCEWithLogitsLoss | 0     \n",
      "-------------------------------------------------\n",
      "108 M     Trainable params\n",
      "0         Non-trainable params\n",
      "108 M     Total params\n",
      "433.281   Total estimated model params size (MB)\n"
     ]
    },
    {
     "data": {
      "application/json": {
       "ascii": false,
       "bar_format": null,
       "colour": null,
       "elapsed": 0.05601811408996582,
       "initial": 0,
       "n": 0,
       "ncols": null,
       "nrows": null,
       "postfix": null,
       "prefix": "Sanity Checking",
       "rate": null,
       "total": null,
       "unit": "it",
       "unit_divisor": 1000,
       "unit_scale": false
      },
      "application/vnd.jupyter.widget-view+json": {
       "model_id": "def3a908ed1541daa75df3023a495fb6",
       "version_major": 2,
       "version_minor": 0
      },
      "text/plain": [
       "Sanity Checking: 0it [00:00, ?it/s]"
      ]
     },
     "metadata": {},
     "output_type": "display_data"
    },
    {
     "name": "stderr",
     "output_type": "stream",
     "text": [
      "C:\\Users\\elainez\\AppData\\Local\\Packages\\PythonSoftwareFoundation.Python.3.9_qbz5n2kfra8p0\\LocalCache\\local-packages\\Python39\\site-packages\\pytorch_lightning\\trainer\\connectors\\data_connector.py:225: PossibleUserWarning: The dataloader, val_dataloader 0, does not have many workers which may be a bottleneck. Consider increasing the value of the `num_workers` argument` (try 36 which is the number of cpus on this machine) in the `DataLoader` init to improve performance.\n",
      "  rank_zero_warn(\n",
      "C:\\Users\\elainez\\AppData\\Local\\Packages\\PythonSoftwareFoundation.Python.3.9_qbz5n2kfra8p0\\LocalCache\\local-packages\\Python39\\site-packages\\pytorch_lightning\\trainer\\connectors\\data_connector.py:225: PossibleUserWarning: The dataloader, train_dataloader, does not have many workers which may be a bottleneck. Consider increasing the value of the `num_workers` argument` (try 36 which is the number of cpus on this machine) in the `DataLoader` init to improve performance.\n",
      "  rank_zero_warn(\n",
      "C:\\Users\\elainez\\AppData\\Local\\Packages\\PythonSoftwareFoundation.Python.3.9_qbz5n2kfra8p0\\LocalCache\\local-packages\\Python39\\site-packages\\pytorch_lightning\\trainer\\trainer.py:1892: PossibleUserWarning: The number of training batches (31) is smaller than the logging interval Trainer(log_every_n_steps=50). Set a lower value for log_every_n_steps if you want to see logs for the training epoch.\n",
      "  rank_zero_warn(\n"
     ]
    },
    {
     "data": {
      "application/json": {
       "ascii": false,
       "bar_format": null,
       "colour": null,
       "elapsed": 0.03599905967712402,
       "initial": 0,
       "n": 0,
       "ncols": null,
       "nrows": null,
       "postfix": null,
       "prefix": "Training",
       "rate": null,
       "total": null,
       "unit": "it",
       "unit_divisor": 1000,
       "unit_scale": false
      },
      "application/vnd.jupyter.widget-view+json": {
       "model_id": "cc5954bc743740fe93f1e40f6d8ce51e",
       "version_major": 2,
       "version_minor": 0
      },
      "text/plain": [
       "Training: 0it [00:00, ?it/s]"
      ]
     },
     "metadata": {},
     "output_type": "display_data"
    },
    {
     "data": {
      "application/json": {
       "ascii": false,
       "bar_format": null,
       "colour": null,
       "elapsed": 0.044003963470458984,
       "initial": 0,
       "n": 0,
       "ncols": null,
       "nrows": null,
       "postfix": null,
       "prefix": "Validation",
       "rate": null,
       "total": null,
       "unit": "it",
       "unit_divisor": 1000,
       "unit_scale": false
      },
      "application/vnd.jupyter.widget-view+json": {
       "model_id": "1f0b0546d7604bf18096dad0d7df5ed2",
       "version_major": 2,
       "version_minor": 0
      },
      "text/plain": [
       "Validation: 0it [00:00, ?it/s]"
      ]
     },
     "metadata": {},
     "output_type": "display_data"
    },
    {
     "data": {
      "application/json": {
       "ascii": false,
       "bar_format": null,
       "colour": null,
       "elapsed": 0.027998924255371094,
       "initial": 0,
       "n": 0,
       "ncols": null,
       "nrows": null,
       "postfix": null,
       "prefix": "Validation",
       "rate": null,
       "total": null,
       "unit": "it",
       "unit_divisor": 1000,
       "unit_scale": false
      },
      "application/vnd.jupyter.widget-view+json": {
       "model_id": "01dec41cb6ff423f83011d28f1167dd9",
       "version_major": 2,
       "version_minor": 0
      },
      "text/plain": [
       "Validation: 0it [00:00, ?it/s]"
      ]
     },
     "metadata": {},
     "output_type": "display_data"
    },
    {
     "data": {
      "application/json": {
       "ascii": false,
       "bar_format": null,
       "colour": null,
       "elapsed": 0.02599930763244629,
       "initial": 0,
       "n": 0,
       "ncols": null,
       "nrows": null,
       "postfix": null,
       "prefix": "Validation",
       "rate": null,
       "total": null,
       "unit": "it",
       "unit_divisor": 1000,
       "unit_scale": false
      },
      "application/vnd.jupyter.widget-view+json": {
       "model_id": "70483d515e764d81b5bd8027db4d170d",
       "version_major": 2,
       "version_minor": 0
      },
      "text/plain": [
       "Validation: 0it [00:00, ?it/s]"
      ]
     },
     "metadata": {},
     "output_type": "display_data"
    },
    {
     "data": {
      "application/json": {
       "ascii": false,
       "bar_format": null,
       "colour": null,
       "elapsed": 0.03503251075744629,
       "initial": 0,
       "n": 0,
       "ncols": null,
       "nrows": null,
       "postfix": null,
       "prefix": "Validation",
       "rate": null,
       "total": null,
       "unit": "it",
       "unit_divisor": 1000,
       "unit_scale": false
      },
      "application/vnd.jupyter.widget-view+json": {
       "model_id": "f10851e3366a41e7b6409de0d5a51409",
       "version_major": 2,
       "version_minor": 0
      },
      "text/plain": [
       "Validation: 0it [00:00, ?it/s]"
      ]
     },
     "metadata": {},
     "output_type": "display_data"
    },
    {
     "data": {
      "application/json": {
       "ascii": false,
       "bar_format": null,
       "colour": null,
       "elapsed": 0.03700089454650879,
       "initial": 0,
       "n": 0,
       "ncols": null,
       "nrows": null,
       "postfix": null,
       "prefix": "Validation",
       "rate": null,
       "total": null,
       "unit": "it",
       "unit_divisor": 1000,
       "unit_scale": false
      },
      "application/vnd.jupyter.widget-view+json": {
       "model_id": "15f3514dcba14531bd996c666a713caf",
       "version_major": 2,
       "version_minor": 0
      },
      "text/plain": [
       "Validation: 0it [00:00, ?it/s]"
      ]
     },
     "metadata": {},
     "output_type": "display_data"
    },
    {
     "data": {
      "application/json": {
       "ascii": false,
       "bar_format": null,
       "colour": null,
       "elapsed": 0.047002553939819336,
       "initial": 0,
       "n": 0,
       "ncols": null,
       "nrows": null,
       "postfix": null,
       "prefix": "Validation",
       "rate": null,
       "total": null,
       "unit": "it",
       "unit_divisor": 1000,
       "unit_scale": false
      },
      "application/vnd.jupyter.widget-view+json": {
       "model_id": "ce51baca07e1488b9d901378f0fbf989",
       "version_major": 2,
       "version_minor": 0
      },
      "text/plain": [
       "Validation: 0it [00:00, ?it/s]"
      ]
     },
     "metadata": {},
     "output_type": "display_data"
    },
    {
     "data": {
      "application/json": {
       "ascii": false,
       "bar_format": null,
       "colour": null,
       "elapsed": 0.03899836540222168,
       "initial": 0,
       "n": 0,
       "ncols": null,
       "nrows": null,
       "postfix": null,
       "prefix": "Validation",
       "rate": null,
       "total": null,
       "unit": "it",
       "unit_divisor": 1000,
       "unit_scale": false
      },
      "application/vnd.jupyter.widget-view+json": {
       "model_id": "3d15e0fb88894dc7ba758ce679c5f25e",
       "version_major": 2,
       "version_minor": 0
      },
      "text/plain": [
       "Validation: 0it [00:00, ?it/s]"
      ]
     },
     "metadata": {},
     "output_type": "display_data"
    },
    {
     "data": {
      "application/json": {
       "ascii": false,
       "bar_format": null,
       "colour": null,
       "elapsed": 0.038007259368896484,
       "initial": 0,
       "n": 0,
       "ncols": null,
       "nrows": null,
       "postfix": null,
       "prefix": "Validation",
       "rate": null,
       "total": null,
       "unit": "it",
       "unit_divisor": 1000,
       "unit_scale": false
      },
      "application/vnd.jupyter.widget-view+json": {
       "model_id": "a31fd936fbef4372a31987469ca9b82a",
       "version_major": 2,
       "version_minor": 0
      },
      "text/plain": [
       "Validation: 0it [00:00, ?it/s]"
      ]
     },
     "metadata": {},
     "output_type": "display_data"
    },
    {
     "data": {
      "application/json": {
       "ascii": false,
       "bar_format": null,
       "colour": null,
       "elapsed": 0.0439913272857666,
       "initial": 0,
       "n": 0,
       "ncols": null,
       "nrows": null,
       "postfix": null,
       "prefix": "Validation",
       "rate": null,
       "total": null,
       "unit": "it",
       "unit_divisor": 1000,
       "unit_scale": false
      },
      "application/vnd.jupyter.widget-view+json": {
       "model_id": "b3b9e23e20574020a66a0f4db8ed6bdc",
       "version_major": 2,
       "version_minor": 0
      },
      "text/plain": [
       "Validation: 0it [00:00, ?it/s]"
      ]
     },
     "metadata": {},
     "output_type": "display_data"
    },
    {
     "data": {
      "application/json": {
       "ascii": false,
       "bar_format": null,
       "colour": null,
       "elapsed": 0.0279998779296875,
       "initial": 0,
       "n": 0,
       "ncols": null,
       "nrows": null,
       "postfix": null,
       "prefix": "Validation",
       "rate": null,
       "total": null,
       "unit": "it",
       "unit_divisor": 1000,
       "unit_scale": false
      },
      "application/vnd.jupyter.widget-view+json": {
       "model_id": "b6b4d75cece8401c8e0133280bed096e",
       "version_major": 2,
       "version_minor": 0
      },
      "text/plain": [
       "Validation: 0it [00:00, ?it/s]"
      ]
     },
     "metadata": {},
     "output_type": "display_data"
    },
    {
     "data": {
      "application/json": {
       "ascii": false,
       "bar_format": null,
       "colour": null,
       "elapsed": 0.0410006046295166,
       "initial": 0,
       "n": 0,
       "ncols": null,
       "nrows": null,
       "postfix": null,
       "prefix": "Validation",
       "rate": null,
       "total": null,
       "unit": "it",
       "unit_divisor": 1000,
       "unit_scale": false
      },
      "application/vnd.jupyter.widget-view+json": {
       "model_id": "d6a076b7a3b04107b42cf5e79111d12a",
       "version_major": 2,
       "version_minor": 0
      },
      "text/plain": [
       "Validation: 0it [00:00, ?it/s]"
      ]
     },
     "metadata": {},
     "output_type": "display_data"
    },
    {
     "data": {
      "application/json": {
       "ascii": false,
       "bar_format": null,
       "colour": null,
       "elapsed": 0.03298807144165039,
       "initial": 0,
       "n": 0,
       "ncols": null,
       "nrows": null,
       "postfix": null,
       "prefix": "Validation",
       "rate": null,
       "total": null,
       "unit": "it",
       "unit_divisor": 1000,
       "unit_scale": false
      },
      "application/vnd.jupyter.widget-view+json": {
       "model_id": "017dbc984a30480dbf761aec91a7ce5a",
       "version_major": 2,
       "version_minor": 0
      },
      "text/plain": [
       "Validation: 0it [00:00, ?it/s]"
      ]
     },
     "metadata": {},
     "output_type": "display_data"
    },
    {
     "name": "stderr",
     "output_type": "stream",
     "text": [
      "`Trainer.fit` stopped: `max_epochs=12` reached.\n"
     ]
    }
   ],
   "source": [
    "# Train the Classifier Model\n",
    "trainer.fit(model, QTdata_module)"
   ]
  },
  {
   "cell_type": "code",
   "execution_count": 62,
   "metadata": {},
   "outputs": [
    {
     "name": "stderr",
     "output_type": "stream",
     "text": [
      "C:\\Users\\elainez\\AppData\\Local\\Packages\\PythonSoftwareFoundation.Python.3.9_qbz5n2kfra8p0\\LocalCache\\local-packages\\Python39\\site-packages\\pytorch_lightning\\trainer\\connectors\\data_connector.py:225: PossibleUserWarning: The dataloader, test_dataloader 0, does not have many workers which may be a bottleneck. Consider increasing the value of the `num_workers` argument` (try 36 which is the number of cpus on this machine) in the `DataLoader` init to improve performance.\n",
      "  rank_zero_warn(\n"
     ]
    },
    {
     "data": {
      "application/json": {
       "ascii": false,
       "bar_format": null,
       "colour": null,
       "elapsed": 0.05999255180358887,
       "initial": 0,
       "n": 0,
       "ncols": null,
       "nrows": null,
       "postfix": null,
       "prefix": "Testing",
       "rate": null,
       "total": null,
       "unit": "it",
       "unit_divisor": 1000,
       "unit_scale": false
      },
      "application/vnd.jupyter.widget-view+json": {
       "model_id": "76bdfdc77a7044c890437cb0705370fd",
       "version_major": 2,
       "version_minor": 0
      },
      "text/plain": [
       "Testing: 0it [00:00, ?it/s]"
      ]
     },
     "metadata": {},
     "output_type": "display_data"
    },
    {
     "name": "stdout",
     "output_type": "stream",
     "text": [
      "────────────────────────────────────────────────────────────────────────────────────────────────────────────────────────\n",
      "       Test metric             DataLoader 0\n",
      "────────────────────────────────────────────────────────────────────────────────────────────────────────────────────────\n",
      "        test_loss           0.1847539097070694\n",
      "────────────────────────────────────────────────────────────────────────────────────────────────────────────────────────\n"
     ]
    },
    {
     "data": {
      "text/plain": [
       "[{'test_loss': 0.1847539097070694}]"
      ]
     },
     "execution_count": 62,
     "metadata": {},
     "output_type": "execute_result"
    }
   ],
   "source": [
    "# Evaluate the model performance on the test dataset\n",
    "trainer.test(model,datamodule=QTdata_module)"
   ]
  },
  {
   "cell_type": "code",
   "execution_count": 63,
   "metadata": {},
   "outputs": [],
   "source": [
    "# Visualize the logs using tensorboard.\n",
    "#%load_ext tensorboard\n",
    "#%tensorboard --logdir lightning_logs/"
   ]
  },
  {
   "cell_type": "code",
   "execution_count": 64,
   "metadata": {},
   "outputs": [
    {
     "data": {
      "text/plain": [
       "'u:\\\\computer\\\\Python BERT\\\\CFA data\\\\lightning_logs\\\\version_16\\\\checkpoints\\\\QTag-epoch=11-val_loss=0.21.ckpt'"
      ]
     },
     "execution_count": 64,
     "metadata": {},
     "output_type": "execute_result"
    }
   ],
   "source": [
    "#Evaluate Model Performance on Test Set\n",
    "# Retreive the checkpoint path for best model\n",
    "model_path = checkpoint_callback.best_model_path\n",
    "model_path"
   ]
  },
  {
   "cell_type": "code",
   "execution_count": 65,
   "metadata": {},
   "outputs": [
    {
     "data": {
      "text/plain": [
       "(1378, 1378)"
      ]
     },
     "execution_count": 65,
     "metadata": {},
     "output_type": "execute_result"
    }
   ],
   "source": [
    "len(y_test), len(x_test)"
   ]
  },
  {
   "cell_type": "code",
   "execution_count": 66,
   "metadata": {},
   "outputs": [],
   "source": [
    "#setup test dataset for BERT\n",
    "from torch.utils.data import TensorDataset\n",
    "\n",
    "# Tokenize all questions in x_test\n",
    "input_ids = []\n",
    "attention_masks = []\n",
    "\n",
    "\n",
    "for quest in x_test:\n",
    "    encoded_quest =  Bert_tokenizer.encode_plus(\n",
    "                    quest,\n",
    "                    None,\n",
    "                    add_special_tokens=True,\n",
    "                    max_length= MAX_LEN,\n",
    "                    padding = 'max_length',\n",
    "                    return_token_type_ids= False,\n",
    "                    return_attention_mask= True,\n",
    "                    truncation=True,\n",
    "                    return_tensors = 'pt'      \n",
    "    )\n",
    "    \n",
    "    # Add the input_ids from encoded question to the list.    \n",
    "    input_ids.append(encoded_quest['input_ids'])\n",
    "    # Add its attention mask \n",
    "    attention_masks.append(encoded_quest['attention_mask'])\n",
    "    \n",
    "# Now convert the lists into tensors.\n",
    "input_ids = torch.cat(input_ids, dim=0)\n",
    "attention_masks = torch.cat(attention_masks, dim=0)\n",
    "labels = torch.tensor(y_test)\n",
    "\n",
    "# Set the batch size.  \n",
    "TEST_BATCH_SIZE = 64  \n",
    "\n",
    "# Create the DataLoader.\n",
    "pred_data = TensorDataset(input_ids, attention_masks, labels)\n",
    "pred_sampler = SequentialSampler(pred_data)\n",
    "pred_dataloader = DataLoader(pred_data, sampler=pred_sampler, batch_size=TEST_BATCH_SIZE)"
   ]
  },
  {
   "cell_type": "code",
   "execution_count": 67,
   "metadata": {},
   "outputs": [],
   "source": [
    "#pred_data[0]"
   ]
  },
  {
   "cell_type": "code",
   "execution_count": 68,
   "metadata": {},
   "outputs": [],
   "source": [
    "#len(pred_dataloader.dataset)"
   ]
  },
  {
   "cell_type": "code",
   "execution_count": 69,
   "metadata": {},
   "outputs": [],
   "source": [
    "#Prediction on test set\n",
    "flat_pred_outs = 0\n",
    "flat_true_labels = 0"
   ]
  },
  {
   "cell_type": "code",
   "execution_count": 70,
   "metadata": {},
   "outputs": [],
   "source": [
    "# Put model in evaluation mode\n",
    "model = model.to(device) # moving model to cuda\n",
    "model.eval()\n",
    "\n",
    "# Tracking variables \n",
    "pred_outs, true_labels = [], []\n",
    "#i=0\n",
    "# Predict \n",
    "for batch in pred_dataloader:\n",
    "    # Add batch to GPU\n",
    "    batch = tuple(t.to(device) for t in batch)\n",
    "  \n",
    "    # Unpack the inputs from our dataloader\n",
    "    b_input_ids, b_attn_mask, b_labels = batch\n",
    " \n",
    "    with torch.no_grad():\n",
    "        # Forward pass, calculate logit predictions\n",
    "        pred_out = model(b_input_ids,b_attn_mask)\n",
    "        pred_out = torch.sigmoid(pred_out)\n",
    "        # Move predicted output and labels to CPU\n",
    "        pred_out = pred_out.detach().cpu().numpy()\n",
    "        label_ids = b_labels.to('cpu').numpy()\n",
    "        #i+=1\n",
    "        # Store predictions and true labels\n",
    "        #print(i)\n",
    "        #print(outputs)\n",
    "        #print(logits)\n",
    "        #print(label_ids)\n",
    "    pred_outs.append(pred_out)\n",
    "    true_labels.append(label_ids)"
   ]
  },
  {
   "cell_type": "code",
   "execution_count": 71,
   "metadata": {},
   "outputs": [
    {
     "data": {
      "text/plain": [
       "array([0.84734136, 0.1557113 , 0.06980901, 0.05972806, 0.07401888,\n",
       "       0.03992637, 0.06860815, 0.07859191, 0.09129023, 0.11763842,\n",
       "       0.09015211, 0.076195  , 0.08592176], dtype=float32)"
      ]
     },
     "execution_count": 71,
     "metadata": {},
     "output_type": "execute_result"
    }
   ],
   "source": [
    "pred_outs[0][0]"
   ]
  },
  {
   "cell_type": "code",
   "execution_count": 72,
   "metadata": {},
   "outputs": [],
   "source": [
    "# Combine the results across all batches. \n",
    "flat_pred_outs = np.concatenate(pred_outs, axis=0)\n",
    "\n",
    "# Combine the correct labels for each batch into a single list.\n",
    "flat_true_labels = np.concatenate(true_labels, axis=0)"
   ]
  },
  {
   "cell_type": "code",
   "execution_count": 73,
   "metadata": {},
   "outputs": [
    {
     "data": {
      "text/plain": [
       "((1378, 13), (1378, 13))"
      ]
     },
     "execution_count": 73,
     "metadata": {},
     "output_type": "execute_result"
    }
   ],
   "source": [
    "flat_pred_outs.shape , flat_true_labels.shape"
   ]
  },
  {
   "cell_type": "code",
   "execution_count": 74,
   "metadata": {},
   "outputs": [
    {
     "data": {
      "text/plain": [
       "array([0.4 , 0.41, 0.42, 0.43, 0.44, 0.45, 0.46, 0.47, 0.48, 0.49, 0.5 ])"
      ]
     },
     "execution_count": 74,
     "metadata": {},
     "output_type": "execute_result"
    }
   ],
   "source": [
    "#Predictions of Tags in Test set\n",
    "#The predictions are in terms of logits (probabilities for each of the 16 tags). Hence we need to have a threshold value to convert these probabilities to 0 or 1.\n",
    "\n",
    "#Let's specify a set of candidate threshold values. We will select the threshold value that performs the best for the test set.\n",
    "\n",
    "#define candidate threshold values\n",
    "threshold  = np.arange(0.4,0.51,0.01)\n",
    "threshold"
   ]
  },
  {
   "cell_type": "code",
   "execution_count": 75,
   "metadata": {},
   "outputs": [],
   "source": [
    "#Let's define a function that takes a threshold value and uses it to convert probabilities into 1 or 0.\n",
    "\n",
    "# convert probabilities into 0 or 1 based on a threshold value\n",
    "def classify(pred_prob,thresh):\n",
    "    y_pred = []\n",
    "\n",
    "    for tag_label_row in pred_prob:\n",
    "        temp=[]\n",
    "        for tag_label in tag_label_row:\n",
    "            if tag_label >= thresh:\n",
    "                temp.append(1) # Infer tag value as 1 (present)\n",
    "            else:\n",
    "                temp.append(0) # Infer tag value as 0 (absent)\n",
    "        y_pred.append(temp)\n",
    "\n",
    "    return y_pred\n",
    "    "
   ]
  },
  {
   "cell_type": "code",
   "execution_count": 76,
   "metadata": {},
   "outputs": [
    {
     "data": {
      "text/plain": [
       "array([0.07403439, 0.04550784, 0.06064384, 0.13616358, 0.04252559,\n",
       "       0.06064487, 0.05921341, 0.17792614, 0.03984786, 0.50402576,\n",
       "       0.08584998, 0.04357384, 0.03019333], dtype=float32)"
      ]
     },
     "execution_count": 76,
     "metadata": {},
     "output_type": "execute_result"
    }
   ],
   "source": [
    "flat_pred_outs[3]"
   ]
  },
  {
   "cell_type": "code",
   "execution_count": 77,
   "metadata": {},
   "outputs": [
    {
     "data": {
      "text/plain": [
       "array([0, 0, 0, 0, 0, 0, 0, 0, 0, 1, 0, 0, 0])"
      ]
     },
     "execution_count": 77,
     "metadata": {},
     "output_type": "execute_result"
    }
   ],
   "source": [
    "flat_true_labels[3]"
   ]
  },
  {
   "cell_type": "code",
   "execution_count": 78,
   "metadata": {},
   "outputs": [
    {
     "data": {
      "text/plain": [
       "array([0.8248619 , 0.15989742, 0.06025646, 0.05505559, 0.07289603,\n",
       "       0.03479018, 0.06324884, 0.06586538, 0.07410817, 0.11087693,\n",
       "       0.07331211, 0.08324485, 0.09057573], dtype=float32)"
      ]
     },
     "execution_count": 78,
     "metadata": {},
     "output_type": "execute_result"
    }
   ],
   "source": [
    "flat_pred_outs[20]"
   ]
  },
  {
   "cell_type": "code",
   "execution_count": 79,
   "metadata": {},
   "outputs": [
    {
     "data": {
      "text/plain": [
       "array([1, 0, 0, 0, 0, 0, 0, 0, 0, 0, 0, 0, 0])"
      ]
     },
     "execution_count": 79,
     "metadata": {},
     "output_type": "execute_result"
    }
   ],
   "source": [
    "flat_true_labels[20]"
   ]
  },
  {
   "cell_type": "code",
   "execution_count": 80,
   "metadata": {},
   "outputs": [],
   "source": [
    "from sklearn import metrics\n",
    "scores=[] # Store the list of f1 scores for prediction on each threshold\n",
    "\n",
    "#convert labels to 1D array\n",
    "y_true = flat_true_labels.ravel() \n",
    "\n",
    "for thresh in threshold:\n",
    "    \n",
    "    #classes for each threshold\n",
    "    pred_bin_label = classify(flat_pred_outs,thresh) \n",
    "\n",
    "    #convert to 1D array\n",
    "    y_pred = np.array(pred_bin_label).ravel()\n",
    "\n",
    "    scores.append(metrics.f1_score(y_true,y_pred))"
   ]
  },
  {
   "cell_type": "code",
   "execution_count": 81,
   "metadata": {},
   "outputs": [
    {
     "name": "stdout",
     "output_type": "stream",
     "text": [
      "Optimal Threshold Value = 0.4\n"
     ]
    }
   ],
   "source": [
    "# find the optimal threshold\n",
    "opt_thresh = threshold[scores.index(max(scores))]\n",
    "print(f'Optimal Threshold Value = {opt_thresh}')"
   ]
  },
  {
   "cell_type": "code",
   "execution_count": 82,
   "metadata": {},
   "outputs": [],
   "source": [
    "#y_true = flat_true_labels.ravel() "
   ]
  },
  {
   "cell_type": "code",
   "execution_count": 83,
   "metadata": {},
   "outputs": [
    {
     "data": {
      "text/plain": [
       "array([1, 0, 0, ..., 0, 0, 0])"
      ]
     },
     "execution_count": 83,
     "metadata": {},
     "output_type": "execute_result"
    }
   ],
   "source": [
    "y_pred"
   ]
  },
  {
   "cell_type": "code",
   "execution_count": 84,
   "metadata": {},
   "outputs": [
    {
     "data": {
      "text/plain": [
       "array([1, 0, 0, ..., 0, 0, 0])"
      ]
     },
     "execution_count": 84,
     "metadata": {},
     "output_type": "execute_result"
    }
   ],
   "source": [
    "y_true"
   ]
  },
  {
   "cell_type": "code",
   "execution_count": 85,
   "metadata": {},
   "outputs": [
    {
     "data": {
      "text/plain": [
       "0    16706\n",
       "1     1208\n",
       "dtype: int64"
      ]
     },
     "execution_count": 85,
     "metadata": {},
     "output_type": "execute_result"
    }
   ],
   "source": [
    "pd.Series(y_pred).value_counts()"
   ]
  },
  {
   "cell_type": "code",
   "execution_count": 86,
   "metadata": {},
   "outputs": [],
   "source": [
    "#flat_true_labels"
   ]
  },
  {
   "cell_type": "code",
   "execution_count": 87,
   "metadata": {},
   "outputs": [],
   "source": [
    "#Performance Score Evaluation\n",
    "\n",
    "#predictions for optimal threshold\n",
    "y_pred_labels = classify(flat_pred_outs,opt_thresh)\n",
    "y_pred = np.array(y_pred_labels).ravel() # Flatten"
   ]
  },
  {
   "cell_type": "code",
   "execution_count": 88,
   "metadata": {},
   "outputs": [
    {
     "data": {
      "text/plain": [
       "array([1, 0, 0, ..., 0, 0, 0])"
      ]
     },
     "execution_count": 88,
     "metadata": {},
     "output_type": "execute_result"
    }
   ],
   "source": [
    "y_true"
   ]
  },
  {
   "cell_type": "code",
   "execution_count": 89,
   "metadata": {},
   "outputs": [
    {
     "data": {
      "text/plain": [
       "(17914,)"
      ]
     },
     "execution_count": 89,
     "metadata": {},
     "output_type": "execute_result"
    }
   ],
   "source": [
    "y_true.shape"
   ]
  },
  {
   "cell_type": "code",
   "execution_count": 90,
   "metadata": {},
   "outputs": [
    {
     "data": {
      "text/plain": [
       "array([1, 0, 0, ..., 0, 0, 0])"
      ]
     },
     "execution_count": 90,
     "metadata": {},
     "output_type": "execute_result"
    }
   ],
   "source": [
    "y_pred"
   ]
  },
  {
   "cell_type": "code",
   "execution_count": 91,
   "metadata": {},
   "outputs": [
    {
     "data": {
      "text/plain": [
       "(17914,)"
      ]
     },
     "execution_count": 91,
     "metadata": {},
     "output_type": "execute_result"
    }
   ],
   "source": [
    "y_pred.shape"
   ]
  },
  {
   "cell_type": "code",
   "execution_count": 92,
   "metadata": {},
   "outputs": [
    {
     "name": "stdout",
     "output_type": "stream",
     "text": [
      "              precision    recall  f1-score   support\n",
      "\n",
      "           0       0.96      0.99      0.98     15939\n",
      "           1       0.94      0.68      0.79      1975\n",
      "\n",
      "    accuracy                           0.96     17914\n",
      "   macro avg       0.95      0.84      0.89     17914\n",
      "weighted avg       0.96      0.96      0.96     17914\n",
      "\n"
     ]
    }
   ],
   "source": [
    "print(metrics.classification_report(y_true,y_pred))"
   ]
  },
  {
   "cell_type": "code",
   "execution_count": 93,
   "metadata": {},
   "outputs": [],
   "source": [
    "y_pred = mlb.inverse_transform(np.array(y_pred_labels))\n",
    "y_act = mlb.inverse_transform(flat_true_labels)\n",
    "\n",
    "df = pd.DataFrame({'Body':x_test,'Actual Tags':y_act,'Predicted Tags':y_pred})"
   ]
  },
  {
   "cell_type": "code",
   "execution_count": 94,
   "metadata": {},
   "outputs": [
    {
     "data": {
      "text/plain": [
       "1378"
      ]
     },
     "execution_count": 94,
     "metadata": {},
     "output_type": "execute_result"
    }
   ],
   "source": [
    "len(x_test)"
   ]
  },
  {
   "cell_type": "code",
   "execution_count": 95,
   "metadata": {},
   "outputs": [
    {
     "data": {
      "text/plain": [
       "1378"
      ]
     },
     "execution_count": 95,
     "metadata": {},
     "output_type": "execute_result"
    }
   ],
   "source": [
    "len(y_act)"
   ]
  },
  {
   "cell_type": "code",
   "execution_count": 96,
   "metadata": {},
   "outputs": [
    {
     "data": {
      "text/plain": [
       "1378"
      ]
     },
     "execution_count": 96,
     "metadata": {},
     "output_type": "execute_result"
    }
   ],
   "source": [
    "len(y_pred)"
   ]
  },
  {
   "cell_type": "code",
   "execution_count": 97,
   "metadata": {},
   "outputs": [
    {
     "data": {
      "text/plain": [
       "['adding headcount to assist with volume of work',\n",
       " 'understanding that we need to focus on improving our current operations and streamlining it while we thinking about growth and the future',\n",
       " 'which systems to use seems like we have multiply systems that perform the same function',\n",
       " 'the program we use to pick is very limited in its abilities and is causing productivity losses during the picking process such as causing unneeded congestion and not allowing team members to do tasks that would help keep inventory in line and maintain output',\n",
       " 'communication within the business cfa supply can do a better job of communicating changes that are being made and that are on the horizon within the business this can be a struggle as we grow but communication is vitally important',\n",
       " 'ey resourcing and length on projects right now there are consultants assigned to nashville mdc project plan smartsheet does this need this much staffing better rolloff plan of ey consultants and then staff filling these roles ensuring staff takes priority on strategic decisions projects vs consultants better tell the story of a consultants role onboarding and offboarding to the organization so those within cfa supply have a clear idea',\n",
       " 'this is a very tough topic to tackle given the fluid dynamics we ve seen in the industry driven in large by cv supply chain disruption growing demand with that said network strategy formulation decisions seem to be disjointed guiding information analysis seems to have gaps which leads to extended development window too many iterations options to whittle down in determining best course',\n",
       " 'communication across teams we are hiring and spreading so quickly that many times teams or individuals ultimately get missed',\n",
       " 'cfa supply is continuing to improve on our network strategy and adapting to the model we would like to use i think this is a current challenge but as we continue to scale there will be clarity around these decisions there has been a lot of muddy water and i believe we have applied a better filter now growing pains',\n",
       " 'speed at which the company scales to ensure it is done with excellence',\n",
       " 'observation of work life balance through right timing of communications',\n",
       " 'the speed of decision making can be improved the business is moving so fast that the planning process feels very rushed in order to plan for the growth and scale',\n",
       " 'the it organizational design is confusing for team members example includes dtt ets and entity it co existing vs combining into one group also entity it is made of exclusively supply team members who serve both entities but only subject to supply incentive distributions',\n",
       " 'more of an overall inc problem but need to provide better technology tools to host hybrid meetings in the office and have it be consistent in every room',\n",
       " 'i think bcf needs better communication with cfa inc there are systems and programs that should be shared with bcf team members but cannot because of security restrictions example atrium talks many bcf team members are denied access because they are not a services employee but listed as operations',\n",
       " 'technology e g software to facilitate and support operations and compliance',\n",
       " 'hiring priority i ve heard unhappiness from the warehouse operation leaders on how long it took to fill key roles there while that was happening support services were adding staff and asking more from the ops team',\n",
       " 'silos create some degree of disjointed decisions example implications of adding additional new restaurants creates great stress through the organization beyond real estate development constructions selection launch support',\n",
       " 'clarity around how much detail is needed for projects decisions to move forward we do a lot of work for projects that may never progress',\n",
       " 'chick fil a needs to have more clarity on decision making ownership even at the officer level it is not clear who has the final say on most decisions',\n",
       " 'talent management total rewards process inconsistent across organization',\n",
       " 'prioritizing execution over more sales',\n",
       " 'decisions that should be clear based on requirements guidelines however sometimes these are avoided due to the potential for conflict',\n",
       " 'ability to performance manage staff effectively legal makes it nearly impossible to offboard talent that is underperforming or actually damaging the morale of the team we must get comfortable that as fast as we are growing we are going to make some wrong hires or that people may even take a wrong turn in their careers and not everyone is on the right bus',\n",
       " 'diversity of upper level leadership',\n",
       " 'there are lots of growth at chick fil a around making things better the current discussion around knowing about new initiative to enhance career and promotions',\n",
       " 'decisions that impact subteams within departments while a decision at that level may have negative impacts that reach up to the broader enterprise or multi department level these types of decisions can have strong positive impacts as well while it is important to weigh these decisions and i respect the process i have seen and bore witness to these type of decisions being put on hold to deal with other issues i believe that the company loses more than it gains here examples are decisions to re level certain roles within a sub department and the decision takes over half a year to approve',\n",
       " 'they need to be more consistent in staff selection i have seen too many examples of requiring one set of guidelines for one group only to not require the same of all groups for example a tl needed to provide a min presentation to stay in the same role but different team while another group didn t even interview and a job was never posted but they were awarded big promotions',\n",
       " 'i think decisions around diversity and inclusion need to continue to evolve',\n",
       " 'i believe more initiative could be taken in my department help there have been several changes that have been made by higher levels of leadership that directly affect lower levels there is a general feeling from the lower levels that decisions about how we manage our daily work are being made for us and we are unable to express opinions make valuable changes generally control our work',\n",
       " 'communicate better between the developers and the helpdesk',\n",
       " 'decisions on rotating schedules for saturday analysts since it s still a but unclear',\n",
       " 'increasing diversity',\n",
       " 'chick fil a could improve upon decision that ll address the talent shortage regarding benefits or pay for team members that ll make chick fil a stand out from the competition i know many people who are hesitant to work at a chick fil a restaurant because of the difficulty in operations and the lack of competitive pay benefits',\n",
       " 'provide more growth opportunities',\n",
       " 'no standard processes departmental flexibility can lead to inefficiency and inconsistency as business decisions are made they are not laddered down to specific small teams and individual work',\n",
       " 'new or changing technologies both restaurant and staff facing restaurant technology decisions seem to be made too quickly without enough testing given the risk and impact to business operations customers operators team members and staff are impacted operationally but even more importantly these decisions impact operator and customer trust staff technology decisions seem to be made too slowly years in some cases too much evaluation given the risks and impacts',\n",
       " 'listening to operators restaurants needs and prioritizing what they will find helpful for their restaurants',\n",
       " 'change management of rollouts impacting restaurants at any given time',\n",
       " 'the timing of initiatives and how it may impact restaurants',\n",
       " 'more autonomy trust leaders in selecting right talent',\n",
       " 'mid level execution of decisions while major strides have been made some aspects of a culture of fear of perception persist at chick fil a some mid level people leaders and individual contributors that have been here years hold on to a mentality that there will be negative consequences for their career growth if they step out or try something and fail',\n",
       " 'chick fil a could improve communications to staff and help in particular on new roll outs that communication could assist with faster service to our operators team members restaurants and overall the end customers',\n",
       " 'chick fil a needs to improve on communication across all departments regarding issues roll outs initiatives updates changes etc',\n",
       " 'promotional decisions can sometimes favor relationships over work ethic and experience if you know the right people you have a clear advantage over those who don t',\n",
       " 'chick fil a should continue to improve the diversity of its people to continue to reflect the customers that we serve',\n",
       " 'the length of the interview process for internal candidates needs to be overhauled i have personally interviewed for several roles and the culture fit questions can be reduced if the candidate has already joined the organization',\n",
       " 'agile decisions we ve been trying to implement agile for a while but decisions continually get bottlenecked at higher levels',\n",
       " 'csm user friendliness is not the best lots of bugs and glitches and outside platforms needed to do the help online job',\n",
       " 'decisions around minimizing waste and red tape as we grow larger working to keep us as close to a small business as possible',\n",
       " 'chick fil a could improve on decisions around the overall meeting culture and help to facilitate a more productive culture around meetings',\n",
       " 'people leadership selection and oversight',\n",
       " 'a little less traditional in the corporate environment and instead embrace uniqueness in cultural celebrations have festivities on site for different cultural days',\n",
       " 'diversity and dei moving swiftly and taking a stand when necessary',\n",
       " 'decision to prioritize reorganize and fund changes to the organization so that we are fully responsive to the operators we are still too siloed',\n",
       " 'seek staff feedback on vendors and track feedback to learn if the vendor is the best fit for our growing company',\n",
       " 'decision making speed well thought out decisions take a long time to process and i applaud cfa for this of the time however some decisions like moving my team from it analyst i to it analyst ii has been in the works for years this decision could have been made in weeks',\n",
       " 'how to support diversity of race ethnicity etc but keep our shared values and faith based culture',\n",
       " 'accountability for leaders to align work and find a common vision across similar overlapping change initiatives',\n",
       " 'i personally feel chick fil a needs to improve their decisions at times when choosing to move leaders around the business while i feel there is most certainly a need for this at times sometimes it feels like we are just doing it to do it rather than it really being a wise positive decision i think there needs to be some recognition that while a fresh pair of eyes and new ideas can be wise a learning curb slows down progress i felt first hand when an employee ends up needing to pick up a lot of the slack while their new leader gets up to speed or an employee has to spend extra time to get their',\n",
       " 'reducing department work to only work on essential areas that provide the business value',\n",
       " 'recruitment aimed at finding the best candidates based on qualifications such as character chemistry and competency rather than a person s color or gender',\n",
       " 'we re slow to keep up with what is acceptable regarding dress codes facial hair appearance related decisions so many companies operate professionally yet allow jeans on fridays',\n",
       " 'chick fil a struggles with competing priorities there is tension between sales and safety our restaurants are operating well beyond the capacity they were designed for and sales are celebrated even if it means compromising our standards to meet the increased volume demand the same tension exists between the speed of service and safety the emphasis on speed causes team members to prioritize speed over safety to meet expectations',\n",
       " 'most decisions are made with sales growth as the driver real estate menu promotions etc this can be and is a risk to overly burdensome throughput and capacity constraints for operators food borne illness increase team member fatigue staff frustration at a already high number of high priority things to solve for that can be exasperated with always and forever high growth mindset',\n",
       " 'i wish that administrators who desired to pursue promotions or the next role above them had more opportunities to do so it often appears that most others have these opportunities while our roles and the people in them remain stagnant not that the role isn t amazing but that the advancement opportunities do not seem parallel to others in the organization',\n",
       " 'as someone that works outside of dtt i think our dtt department needs to take more of an ownership role of our technology strategies rather than it being set by business owners the current way decisions are made makes it easy for business owners to become ticket submitters and for our dtt department to become ticket takers this leads to a decentralized technology strategy for restaurants team members operators etc which further complicates the day to day aspects of the restaurant',\n",
       " 'budget tracking decisions the new system makes it very difficult to track our budget month to month and project to project',\n",
       " 'when moving into new systems and programs leveling workday need more clarity on what some of the key terms and ideas mean',\n",
       " 'the appointing of people to roles has not always resulted in ideal leadership there is not a safe trusted way for staff to voice concerns or issues about their leadership',\n",
       " 'we have frequent field staff meetings that seem repetitive i e field staff twice a month monthly atrium talks occasional field talk lives and field operation meetings combined with a lot of corporate communications can some of these meetings be shortened or less frequent',\n",
       " 'chick fil a does not need to rely so heavily on the cdc government recommendations not requirements regarding mask wearing at the support center while the company has stressed equity between the restaurants and the support center there is clearly different expectations for staff health safety compared to our team members',\n",
       " 'decision making based on specific needs is great however these decisions should not cause new and more advance problems in our restaurants therefore it is imperative that we make decisions with the best and most accurate information available without much haste',\n",
       " 'i would say the hiring process as i have heard people mention from past experiences the process is too long and as a result good candidates are missed or lost',\n",
       " 'ability to clearly share the why behind certain decisions to ensure operators and staff are aligned there are times when operators feel like we are moving too slowly to address their needs yet from the support center side there may really valid reasons for that an example here might be canopies or effective cold weather solutions for northern states',\n",
       " 'hiring external candidates into culture shaping positions within chick fil a inc',\n",
       " 'decisions to move forward with innovation at a more rapid pace',\n",
       " 'this isn t really an example but we can improve on our clarity about who in the organization actually owns the decision before new equipment menu items or smallwares hit the restuarant who determines if they fit operationally if they add value to the customer if they add value to the team member or operator or if they create a negative or positive ripple effect to other areas of the business while there are people in place to look at these things there is a lack of clarity about how decisions are made in these areas',\n",
       " 'implementation of technology',\n",
       " 'promotions',\n",
       " 'people leadership decisions the same legacy leaders are bypassing all of the systems put in place to continue making relationally based promotion decisions career interests in workday are still being ignored there are far too many jobs not being posted and people being moved around like pawns on a chess board legacy leaders do things to people without bringing them along in their own career journey they lead like this is a church and people are here to serve in whatever part of the congregation where there is a need and then they ll say they prayed about the decision as if their relationship with god is supposed to carry weight in someone else s life at best this type of decision making is parental and lacks emotional intelligence it negatively impacts morale and productivity and achieves the exact opposite of what we are trying to achieve when we say work for of life and there s no accountability because the system is only as effective as the people in power who oftentimes abuse their power with very good intentions of course',\n",
       " 'middle management layer we are great at making big investments in new innovative restaurant concepts middle management throughout the organization can be slow and sometimes resistant to see the need to invest and allocate resources people and budget to grow newer non traditional restaurant types often budget and people are allocated reserved for the cash cow i e fsr or the disruptive i e little blue menu leaving support and dedication to grow other new concepts i e captive venue food truck delivery kitchen lacking what this causes is for work to pile up on the critical few who are closest to this work and a slowdown in advancing new growing market ecosystem restaurant types',\n",
       " 'mid level leadership speed of decision making project owners are given direction to lead work and when we get to the point of finalizing work it feels like all of a sudden we need far more input providers than are actually needed and that will either drastically slow work or take it back to the drawing board we need a better process on the front end of work on who the decision makers are and not let our overly collaborative everyone has a voice culture get in the way of speed to market',\n",
       " 'organizational structure oftentimes we don t know what other departments are working on causing overlapping work or disjointed work',\n",
       " 'leadership promotions',\n",
       " 'decisions related to the timeframe of reinvestments or project timelines for restaurant capacity challenges',\n",
       " 'internal mobility leadership selection it is still very much biased and even borderline illegal',\n",
       " 'how to make wise decisions quickly',\n",
       " 'not so much a decision that needs to improve but the process many inter team decisions are slowed down by trying to solve for every what if and answer everyone s concern or opinion',\n",
       " 'people leader development and understanding of engagement',\n",
       " 'make decisions quicker',\n",
       " 'project launch decisions with minimal cost impact ex rolling out drive thru structures for the seasons they are needed most we seem to be months late because of a minor design detail',\n",
       " 'need to accelerate annual restaurant growth we are not meeting customer demand',\n",
       " 'the speed in which we move on technology related solutions that could help alleviate challenges for team members in the restaurant',\n",
       " 'how internal work is influenced by the experience operators are having in the field',\n",
       " 'team member support',\n",
       " 'people decisions promotions advancements etc',\n",
       " 'support center technology post pandemic',\n",
       " 'decisions that touch operators from departments that aren t field facing they are often too complex not considering operator field voice repercussions',\n",
       " 'the it department isn t the most effective or efficient department',\n",
       " 'including true diversity of thought not just superficial concepts established by race and gender',\n",
       " 'speed of the decisions for operators need to massively improve really across the board',\n",
       " 'technology platforms and the speed at which we move to these',\n",
       " 'multi restuarant operator decisions',\n",
       " 'the most recent decision to require staff who travel to document their travel to others states without explaining the reasons behind it i know a lot of people outside of cfa who work for large companies and travel and do not have to document their travel and pay taxes to these states i feel like a decision this significant should have been communicated differently providing more explanation and allowing opportunity for questions',\n",
       " 'we tend to take a consensus based approach to decisions as a result people doing the work often don t have autonomy to make the best decision leaders assume what decisions to make but their assumptions are based on tribal and historical context',\n",
       " 'promotion decisions do people get promoted anymore it feels like we all have to interview for a higher level the interview process for internal folks is long and frustrating',\n",
       " 'giving operators more flexibility when it comes to running their location',\n",
       " 'sideways energy spent over what department controls what resources people',\n",
       " 'capacity relief solutions to reduce capacity constraints in restaurants',\n",
       " 'how to help operators with capacity issues',\n",
       " 'we need to empower operators to add resources they need to attract talent if an operator wants to add a self ordering kiosk to offer a different channel of ordering for guests we should support that somehow we are all trying to be innovative build the brand and serve guests where they are',\n",
       " 'people promotions it is a beauty contest focused on dei',\n",
       " 'leadership choices for some people decisions',\n",
       " 'career pathing calibration of employees is not transparent it does feel like efforts have been made to work on this but inconsistencies still exist',\n",
       " 'we re good we just need to improve decision speed',\n",
       " 'each leadership level wants meetings with sub groups field operations field staff regions our region areas etc still some unnecessary sign offs from leaders above us who lack the context on decisions',\n",
       " 'chick fil a can make some improvements on leveling the field for promotional opportunities',\n",
       " 'corporate leadership we ve become more focused on intelligence and less on wisdom in selecting people leaders as our brand and budgets grow its apparent that we ve become enamored with ivy league degrees while i m in favor of ivy league degrees they re a poor substitute for wisdom',\n",
       " 'opportunity to calibrate on mu operator decisions confusion among operators',\n",
       " 'new technology rollouts especially staff facing',\n",
       " 'people promotions for years it was a good ole boys club and not merit based it is improving',\n",
       " 'decisions that affect operators ability to get the chicken sandwich across the counter most effectively',\n",
       " 'people hiring promotions demotions grievances consequences',\n",
       " 'budgetary ability at the area support team level to help speed the decision process for restaurant reinvestment decisions',\n",
       " 'people decisions and specifically ensuring the right candidate is selected specifically internal selections where we have the opportunity to access more data from peers and direct reports to find out more about who we are promoting',\n",
       " 'field communication there are several aspects of decisions that have been made that impact the support center that have been communicated poorly or not at all to our operators this has caused significant disruption in the operating community',\n",
       " 'help operators and team members more and faster they need relief like pre filleted chicken and pre chopped romaine lettuce simpler menu faster',\n",
       " 'people decisions it is very obvious diversity over rides getting the right person specifically talking about field operations',\n",
       " 'people decisions it is not clear how to navigate the organization or exactly what is valued in terms of leadership',\n",
       " 'deciding when to engage outside consultants versus leveraging talent on staff to facilitate lead and contribute to key business meetings activities we have welcomed hundreds of talented new staff members to the organization with a wealth of relevant business experience who are capable of contributing valuable perspectives and learnings to our current challenges if given more opportunity',\n",
       " 'leadership selection at middle level',\n",
       " 'staff career progression',\n",
       " 'people promotions we tend to promote people too quickly and in many cases for the wrong reasons',\n",
       " 'strategic decisions like flexibility for people to work away from atlanta mobility speed of it transformation',\n",
       " 'decisions on site selections too often it seems we leave it up to operators to figure out',\n",
       " 'who they choose for high level leaders i think leaders slip through that are not ready for the scope of leadership given due to blind spots in their leadership in terms of what it is like to be on the other side of them and how they treat people',\n",
       " 'decisions that demand customization to the market and or restaurant level',\n",
       " 'i feel like we do not need to get caught up in the current social confusion and start making decisions on what we think the world wants to see as far as hiring promotions as well as business decisions stay the course corporate purpose always',\n",
       " 'where we focus our energy and headcount e g we are bleeding and rather than stop the bleeding we are adding pretty clothes and buying new cars for the bleeding person',\n",
       " 'asset allocation we are overinvesting in growth and underinvesting in building an infrastructure to support the growing business',\n",
       " 'mixed messages',\n",
       " 'department decisions need to be made more quickly and without the levels of leadership on approval that people in those roles are not as close to the work',\n",
       " 'department decisions let the sme and leader make the final decision',\n",
       " 'reaching a broader and more diverse audience through regional menu items',\n",
       " 'leadership accountability for objective staff selection decisions need improvement',\n",
       " 'working a little bit more on the technology aspect to work more efficiently',\n",
       " 'staff members were asked not to travel during the pandemic which was the right choice i think we need to swing the pendulum and have all staff who are willing and able spend time in restaurants supporting operators',\n",
       " 'high level communication is good but there are too many available platforms and applications',\n",
       " 'some people leadership decisions',\n",
       " 'people decisions having more diverse leadership teams across all departments',\n",
       " 'decisions relating to employees not doing their jobs or doing them well as an organization even with milestones leaders do not properly address poor performance in a timely manner which leads to others having to pick up the slack and becoming less satisfied with their jobs',\n",
       " 'decisions that require an exception to the stated policy standard protocol eg opening date hours of operations dining room reopening cfa doesn t have clear decision making practices for who and how to decide when an exception to the standard is needed',\n",
       " 'we don t often have the data we need to make informed decisions for me this is a lack of people and technology resources to get the data we need',\n",
       " 'internal people assignments and headcount',\n",
       " 'lower level people leadership decisions',\n",
       " 'allocating resources head count to teams that really need it',\n",
       " 'budget and headcounts',\n",
       " 'people how we select for promotions and allowing people to grow',\n",
       " 'employee culture and morale too many meetings is an example',\n",
       " 'i have growing concern around the number of operators receiving more than one location some of the names and related performance i have seen in the past years that have gotten an additional opportunity have been very surprising to me my impression is that the bar for a second location has been lowered the focus on building more locations more quickly exacerbates this concern not specifically around the growth but around the caliber and performance of the people who will be leading more than one location this used to be a very high bar to meet and it feels like situational circumstances have become a bigger factor than performance and leadership capacity',\n",
       " 'decision making the larger we get there seems to be more of an emphasis put on holding decisions at higher levels of the organization this works against two things first it slows down productivity and creates frustraion secondly we put a governor an leadership growth by not allowing individuals to own decisions further down the organization this creates an environment of perfectionism that stifles creativity and contributes to group think',\n",
       " 'to be able to make decisions quicker',\n",
       " 'silo operation among department',\n",
       " 'betting on talent typically the individuals who are promoted are ones who lead up to higher level leaders and may not actually be leading their organizations teams effectively with great examples of culture additionally we so seldom give young talent in our organization high responsibility tasks i fear that we will see a lot of them leave as we take almost no risk on developing talent and focus only on developing the individuals who are tenured in our organization',\n",
       " 'decisions related to senior leadership can often leave people a bit confused there seems to be inconsistency in what qualities are valued and lead to new opportunities for some people versus others generally i think this is reflective of a larger gap on things like promotion career pathing compensation etc and the inconsistencies that occur i think some of this also shows up in how we appoint strategy teams or groups around key initiatives often times it feels like there is a predetermined set of checkboxes we have to meet in order to create a team this leaves people closest to the work from being able to best represent the need for example we might have a team focused on operator experience but when reviewing the team you have no one that s not in some high level of leadership meaning there are limited voices actually working directly with operators how do we get more perspective in strategy teams from people closest to the business',\n",
       " 'chick fil a needs to ensure customers remain a priority',\n",
       " 'move quicker on decisions',\n",
       " 'leadership involvement at task level decisions',\n",
       " 'allowing some of the department and people leaders have more input on staffing for their department letting some of these decisions be made by those closer to the scope of work',\n",
       " 'following the cultural hot topics',\n",
       " 'communicating and establishing a standard for saving files while encouraging all to go paperless much of my wasted time is spent searching for documents',\n",
       " 'seek to understand impact that decisions initiatives have on others supporting roles and the compounding effect when there are multiple initiatives that impact one area of the organization and no consideration is given for capacity or headcount for the support of all the new work',\n",
       " 'fallout or trickle down effect of senior leadership moves',\n",
       " 'as mentioned previously we often make the right decision in framing the problem which allows us to have great resources coupled with great people to execute outstanding problem solving coupled with average operational execution it would be wise to not conflate the two i ll use the talent reset as the same example great strategic framing of the problem with great investment was conflated in communication as being excellent in operational details when there were a lot of imbalances on execution it was communicated that it was near perfect which led to more stress when individuals saw their actual role not leveled well which could have been managed much better if leadership asked for grace in the certain imperfections dan did ask for grace tim said he reviewed every role and they were almost all perfect as one example a staff member who left with multiple years experience and a top college education who was helping to lead departmental strategy was told she should be happy with the level she received',\n",
       " 'decisions related to technology strategy that can scale with the growing data and analytics needs of the enterprise',\n",
       " 'what operators and staff to hire the outcomes are good but it takes a long time to make the decisions',\n",
       " 'mid level leadership decisions specifically whom is being effective and not as effective as a people leader and ensuring that the men and women across all levels are feeling supported professionally this becomes more and more critical as chick fil a grows into an international brand',\n",
       " 'what short term priorities exist we re prioritizing too many things in the short term and there is a lot of inefficiency in coming to agreement on what s important in the short term',\n",
       " 'how to attract and keep the staff and team members i know cfa is doing great but need more work to compete against other big companies',\n",
       " 'amazing work is stifled because of the way headcount is allocated the process for getting headcount is very bureaucratic growth is outpacing labor capacity for current projects and i feel that current work is not weighted as heavily as needed for determining head count needs and allocation',\n",
       " 'democratic decisions some decisions need to be referred to higher levels of leadership to make a quick decision vs taking too long getting agreement from everyone',\n",
       " 'more collaboration among departments with set priorities and timelines',\n",
       " 'speed of decisions',\n",
       " 'we have a proliferation of technology we need to make more targeted and substantial investments in a limited set of tools rather than multiple and unconnected technologies that limit our ability to scale',\n",
       " 'de i decisions as this will help us grow',\n",
       " 'implementing dei help the business understand what issues cfa is trying to solve for feels like we are doing it because all the others are doing it establishment of race specific resources seems to divide rather than unite why do we ever have to call out race cfa has always treated their staff and operators with honor dignity and respect so what are we solving for',\n",
       " 'over the last several years i have seen a departure away from the sharing of the why behind the decisions that are made when i arrived at chick fil a there was no question that the corporate purpose served as our true north it was the filter that decisions at all levels of the business passed through to ensure alignment with our collective why as we have pursued an accelerated growth strategy over the last several years our focus and why seems to have turned more towards sales growth and less towards stewardship and positive influence we observe this in every atrium talk and field talk live where the sales results are highlighted and celebrated because it is what we measure but there is limited mention of the key principle we were built to accomplish to glorify god i recognize we are a for profit business and i am proud to be a part of it i just think we are losing our clarity focus and alignment on why we are working so hard to grow this business so fast and the trade offs that are being made as a result raises concerns',\n",
       " 'little blue menu felt like a last minute add on that threw a lot of departments into a tailspin and added a ton of work without any additional capacity the speed in which we dove head first into that without seemingly thinking through the pitfalls and risks was unnecessary and caused a lot of headaches when work like this gets thrust onto departments there are necessary trade offs that occur in order to meet the demands of the business my question is what possibly fell through the cracks or didn t get completed as a result of the lbm initiative or did nothing fall through because we have such high performing teams and did families suffer due to long work hours to make it happen it would be a great post mortem conversation at some point',\n",
       " 'real estate location we are building in very dangerous high risk areas we place the brand operators and team members at a dangerous crossroads when we make real estate decisions without considering crime trends our approach seems to be this area will be good in or years but the time it takes to get there is dangerous to say the least why not buy the land and sit on it we have to get better here',\n",
       " 'safety is a top priority of cfa and definitely should be but sometimes the covid protocols can be so strict that it deters people from coming into the office',\n",
       " 'promotions tms has unintended consequences and the process is inefficient',\n",
       " 'people leader hires',\n",
       " 'promotion decisions still seem very subjective despite efforts to create structure around them exceptions are still made for some and not others leading staff to believe favoritism exists',\n",
       " 'timing of departmental reorganizations',\n",
       " 'clarity and consistency around promotions and career path opportunities',\n",
       " 'project staffing while i understand it often does not make sense to hire a full time person for a project cfa needs to be willing to hire temporary help for projects we cannot continue to dangerously over extend our current employees during a project by expecting them to perform project work on top of their current job',\n",
       " 'the systems and administatative process need to be upgraded accouting close very slow process',\n",
       " 'focusing more on strong execution of work we tend to prioritize strategy as a company which is great and necessary but we often minimize the importance of executing it well this can be seen in the planning process as there is lots of thought about how we will conduct the process and structure bodies of work but the measurement of metrics and performance on the backend is very limited',\n",
       " 'speed and clarity of decision making at the support center for decisions that are more back of house and not restaurant customer facing',\n",
       " 'traffic flow into the sc i know this is not completely a cfa issue it would help if we had entrance and exit ramps west on south fulton pkwy to ease the traffic issue seems like additional ramps would help cfa and the community as cfa keeps growing the traffic will potentially get worse',\n",
       " 'people promotion decisions and fairness',\n",
       " 'chick fil a needs to improve the speed at which it decides on staff promotions',\n",
       " 'decisions around family care support it was a poor decision to end the family care reimbursement when the waiting list at the jccc is so large following that announcement with comments like the support center is open you can come back clearly indicates the lack of awareness around the complexities of childcare during this time',\n",
       " 'as cfa grows i like the idea of being able to move to a new city in the future right now it seems like i have to choose cfa over a new location',\n",
       " 'which department owns decisions especially as it relates to international matters',\n",
       " 'clearly sharing information about upcoming changes in this case i am referring specifically to little blue menu because it is such an outside of the box kind of venture it was difficult to clearly understand what it was i have been hearing bits and pieces of it over the past few months but i didn t fully understand what it was until just recently',\n",
       " 'organizational changes are communicated at the last minute and often leave departments questioning the overall impact there could be more transparency in how why these decisions are made and what it means for others',\n",
       " 'i do not think it s chick fil a as a whole but our department tax could do a better job when hiring promoting skilled staff our department s morale is down due to this we have people leaders that do not have the necessary people leader skills and sometimes do not have the technical skills either some staff are frustrated and strongly have considered leaving leadership has hired friends acquaintances that aren t adequately equipped and placed them in leadership positions feedback has been provided in the past but there seems to be no accountability from leadership when people leaders are not meeting expectations if we are struggling as staff due to a lack of leadership skills there needs to be a conversation action',\n",
       " 'there needs to be improvements in staff recruitment and ultimate hiring decisions',\n",
       " 'defining career path for staff',\n",
       " 'sometimes systems are put into place before sufficient testing and time and energy may be wasted in transferring to new system or coordinating systems',\n",
       " 'international too quick unorganized trying to go international for the sake of going international especially when there is so much white space domestically',\n",
       " 'pace of growth',\n",
       " 'people leadership positions putting people in the wrong positions that they re not equipped for',\n",
       " 'in my opinion hiring and promotion decisions are still made in a biased way therefore the best person for the job isn t always the person that has filled the role i have seen this particularly in people leadership roles and teams have and are currently suffering because of it',\n",
       " 'we have low skills and tolerance for stopping unnecessary work priorities change that is part of doing business but we are not good at stopping things when the new urgent project becomes the priority stakeholders still expect their important project to get done and we maintain a culture of high responsibility so we have staff that try to do it all when is the last time the ec or officers talked about work that we should stop doing when new projects are lobbed into the mix i m trying to think of a celebration where we talked about what we did not do when our priorities shifted',\n",
       " 'some decisions are made quickly or so it seems and then dropped and we move in a different direction some decisions need more of a long term view',\n",
       " 'the speed of hires',\n",
       " 'timely communications and transparency of message',\n",
       " 'speed of making decisions leadership should provide clear direction on how to get a decision made and make the decision leadership should say let s start at a move to b then c and then final decision a d often times its left up to lower levels of staff to identify how to navigate the decision making process',\n",
       " 'it takes a very long time for decisions to be made on system improvements i e restaurant payroll system replacement',\n",
       " 'large strategic shifts that impact multiple departments selection of new international markets it seems like a market is selected without input or consideration from impacted teams',\n",
       " 'business process and mindset shifts to enable us to use available technology to it s full potential',\n",
       " 'when changing staff s supervisor more time needs to be devoted explanation and considering of staff a quick decision can make staff feel unsettled and unimportant staff and supervisors create a bond and when that is taken away quickly it hard',\n",
       " 'be more mindful when placing someone in a leadership role friendship should not play a part in role placement',\n",
       " 'decisions around technology the recent conversion to cloud is a great example we were not as prepared as we should have been and there are numerous problems and issues that are still being worked out months later',\n",
       " 'i think we could stand to improve the speed at which we make some critical business decisions such as going international',\n",
       " 'internal business decisions seem to get hung up in bureaucracy and struggle due to lack of coordination across departments for example other teams individuals across the business are starting to do the work that my team is supposed to be leading it s an internal business process it s not core to to our business or brand but is purely a business operations function at some point leadership just needs to set the strategy across the business surrounding this function and help each team figure out their specific role in the process it s not rocket science',\n",
       " 'decisions that impact different parts of the business there are often circumstances decisions that appear to happen in silos to where we lose full benefit of leveraging opportunity across departments',\n",
       " 'what products to roll out to customers',\n",
       " 'process for getting answers to project guidance quicker',\n",
       " 'need to clarify strategy or communicate when a strategy changes we ended up opening temporary restaurants in uk in order to protect our trademarks because we were unable to find a partner deal that was satisfactory for both parties now i m hearing that we are going back to the uk',\n",
       " 'role clarity between departments is sometimes a grey line for example all of the data work happening across the organization who does what when it comes to data could be improved',\n",
       " 'data informed decisions we are growing too fast to not rely more on data',\n",
       " 'from a financial standpoint i think recent sales growth has shrouded some of the areas where we can increase our stewardship increased financial diligence and emergency preparedness may help us lean into our strategic moves with a be prepared attitude in case we are not blessed with such rapid growth in the future',\n",
       " 'technology decisions',\n",
       " 'tactical decisions particularly regarding technologies',\n",
       " 'decisions that cross departmental silos who owns the d',\n",
       " 'restructuring departments with little empathy for residual effects on staff',\n",
       " 'cfa will reorganize departments without sufficient explanation or plans in place the end result is confusion about job roles and more work on the staff to try to figure out the transition',\n",
       " 'technology choices',\n",
       " 'there is always room for improvement around people staffing decisions',\n",
       " 'strategic business decisions i think this can be a struggle for any large organization especially one that is growing as fast as chick fil a generally speaking i think it s always helpful to understand how a strategic decision will impact staff especially at the operational level i e do we have the right resources people tools etc to execute on a decision',\n",
       " 'better technology to integrate operator with support center',\n",
       " 'new hires timeframe',\n",
       " 'certain decisions regarding operators staff interconnectedness of course staff would not have jobs without operators and we are so blessed to benefit from the great work they do there are certain things that operators likely do not care we have to match each other on there will always be some degree of feeling separate from the other based on the nature of the difference in roles and i think most understand that at this point and staff want to support operators in the absolute best way possible i would say there is definitely value in focusing energy on how staff can best support operators quickly and effectively and taking that feedback from operators on a regular basis i think most operators staff go into their role understanding that operators did not sign up to be support staff vice versa ex waiting until recent years to remove facial hair guidelines certain communications about expectations on how staff support in wfh environment',\n",
       " 'sometimes timing and communication of major organization changes could be improved',\n",
       " 'hiring decisions can take too long hr process may be missing out on quality employees',\n",
       " 'decisions that are operator facing specifically around communication',\n",
       " 'adapt on the early side with technology we do well when we do move but sometimes it feels a little late',\n",
       " 'hiring decisions and the speed at which those occur',\n",
       " 'delegating decision making down to the right levels and empowering those people to own the decision there are many circumstances where we attempt to delegate but then leadership steps in and may add additional red tape that slows decision making down this can also lead to staff feeling unappreciated and not trusted',\n",
       " 'investing in systems to improve our work often times budgetary constraints get in the way and we don t have the funding necessary to make our systems work optimally',\n",
       " 'new software solutions it takes a very long time for anything to make it through the testing verification process to be used either in the restaurant or at the support center we currently tack on these decisions and work to people who already have full work loads instead of shifting work to allow people adequate capacity to get this work done timely it drags on for months to years because each decision isn t given the specific attention it needs',\n",
       " 'deadline decisions on new innovations that cause poor planning and large amounts of rework later rework can include the need to try and rebuild data infrastructure for reporting figuring out how to integrate poorly assembled systems etc',\n",
       " 'top down executive decisions about strategic bets when an ec member gives direction to do something people execute it at all costs even if that means operating in a silo going against sme recommendations telling vs asking there is a growing dangerous culture of top down speed above all else get out of my way mentality disguised as agile and empowered by ec orders i would like to see us move back toward thoughtful trusting collaborative partnership with those closest to the work who can challenge each other and the ec professionally we ve been drifting from this for several years and it is accelerating at a rapid pace',\n",
       " 'chick fil a should create a year corporate leadership training program so that staff can build their business acumen and influence of relationships program should be project based with a clear purpose',\n",
       " 'where they hire staff members from and where they recruit too much of the recruiting process is done because there are connections at a certain school and not because there is untapped potential coming out of a school this has created an environment that is extremely undiverse from a geographic perspective we need to hire from outside of georgia florida alabama and the carolinas and when going out of these states we need to not just focus on schools that we perceive as christian universities',\n",
       " 'creating a diverse culture where true differences are appreciated and valued',\n",
       " 'so many disjointed systems exist in the restaurant that do not talk to others pursuing independent solutions without thinking through the aspect of integration with other systems is my piece of feedback this shows up at the support center as well but operators definitely feel it in the restaurant',\n",
       " 'decisions around use of staff s time for example there are too many meetings with unclear or low value outcomes often these meetings can impede progress and result in delays in responding to operator and business needs one way leaders can address this problem is by determining if there is a better channel to deliver information especially when the purpose of a meeting is to inform participants whether that be a teams post email or video recording when video updates are recorded it s really helpful to be able to watch at times speed to save time',\n",
       " 'timeline on testing improvements the day to day business is moving at a rapid pace and decisions need to move just as quickly we have a number of antiquated systems that need to be updated and updated fast',\n",
       " 'masks at the support center this is not a sustainable way to work and truly is counter to our culture of smiling and eye contact at work it really destroys the culture',\n",
       " 'resourcing and prioritizing analytic tools and resources particularly forward looking insights and projections in support of operators so they can understand impacts to their businesses especially expenses and profit margin going forward',\n",
       " 'speed of solutions to restaurants',\n",
       " 'headcount efficiency',\n",
       " 'hiring decisions more so speed than quality of decision',\n",
       " 'at times there seems to be a lot of focus and stress on low value short term decisions that slow progress down usually progress is slowed down by the feeling that many stakeholders always need to be involved',\n",
       " 're evaluating the infrastructure of data systems since the business is becoming so dependent on data many of the systems are legacy and outdated and do not align with each other',\n",
       " 'hiring decisions can drag on months for an internal move months for an external hire',\n",
       " 'talent recruitment where we are recruiting talent',\n",
       " 'promotions so much more red tape and steps to go through for a simple promotion when the work has changed and progression roles',\n",
       " 'we ve gotten so big that bureaucracy has become inevitable the planning and budgeting process is cumbersome time consuming and ultimately doesn t enable us to complete projects in a timely manner it can be frustrating when trying to gain support for projects and the ability to actually complete them specifically when it comes to dtt resources we can obtain approval from our whole department for a project dollars to fund the project but we can t get the leadership or support for the project from dtt to get the project across the finish line in a given calendar year either dtt has become too segmented no clear owner when a project spans multiple platforms and or dtt resources are not aligned well with approved projects',\n",
       " 'chick fil a announced to staff that it should rarely work in the office and keep their distance unless absolutely necessary but then told operators on a field talk live later that week that the support center is open and running this seemed deceiving and confusing for staff as we are trying to navigate',\n",
       " 'timing of selecting candidates the lengthy process can create a bottleneck as the needs for people headcount can sometimes take too long to fill',\n",
       " 'recruiting and bringing in more diverse talent',\n",
       " 'staff culture decisions seem to be unstable these days with contradictions e g libby saying stay away from the office if possible to save the world from covid and then andrew telling operators to take heart in that the office is open and there are hundreds of people there',\n",
       " 'hiring for new roles of internal talent more support and transparency on internal job opportunities',\n",
       " 'departmental decisions need improvements',\n",
       " 'career progression seems to be convoluted and inconsistent often times tangible changes don t result in promotion or title change and instead it s a matter of tenure i was moved into a completely different role without any discussion the role is well outside my skillset and did not result in a title change',\n",
       " 'what we say and then what we actually do in the talent management system we say that it should function one way based on all the pretty charts but in reality it does not it is not clear what roles true opportunities and what are just check the box postings when someone is already selected for a role',\n",
       " 'leveling there are certain departments where higher levels are given at a dime a dozen and then other departments that are more frugal or stingy i distinctly remember an entire team getting promoted from consultant to sr consultant because field ops was that way is leveling just politics do i just need to get into the right department to advance my career',\n",
       " 'i think as the organization gets bigger it is important we make decisions where we are aligned so continue informing and communicating because it helps',\n",
       " 'don t immediately give operators what they re asking for we don t have to say yes to everything',\n",
       " 'technology software needed for various departments roles',\n",
       " 'they are way too involved in politics and political correctness than running a chicken company we are losing the core of who chick fil a is and conforming to something that every other company is there isn t much that is special about the cfa culture anymore versus any other large company at this point they are regurgitating what the politicians and lined pockets are saying and not looking at the reality of the situations and facts and trying to do what s popular how any of this is being handled the support center and jccc are not popular opinion they re just the mainstream media loud opinion',\n",
       " 'how to move work forward faster and get approval for items that have a long term impact to budget if something is not critical but is beneficial sometimes it gets pushed to the bottom of the priority i do think dynamic resourcing and givebacks have begun to help change this',\n",
       " 'chick fil a inc needs to improve decisions that affect individuals beliefs i understand the requirements when it comes to follow rule set in place that we cannot avoid but the messages and temperament of the leaders communicating things can improve a specific example is when dan recorded a video from a funeral basically shaming people into getting the vaccine it was not received well by some in his message dan choose some poor words around if this person was vaccinated he may still be with us i thought that was very poorly said it made me think that dan had given up on trusting in god s plans and his faith to rely on medicine',\n",
       " 'the next level down below ec officers better communicate share decisions within strategic bets programs of work or departments initiatives programs projects that may impact other groups departments',\n",
       " 'less emphasis on constant long term planning the past years are evidence that we need to build in flexibility and not be so rigid also plans always change in work priorities',\n",
       " 'we were too slow on allowing facial hair and now we are being too slow on professional attire at the office quite frankly i don t care if the person across the table from me is wearing jeans or slacks it doesn t change anything about my life or my interaction with them let staff dress for their day at both home and the office considering the war on talent this seems like an unnecessary potential detractor for some talent why make it harder than it needs to be',\n",
       " 'i would say chick fil a needs to make decisions quicker it takes leadership so long to make decisions some times that by the time the execution teams know what to do it s stressful and produces lower quality work as the estimated time to completion is expected to make up for all the lost time decision making',\n",
       " 'system updates some systems are updated or completely retired without proper testing resulting in issues in the field when changes are pushed to production these changes are often not communicated well to all affected departments especially to cfa help significantly increasing the time to identify and fix issues when they do happen',\n",
       " 'help bridging the operator staff relationship',\n",
       " 'strategic decisions especially with regard to the number of priorities',\n",
       " 'enable tactical teams to move quickly',\n",
       " 'we have too many priorities',\n",
       " 'decisions that impact multiple departments require alignment',\n",
       " 'internal mid to low level hr decisions such as hiring decisions promotions minor org structure changes often each of these are plagued by taking to long or by being too complex or unclear',\n",
       " 'tactically day to day chick fil a should be able to pivot re allocate resources to meet the ever changing needs of the business more quickly',\n",
       " 'requiring deep robust business cases for approval of budget above certain thresholds we get money way too easily to solution things that may not be most important to operators or the broader organization',\n",
       " 'we take too long to roll out initiatives that are needed to ease the burden of the labor shortage reduce complexity increase capacity and improve the team member experience in restaurants',\n",
       " 'operator centric versus staff centric decisions for example in restaurant day isn t effective for staff and not really for operators we need to openly acknowledge that these are two separate roles and their are pros and cons associated with each we don t ask operators to work alongside our legal team when negotiating a contract i truly believe staff and operators have an appreciation for our different roles what is lacking is we no longer have relationships i d rather see us ask staff to take an operator to dinner and get to know them than work an in unit day we ve lost personal relationships and with that empathy and grace',\n",
       " 'job leveling even though we say it s the role not the person there was recently a candidate that was dropped down levels due to experience',\n",
       " 'more rigor around approving headcount is every role being added warranted to support the business what happens when sales growth slows and the discipline isn t in place',\n",
       " 'promotion and advancement decisions toward staff the pendulum has swung way too far in the direction of catching up with gender and race to the detriment of long standing high performing staff who just are minorities',\n",
       " 'job leveling is a good example of where the process can improve very unclear on the why most times very inconsistent',\n",
       " 'how do we create systems to meet the demands of our growth',\n",
       " 'investment in talent',\n",
       " 'some decisions with respect to dtt software tools access seem to be made based on job titles or organizational structure instead of being made with respect to the job that needs to be accomplished',\n",
       " 'organizational moves changes have improved but still need to move more quickly in some instances',\n",
       " 'speed in making decisions that affect change at the restaurant level',\n",
       " 'supply chain moving product suppliers distribution centers transportation delivery to restaurants',\n",
       " 'the budget system getting quicker to adjust budgets based on need',\n",
       " 'selecting people leaders',\n",
       " 'hiring process it is very fast now we need to make sure we take the time to hire the right talent',\n",
       " 'diversity equity and inclusion need to decide to be actively engaged the program has been a disappointment because there are no identifiable concrete actions',\n",
       " 'sometimes finding the right people team department for the right work role clarity would help out tremendously here',\n",
       " 'staff promotions',\n",
       " 'specification updates and onboarding new suppliers we cannot take over a year to update specifications we cannot take months or more to onboard a supplier especially not at our current growth rate',\n",
       " 'responsibilities for new roles as we continue to expand due to the hyper growth',\n",
       " 'some departments are behind and it has taken extreme operator frustration or crisis to prioritize their investment e g dtt and supply chain have needed additional investment over the years and are now catching up',\n",
       " 'being more open to non cookie cutter chick fil a type people when assessing external talent',\n",
       " 'it seems like we are making decisions to grow build more restaurants quicker than we should in conversations with operators i interpret that operators feel that we should slow down some and many feel pressure that they will have to become multi restaurant operators',\n",
       " 'stewardship decisions there doesn t appear to be a lot of scrutiny around bodies of work within cfa that get disproportionate amount of investment i e where what is the roi on dollars and headcount it should be shared with staff and operators both to make them aware but to also hold stakeholders accountable to hitting goals and objectives',\n",
       " 'contingent suppliers and additional lines to support or protect growth',\n",
       " 'it doesn t appear we are hiring employees like we did in the past sometimes in conversations i wonder who are we hiring a lot of the new hires don t understand the cfa culture challenging when we are not in the office but it s a key part of who we are and we need to do a better job at allowing new employees to see and understand it',\n",
       " 'grace often spoken highly about as a strength but is not always extended in practice failures and mistakes carry a long memory within cfa and will limit opportunities to grow and advance even after years of positives and improvements',\n",
       " 'non executive leadership placements just because some people are great team members doesn t mean they will be effective team leaders',\n",
       " 'red tape around back of house decisions i e do we test this or is more work needed on small changes that will improve team member experience and have no visible effects to the guests need to be able to quickly pivot to give operators tms relief',\n",
       " 'we need to bring things to market more quickly time from inception to rollout is often far too long',\n",
       " 'what type of decisions require management approval this seems to vary by department',\n",
       " 'creating a more progressive talent development management system',\n",
       " 'it feels like we ve gotten a little sloppy on hiring decisions we re trying to go faster because we re growing and need more people but let s not forget quality is still very important',\n",
       " 'vertical integration and risk to culture partner relationships and financial perfromance',\n",
       " 'new systems and technology that are needed for better productivity',\n",
       " 'how we make leadership decisions is secretive and doesn t help people feel confident about their careers',\n",
       " 'a more holistic and futuristic view of how the organization will best support drive the most important initiatives strategic bets growth opportunities to include how it is structured and how work is done and flows across functions people departments to ensure we are spending our time and energy on what is most important and will most positively affect the entire business so that people feel more empowered and less frustrated and know that what that are doing is adding value and operate at their best maximum productivity',\n",
       " 'promotions that allow for process input and judgment input',\n",
       " 'we need to improve decisions that help us strategically prioritize or sequence work we put way more work in the system than we can appropriately execute or absorb and this is driven mostly by a reluctance to prioritize or narrow choices it is very hard for the ec to say this comes before that this is not intended as a criticism of the ec it feels less like an unwillingness to prioritize and more like something they don t know how to do if they knew how to do this i feel sure they would have led themselves to that place already we have valued the ec and officers for production and execution and we are just now starting to value them for strategy i think this will take time',\n",
       " 'pursuit of capacity solutions vs adjusting strategy high volume restaurants',\n",
       " 'multi restaurant relo additional opportunity operator significant drag and friction in these practices today',\n",
       " 'process implementation and new systems with i t add some basic training requirements',\n",
       " 'low hanging fruit we over think it then run it up the chain of command need to act quicker fail faster',\n",
       " 'staff selection we are hiring new staff at a rapid rate as an organization we need to make sure we are taking the time to vet candidates so that we are confident chick fil a is the right fit for them',\n",
       " 'ability to pivot quickly',\n",
       " 'not out growing our culture',\n",
       " 'lower leadership',\n",
       " 'providing an opportunity or path for career change within cfa',\n",
       " 'continue to make staff understand the importance of our operators to our business and that we are here to serve them',\n",
       " 'need to re evaluate the hierarchical structure slows the process of moving projects forward by a frustrating degree decisions made in mid stream to separate supporting departments to service different parts of the business ex operators and staff expertise is moved out of reach for one or the other customer departments are divided up to serve different parts of the business and experts are pigeon holed to one part of the business with limited or no cross over cost time and money and puts a high degree of risk for making the deadline when the project which has been in production for over a year has to wait until appropriate staff are hired and trained appropriately contracts are in place and vendor partners are well aware that cfa looks disorganized and uncaring about contractual commitments not to mentioned the stress it puts on the project lead and department trying to fill in the gaps to keep the project moving forward',\n",
       " 'communication we do well at sharing info in some areas but not in others every department needs to be held to the same expectations of who to ask tell etc',\n",
       " 'to be careful not to compromise our core values and corporate purpose statement by following man s ways or a liberal culture',\n",
       " 'dei is a great entity need more diverse leadership',\n",
       " 'this is hard to say but cfa has a tough time releasing people who are constantly causing issues for other team members',\n",
       " 'lower to middle management make decisions that do not support the culture of cfa',\n",
       " 'lower level decisions departmental hiring the best fit candidate for roles',\n",
       " 'talent hiring',\n",
       " 'staffing decisions let staff go who are reported multiple times over with insubordination and negatively affect team collaboration efficiency and culture',\n",
       " 'i feel we ve heavily invested in one company for much of our technology and infrastructure there have been times when they are unable to provide the needed support or service being so heavily invested makes changing difficult we re a very agile organization and we need agile business partners too',\n",
       " 'work processes in the technology area',\n",
       " 'execution decisions on how to implement organizational changes restructures org design etc when to time transitions methods of communication how people get selected moved integrations with other changes desired outcomes for changes metrics to understand effectiveness consideration of training development support outlining new expectations all of this type of change management is done very poorly here',\n",
       " 'intermediate term large investments when outcomes are not clear or roi is uncertain we can be indecisive and often allow too many competing voices to give input which makes getting started and continuing in the early stages of a project difficult for those responsible for leading the work',\n",
       " 'customer impacting',\n",
       " 'decisions that happen at the department level with the speed at which chick fil a moves departmental silos create ineffective communication resulting in the need to improve connected decision making across departments',\n",
       " 'technology and infrastructure we lag in internal systems badly inform even the move to oracle feels cumbersome and there are much more efficient ways to acomplish this',\n",
       " 'we make poor hiring decisions in our dept we tend to hire based on favoritism or political clout versus whether they are actually qualified to do the job this leaves people feeling like they do not have a future in our dept if they are not a favorite everyone knows who the favorites are and watches them get opportunity after opportunity while people who are not favored but more qualified get constantly overlooked',\n",
       " 'making some of the leveling more fair and equal there are departments within cfa that level up work significantly higher than other departments i could be doing something in one department at a and that same description of work could be an in other areas also some times an entire team gets releveled and there are people within that team that are not even doing the work of the current previous level but they get bumped up just because they are on the team there are many teams that very differently skilled people all sitting at the same level that are not performing at the same level lastly there are people making much more money than others at the same level and it isn t because of skill or performance its carry over from being field facing at some point in time',\n",
       " 'decisions that may be perceived as negative such as stopping or de prioritizing an initiative we need to be comfortable with making strategic decisions earlier on what to pursue but more importantly what not to pursue',\n",
       " 'the vision and strategy for international expansion are not clear it seems elusive and secretive and the perception is that if there is a strategy it is not well thought out',\n",
       " 'when organizational change decisions are made cfa could do a better job of recognizing the need for and putting in place a change management strategy elements of a change plan include bringing staff along before the changes are made communicating with them as people who have a need and right to know and who can handle change and putting in place resources systems and processes to enable the organization to support adopt the changes after they go into place',\n",
       " 'org structure our current structure contains some misalignments that overcomplicate delivery slow us down and create debate unnecessarily about decision ownership',\n",
       " 'communication with candidates when they are interviewing the process is entirely too long and dishonors people s time',\n",
       " 'we could improve organizational decisions by being clearer and simpler',\n",
       " 'decisions around technology for staff',\n",
       " 'in my role i am rarely empowered to make decisions i create recommendations that then have to be shared with others for input the ability to actually make a decision and move forward would greatly increase the speed with which i can do my job instead it s an entire process of running things up the hierarchy before a decision is made which sometimes adds months to the timelines',\n",
       " 'provide cohesive technology solutions within in each department i have worked that leadership team has decided on technology solutions because the current tool box offered doesn t perform as needed or dtt is unable to move as quickly as needed utilizing teams over bluejeans when macs don t seem to operate as well using teams',\n",
       " 'it bothers me so much that cfa puts me and others like me in a box i do not have a degree my department has during a reorg put me in a position that had a preferred requirement of a masters degree and yet i can t even apply for or get very far in the application process i want to apply for even for a preferred requirement of a bachelors degree i have proven i do not need a degree to be successful but some how cfa has chosen to tell me what i can do by putting me in a position with high requirements when it fits their need but not when i want to grow and try a new position that i would excel in bet on people especially when they are already your people with a great track record',\n",
       " 'diversity decisions appearance thoughts etc everyone shouldn t look the same at cfa all white men or majority white women everyone doesn t have to think the same either jesus is love spread more of that and don t be so committed to antiquated ways of thinking cfa is and has made improvements but let s keep it going',\n",
       " 'the rate of speed to make decisions can be slow but i know it is because they are careful and cautious',\n",
       " 'hiring decisions it seems like chick fil a inc s middle management makes hiring decisions that do not make sense for example a contractor who is doing amazing work for our company for almost years doing the exact same work as a staff position applies for a position and gets turned down because they don t have a college degree even though there are several co workers recommending this person and has proof of her work to show that she deserves the position',\n",
       " 'internal hires or moves though the focus on how is important as well as a culture fit if the person is not equipped to do the job well or not a good fit for the position that will eventually have a negative impact on their performance as well as the work of others around them',\n",
       " 'as we grow larger as a company decisions with small financial impact or decisions that affect only internal support center teams should be owned at the individual team or workstream level',\n",
       " 'organizational priorities the pace of the business is moving so rapidly and we need departments to align to the organizational priorities not add additional priorities to the strategic bets organization priorities too many priorities means nothing will be priority',\n",
       " 'cfa is so focused on growing people and giving people other opportunities within cfa that when a person moves roles their vacated role puts a burden on those left behind cfa hires excellent people but they need to do it faster much faster and hiring so many people i know cfa does not want to lay people off and we are only growing so i don t really see that happening but it is a little unnerving with cfa hiring so many people',\n",
       " 'mid level leadership i am curious how we both better evaluate and pour into mid level leadership i have heard from mid level leaders that they have never received constructive feedback in their career and yet their direct reports and colleagues are sharing the feedback with others i have also experienced some negative hr comments from leaders as well as direct lies because they felt like they were not able to share the full story leaders need to be coached on a balance between discretion and transparency and knowing that it is okay to say i am not able to provide more information at this time the coaching can also extend to including an individual on their career journey and not making assumptions on whether they do do not want to take on work based on their home situation maternity leaves',\n",
       " 'standardized processes and tools the company has lots of cross team and department work and without a standard process and or tool communication and understanding breaks down below is details on why this important and how a common focus decision on this could help why have a common tool for program management cross company visibility currently we just have transparency in departments and not across the organization creating silos and lack of a corporate roadmap and milestone to be easily seen central communication sharing one source of truth across the organization for sharing requirements input and updates ex smes across the organization can easily see and contribute to what individual teams are working on currently whed smes get updates through emails or calls one tool could give them a chance for asynchronous insight and feedback central documentation get documentation out of emails one tool would allow a one stop shop for anyone to go to when looking for documentation requirements links etc inter department dependencies tracking ex l d is working with dtt on requirements using different tools doesn t allow for work to be shared dependencies to be tracked or scope to be easily reviewed decrease ramp up time ex team member moves from l d to supply chain there is time to learn a new work tracking system this time could be mitigated if a common tool was in place team members able to work in one tools ex alex estes working in leankit and jira to support multiple teams',\n",
       " 'chick fil a middle management talent decisions middle man',\n",
       " 'duplication of work within multiple departments such as l d talent marketing and field ops often feels as if we are working on same work and not clear direction for plan forward takes lot of time to arrive at what success is and should be to serve the business and align with the strategic bets',\n",
       " 'as we grow in size as a company there will be an ever increasing need to communicate interpret implement large scale decisions at the departmental and functional team levels at times there is a slowdown as to when staff learn from their dept functional teams how a decision impacts their work this can lead to staff seeking clarity faster beyond their org chart channels to learn things as fast as possible to learn the implications of decisions',\n",
       " 'sometimes the use of our people resources do not always make sense we will have some teams people in our department that are overworking and others that are underworking we need to have a better balance',\n",
       " 'how fast and how many people we are hiring are we growing too fast how often we reorganize our departments',\n",
       " 'departments interview and hire differently consistency is needed',\n",
       " 'still if feels like upper leadership needs to have approval on most things even the small details or issues vps feel at times they need to have knowledge and decisions',\n",
       " 'group decisions not everyone fits inside a single box while some choice is given and you hear a lot about choice in large meetings on the smaller team level department leaders could do better',\n",
       " 'people leadership',\n",
       " 'some of the recent menu updates i e one size for shakes speciality beverages were not well communicated to guests',\n",
       " 'talent management system',\n",
       " 'how we talk about dei externally',\n",
       " 'i would love for someone to look at cfa holistically and see if there are any efficiencies sometimes i think we structure our departments based on leadership some leaders hold tight to the way it s always been done while some want what s best for the future of the org we all spent a lot of time with the capabilities but then we never saw them again',\n",
       " 'trying to straddle our culture and our growth i don t think what makes cfa cfa is well defined and therefore any change is slow going',\n",
       " 'the speed in which we are selecting staff being part of ta and watching people leave cfa with less than years on staff is evidence it was not a good fit we need to spend more time vetting and if we don t have enough time we need to slow down on permanent full time and hire more contingent our urgency to fill is impacting our rigor to make the right and best decision we have to become better before we become bigger',\n",
       " 'cfa inc could improve upon people decisions in the upper echelons of leadership not necessarily the quality of the leaders but we could have a greater focus on diversity of thought background ethnicity etc it would also be nice to understand why certain people decisions are made and why they re made at a specific time sometimes decisions can feel random and sudden',\n",
       " 'speed to assist operators and launch productive tools to help team member complexity',\n",
       " 'headcount the amount of staff needed to execute our strategic bets',\n",
       " 'remote work satellite work options we may not feel that we re losing talent because of it and if we are everyone wants to work for cfa or they re just not sold out on cfa so it s not that big a deal but that feels really cavalier and not like us it shouldn t be a negative against someone or an indication that they wouldn t perform or be loyal and committed to cfa if they desire to work remotely for the majority or almost the entirety of their month and i m actually not one of those people i love the new hybrid model if we want to increase regional geographic diversity diversity of experience and even diversity of age we need to move towards being more be open to those who want and or need newer work models',\n",
       " 'we talk a lot about dei but there appears to be a lot of inequities when it comes to leveling and salaries there are staff with the same titles making more money just because of the team they are on or because of who they know can we start looking at equity in terms of pay',\n",
       " 'this isn t a specific example but a culture of over preparedness excessive stakeholder management resonates with me i spend a lot of time pursuing excellence in all that i do which in theory that is a great value but i often feel too much pressure in this area',\n",
       " 'who becomes a people leader',\n",
       " 'speed of which decisions are made',\n",
       " 'diversity equity and inclusion there needs to be intentionality around selections to make leadership more diverse',\n",
       " 'official policy on degree s required for roles and how that affects the ability to move across the organization there is a lot of back and forth within talent experience talent acquisition and it creates confusion',\n",
       " 'budget we can be slow to fund initiatives bodies of work strategies that have longer term impact or that may impact support center staff specifically while i wholeheartedly understand why the support center exists and agree that we must serve and support our operators we sometimes seem to ignore those things that would help support staff not thinking about the fact that when staff has the resources budget people technology to do their jobs they can better support the operators',\n",
       " 'not enforcing or even encouraging in person work slow to return to the office results in lack of accountability productivity and creativity creates haves and have nots of those that need to come into the office for their roles office amenities and engagement are not as robust as when full staff is in attendance',\n",
       " 'i have not experienced having a strategic plan to guide prioritization decisions across different initiatives impacting the same audience such as staff and people leaders a suggestion would be to have sr leadership look at a roll up of all initiatives and prioritize the value created for vs effort required from impacted audiences',\n",
       " 'ones that are politically sensitive with interpersonal ramifications eg flexible future is it principle based or a rule of days be clear vs vague where you are afraid your answers will polarize people or damage culture',\n",
       " 'anything internal that may be perceived as tax to our culture if things don t go as planned average of days in office guideline took forever to get to the decision and it is not being reinforced consistently',\n",
       " 'making decisions about staff based on how it will make the operators feel we are here to support our operators but i don t feel we should have operators dictating decisions that impact staff we all work for chick fil a staff and operators',\n",
       " 'sometimes we can over science things especially in the talent department our leaders are leading already complex work sometimes i think we can help them cut through that complexity by bringing more simplicity to their people focused work',\n",
       " 'at times ec directives can be vague and not as clear some leaders struggle with operating in the gray and would rather the ec be more black and white example some leaders struggled with creating department cornerstones because they were comparing and contrasting with other departments do we track days in office days or not how many cornerstones should we have if we have too many staff will look for opportunities elsewhere',\n",
       " 'the performance review process at cfa is very inconsistent across departments and sometimes within departments i think it is great that feedback is provided for not just the what was accomplished but how it was accomplished i think when it comes to the rating portion some departments weigh the how heavier than others since the how is the subjective part it seems like inconsistencies are more likely',\n",
       " 'planning process the amount of initiatives efforts that are pushed through planning we need to consider the people impacts and capacity of these initiatives to include intended outcomes what does success look like and when we do perceive it being achieved who is impacted who will be asked to do something new and different and to what extent readiness is the organization ready to support this effort money time capacity of resources who will charged to execute it and resources and are our people able and ready to absorb adopt engage and own this new initiative do they have capacity to do so dependencies what are the dependencies of this effort on other efforts taking place now or others planned for the future these are just a few but our planning process has to shift and how we make decisions at the planning juncture has change and be aligned with the broader org business objectives in order to drive effective decision making to be effective at the leader mid level leader and staff level additionally when decision making and clarity it missing at the org planning level it has a direct impact on staff experience productivity role clarity role movement fatigue lack of capacity etc',\n",
       " 'understanding personal and team bandwidth to appropriately staff including vetted decisions about the efficiency of technology to ease the workload',\n",
       " 'our contracts process to engage with new vendors is incredibly slow many times we are needing the resource far before the process started and a months contract review period feels excessive',\n",
       " 'finding talent i have heard from several people that they are acting as their own recruiter we have lost several good candidates due to slow pace and also wasted time interviewing candidates when the recruiter has not clearly communicated expectations of the role the market is more competitive than ever and we need to be more organized and prepared once we are actively recruiting for open roles',\n",
       " 'staffing levels to support the work with the business growing at the rate that it is there doesn t seem to be enough staff to support the growth even though there seems to be lots of hiring it seems we are behind and that staff are often over worked and or quality can suffer due to working at such a speed due to the workload',\n",
       " 'understandably the employment market has changed however with the speed of growth and many departments bursting at the seams with added responsibilities for current staff there is room for growth with the speed at which new positions are approved to fill',\n",
       " 'legal decisions we approach a lot of our decisions with the intent of having risk without business value into consideration this slows down projects and can lead it in efficient processes and processes that are not scalable',\n",
       " 'systems the process to add a new system or change an existing system seems to take a considerable amount of time the number of communication vehicles we have to stay connected to one another are overwhelming i feel like i can never step away from work it is hard to keep up with the volume of email messages and messages in teams',\n",
       " 'prioritizing rollouts',\n",
       " 'i think we still have work to do on the career opportunity clarity especially when it pertains to job levels and how those are vetted and decided',\n",
       " 'very senior leaders ec spend too much time on decisions they don t need to be making i e facial hair policy',\n",
       " 'recognition and promotion of high performers',\n",
       " 'more about speed of decision making who is involved and risk profile vs a particular type of decision',\n",
       " 'decisions that have a level of risk or unknown factors or that are too far outside of the box some decisions challenge the existing mental model for how cfa does work or what support looks like or to what extent the operators must be happy with it these decisions seem to challenge leaders',\n",
       " 'speed to market for innovation initiatives',\n",
       " 'operator selection for multi unit i spoke with an operator who attacked the operator agreement and the deal after the conversation i saw he received a second restaurant a few months prior he received what he wanted and he no longer had to pretend',\n",
       " 'middle to lower importance level of decisions at some point these decisions are made by middle managers but still require the sign off of a certain level of leadership leading to a lengtherier process',\n",
       " 'need to make decisions more quickly',\n",
       " 'cross departmental decision making there often is unclear decision making sponsorship on cross functional cross departmental projects',\n",
       " 'employee growth promotions promotion decision seem to be based on who is friends of the leader not on the work output it feels like who you know is more important than the work you do',\n",
       " 'the process needs to be faster more efficient',\n",
       " 'decision making gets clouded by relationships decisions are often made with a bias toward protecting the feelings of a few at great expense to the broader populations a number of people have expressed concerns to me about the influence that a handful of old guard operators and tenured staff have on senior leaders the squeaky wheel gets the grease even if the decision is not beneficial to the broader population',\n",
       " 'planning sequencing of events the quantity and organization of cross functional teams that slow down decision making treating headcount and budget totally separate',\n",
       " 'we need to improve our decision making on how to build a business model of the future while also maintaining our secret sauce we need to determine how to keep operators engaged and the core of what we do but also adapt the operator model to develop a market ecosystem to allow for growth in the future right now those decisions are too slow or hesitant about true transition for the future',\n",
       " 'we could be better at making decisions more quickly where we re trying to test and learn',\n",
       " 'decisions around career bands leveling of roles this area needs a big check up across the business they are out of alignment within departments and teams and they are not consistent from department to department examples roles that evolved or have changed with increased responsibilities are not re leveled moving someone into a role and dropping the level that was previously at a higher level',\n",
       " 'less of a meeting based culture where the majority of the day is spent in meetings',\n",
       " 'decisions about moving quickly to make sure the business is prepared for what customers want vs our competitors',\n",
       " 'short term priorities we say yes to a lot making it easy to feel overwhelmed',\n",
       " 'leadership at various levels should continually assess what decisions they beee to be making vs delegating our svp shouldn t be making choices on font colors or k budget variances in this time of tremendous growth a d speed',\n",
       " 'hiring diverse talent',\n",
       " 'chick fil a could do a better job at making customer based decisions when it comes to the experience and design of programs',\n",
       " 'support for the current business today often times resources across the org are on the new and not here to help what we need today for operators this happens a lot with dtt partners',\n",
       " 'more room for growth within current leveling system',\n",
       " 'decisions that due to the culture require a lot of approvals up through leadership that create bureaucracy and stall those decisions for which timing is critical to executing there is a need for more understanding of decision autonomy',\n",
       " 'consistency on job levels across the organization feels like there are inconsistencies on levels from one department to another',\n",
       " 'people leader decisions',\n",
       " 'we tend to be slower than the industry speed up decisions',\n",
       " 'decisions around clarity of ownership what team has the decision on what ast vs department vs strategic bet and audience teams',\n",
       " 'brand and business decisions chick fil a has experienced incredible success by doing the things that don t always make the most cents closed on sundays operator agreement emphasizing hospitality etc but those moved have proven to be incredibly valuable for our brand i have experienced a greater swing towards prioritizing the cents over the brand heart piece and while both are incredibly important i don t want us to lose that ability to make brand and business decision',\n",
       " 'dei decisions and impact most staff understand that change will take time they are appreciative for the steps that have been taken they are also keenly aware of what has not been done decisions that have not been made and actions that appear symbolic versus having any real impact ex dei officer but no official affinity groups',\n",
       " 'diversity of senior leadership within departments',\n",
       " 'communication to teams prior to leadership moves before they are shared with inc an hour before announced to inc is not helpful or kind',\n",
       " 'making sure that when launching a new system like the talent restructure that all people leaders have answers to questions that may arise from staff numerous times we have done this type of thing and i have asked my leadership questions and they say they have no idea it is very frustrating especially when you are given an email address for addressing questions and the answer is to ask your leadership but you already have and they don t have the answer',\n",
       " 'inclusion of diverse leading sponsoring diverse leaders from all backgrounds not just african americans but also asians and hispanics using hr analytics to make decisions on who gets promoted or tapped for big projects instead of just relying on who knows what taking a bet on diverse leaders and growing them and not just growing only certain types of leaders',\n",
       " 'we need to become more comfortable moving forward with decisions without getting feedback and changes from an extensive network getting feedback and buy in is good but our decision making is slow due to having to check with so many people first',\n",
       " 'zero waste to landfill efforts at support center and restaurants',\n",
       " 'decisions on leveling of roles the total rewards team does a great job of trying to be responsive but there is still a lack of clarity on levels and that seems to mean decisions on leveling of a role take too long',\n",
       " 'people movement consideration is not taken to the impact of the team to put in new leaders every two years',\n",
       " 'building all aspects of diversity',\n",
       " 'tactical decisions how things will get done when moving fast or slow when moving fast important to not move too fast and miss something important or have to do rework later when moving slow important to know when to pivot as internal and external factors change',\n",
       " 'visibility into career opportunities after level',\n",
       " 'earlier communication of org planning timelines',\n",
       " 'generally the speed at which decisions happen there needs to be clearer ownership of decision rights as many decisions go through lots of rounds of meetings to get input from tons of stakeholders that do not own the decision',\n",
       " 'talent management system the ability to earn promotions and advance career is difficult work changes continuously for staff and people levels adjust often without pay increases certain levels are given the opportunity to grow and be moved in the org while other levels have to apply for positions we are eager to attract talent from the outside before trying to grow and promote from within many of the open positions are becoming very niched which don t allow for many long term growth options',\n",
       " 'speed to market decisions',\n",
       " 'acknowledging distinction between staff roles and operators',\n",
       " 'diversity equity inclusion',\n",
       " 'role leveling and promotions',\n",
       " 'decisions that have a tradeoff between customers and restaurant complexity as i feel that we often swing from one side of the pendulum to the other depending on who we are hearing from most loudly at the moment',\n",
       " 'seems to be a lot of lack of credibility trust with respect to how well due diligence is done within strategic reinvestment facilities equipment teams as they allocate their resources many operators don t feel the front lines of this team understands the operator model well nor listen well',\n",
       " 'diversity equity and inclusion goals and implementation speed',\n",
       " 'we struggle with short term decisions for example taking a menu item to test only to wait for months maybe even years before making a decision we do not pivot or say no quickly',\n",
       " 'talent management speed to hire can be lagging and sequencing of roles makes it difficult to get to the top of the queue',\n",
       " 'innovation decisions that evolve operations or technology quickly',\n",
       " 'career advancement should based off skill set of individual performance and less on who you know',\n",
       " 'speed to decision',\n",
       " 'remote work and how it impacts different demographics within the company many decisions seem to be geared to people in traditional family units and doesn t seem to be inclusive of single people etc',\n",
       " 'clarity around approval process as it relates to external affairs essentially what we are and are not willing to communicate externally and sharing the why with the team working on those communications to help develop understanding',\n",
       " 'inclusiveness the culture can sometimes make you feel like you are not a part of the business',\n",
       " 'while leadership appointments are great i wish they were more diverse race ethnicity gender etc if we don t have a diverse pool we re choosing from internally then we should be open to hiring externally for leadership positions not just for mid to lower level roles we have culture that places a high value on tenure when determining who has the authority and respect to make decisions',\n",
       " 'the way senior level leaders get pulled into and involved with other group s conversations and decisions with operators because that leader and operator have a long standing relationship',\n",
       " 'decisions need to be made faster operators are begging for solutions that impact them daily decision making needs to be pushed down to the people closest to the work that best understand how the work influences there should be a governor perhaps like a budget amount and if a decision falls under that amount let the department leaders approve without it having to go to the ec',\n",
       " 'there is a disconnect on the projects that get approved and the resources to support them i would love to see the business plan process better tie the two together especially when it comes to prioritization of the new hc approvals the project may be a high priority work but then the hc may not get the same prioritization to support the work we have made great strides here but still could continue to work to improve this link',\n",
       " 'what communication tools platforms programs to use as many options are available we have implemented so many that much time is spent trying to find where original communication or file lives example did it come from an email a text teams chat tools v mail was it on zoom bluejeans teams mtg or other again much time is wasted trying to find the mode of communication pick one and everyone use it we d be faster and have clarity',\n",
       " 'resources to support work how head count is decided and prioritized',\n",
       " 'decisions that prioritize the customer needs for the long term and allocating resources toward planning for those needs i e technology solutions new ventures',\n",
       " 'there are some decisions that do not feel right for all guests operators and the business specifically legislated issues that challenge our legacy one example is the foam cup it s beloved and part of truett s original experience its also a great cup thats cost effective but due to rising legislation and suppliers exiting foam production there is substantial risk to our supply and brand how can we effectively respond to change that is necessary for the business even if unpopular',\n",
       " 'continue to stay away from political and cultural movements in the news these matters are divisive and do not reflect the company s stated values',\n",
       " 'team member based',\n",
       " 'quicker turn around on some decision making',\n",
       " 'capacity store level',\n",
       " 'speed to decisions feels like a lot of people have to speak into a decision',\n",
       " 'sometimes what should be easy decisions based on all the evidence and data feel like they need to receive unnecessary levels of leadership buy in which slows things down and makes things that feel like they should be a home run be delayed and cumbersome',\n",
       " 'name',\n",
       " 'low risk decisions ex changing a minor menu ingredient or aspect of our website it requires too many steps or approval low risk decisions are often given the same gauntlet of approvals as high risk decisions i think this is rooted in leadership needing to be able to defend decisions this being a successful beloved family owned company everyone feels the great pressure to not mess up the incredible legacy we have we need clarity about what low risk high risk decisions are',\n",
       " 'chick fil a needs to improve on the speed in which decisions are made although we ve been asked to be nimble and to take risks it doesn t resonate with every individual and every department too many different leadership teams are needed in order to make a decision on something',\n",
       " 'creating an environment of growth across all teams at the support center and in our restaurants',\n",
       " 'manpower decisions',\n",
       " 'having a clear dei strategy and framework seems to be taking a while which creates concern that the company is not giving proper focus on this area',\n",
       " 'decisions where different departments have opposite opinions for example if operations wants more throughput but risk feels this is too much for team members to handle cfa does not do a good job of reaching a decision and projects tend to end up in limbo',\n",
       " 'ones that would provide immediate restaurant level impact',\n",
       " 'decisions that allow for diversity growth',\n",
       " 'hiring decisions diversity we just hired people to the dept and none were minorities and these hiring decisions were made after we were told there would be an intentional change to hiring',\n",
       " 'credentials for hiring hire more people that can be leaders versus solely subject matter experts',\n",
       " 'i believe cfa needs to be careful not to bend to the pressures of the outside influences to be like other so called successful well known businesses sometimes i believe decisions are made for those reasons therefore bending the core principles that have been once exposed shared has hard fast business decides and yet don t seem to align',\n",
       " 'hiring decisions mostly around length of time',\n",
       " 'name',\n",
       " 'account inflation into decision making with the current inflation rate if inc can leverage good debt to accelerate technology business growth and talent would help us win long term',\n",
       " 'customer facing changes menu deletions may be driving some customers away',\n",
       " 'funding and resources for departmental level needs less strategic but still critical infrastructure',\n",
       " 'those that have impacts to the organization working well together and directly on the people in the organization ensure those being affected are properly included in the process for example the setting of role levels it s my understanding the levels for my team were set without consulting my people leader the director of our team was not asked about what exactly everyone on the team does day in and day out the impacts influence of the roles etc this has caused issues not just for our team but others across the business for our team there were several consequences several on the team did not feel their work was properly honored by the organization there was a lot time wasted by the leadership team as we followed the proper channels to pushback on the leveling lastly the leveling made it difficult to attract the right level talent to our team from across the organization for example a field consultant makes for a great fit for a role on our team but they would have to take a level or two down to join our team to do work as impactful or more impactful than they are doing as a field consultant',\n",
       " 'funding of work and the need to move quicker',\n",
       " 'promotions and succession planning at mid level level decisions feel a bit arbitrary and based on personal relationships closest to the open position vs looking at a broad group of candidates that may be best for the role',\n",
       " 'leadership development at lower levels more mid level leadership roles clearer communication of potential next steps in certain departments and career paths',\n",
       " 'provide clarity for growth opportunities for staff especially with the relatively new leveling process as it is very unclear',\n",
       " 'increase investment in technology customers want more capability in the palm of their hand and we need to be a leader in this area not a slow follower',\n",
       " 'decisions that meet a current restaurant painpoint without the need to deliver a perfect solution that takes too long but instead a bronze solution with additional enhancements',\n",
       " 'how do we get bronze level solutions out to restaurants faster',\n",
       " 'decisions that are driven by a few influential operators versus a more representative set of operators',\n",
       " 'ensure decisions that are made to ease operation do not negatively impact the customer or team member i e milkshake size simplification',\n",
       " 'people decisions specifically promotions there is lack of clarity in the process',\n",
       " 'i am new to marketing department so i can t speak well to that just yet i do know that in my previous department i think empowering and trusting teams to make decisions quickly bypassing hierarchy and red tape i think we can activate on work quicker and better',\n",
       " 'chick fil a needs to improve on making decisions on remote working there are a lot of employees who have moved out of state that are struggling to understand the future of their careers',\n",
       " 'i think the speed at which they make decisions could be improved',\n",
       " 'we need to be more effective in our decisions around capacity in the restaurants we are always behind on these issues and it is affecting operators team members and the organization',\n",
       " 'the headcount request process can be very confusing here positions do not appear to be linked to budget all hc seem to be weighted equally so a request for a level counts as hc just as a request for a level even though the cost would vary significantly also it would be helpful to have additional categories of staff such as part time or temporary labor rather than having longer term third party workers in some cases lastly there was a lot of work on understanding headcount drivers a couple of years ago but it is not clear to me how that work has translated into the hc request process',\n",
       " 'decisions where objectivity and transparency are more beneficial holding key relational partners accountable to the market supply sometimes decisions are difficult and require putting aside emotions even just to validate existing partners there are also lots of unsaid norms that aren t clearly communicated and we try to be objective but the subjectivity comes out after effort has been expended unnecessarily',\n",
       " 'any decision to be made at the departmental level and below that relates to efficiency most staff members i know could tell you in under five minutes two things that would make their job more efficient without sacrificing quality or stewardship',\n",
       " 'i think there are lots of decisions made for short term results at the expense of long term sustainability particularly in the digital space having frank conversations about expectations priorities and timelines would help with this',\n",
       " 'decide to give clearer answers when pressed for anti lgbtq history or related donations this is really holding us back from a staff recruitment and customer loyalty perspective can we finally throw off this yoke if we want to extend honor dignity and respect to everyone we need to say unequivocally that we do not support organizations that seek to undermine lgbtq rights period',\n",
       " 'i think the cfa could improve on how technology resources are brought to awareness of staff a lot of times i don t know what tools we have cfa needs to improve on having more uniform resources across all departments everything is so segmented like each group is on it on island',\n",
       " 'work prioritization too many projects get approved and there is not sufficient oversight to ensure projects not formally approved by leadership are not moving forward and taking time away from important projects',\n",
       " 'growth pace can outpace staff capacity',\n",
       " 'decisions involving different teams stakeholders can be slow',\n",
       " 'decisions affecting multiple business constituents at times lack coordination for example testing of a new potential scheduling software in cor or other company owned restaurants may have implications for operators that are unique and different but which might not be considered on the front end',\n",
       " 'with the fast paced nature of the market sometimes it appears as though decisions are made without the full consideration onboarding of the supporting infrastructure resources it systems staffing and workload etc',\n",
       " 'decisions regarding operator autonomy',\n",
       " 'decisions related people it does not seem that people leaders are always involved in decisions relating to promotions leveling',\n",
       " 'while cfa should always consider operators restaurants first we need serious help with our infrastructure at the support center technology needs may be approved but partnering with internal resources like dtt can be challenging because everyone is strapped for resources',\n",
       " 'more accelerated process for onboarding staff needed for the exponential growth of the company',\n",
       " 'the contingent worker program is unclear and seems inefficient for all involved cfa has to continue to hire and train new workers and the contractors are out of a job on a yearly basis for a company that prides itself on caring for others how does this program demonstrate care',\n",
       " 'team continuity when various departments have representatives on certain teams each department transitioning people on and off those teams at different times in close succession can be disruptive to working efficiently',\n",
       " 'a more cohesive approach to technology tools for project management and insights is needed',\n",
       " 'with the exponential growth of various departments at cfa cfa needs to improve how it allocates space at the support center many departments have far outgrown the space dedicated to them more than years ago making it difficult for staff to secure desirable work space and interface with colleagues for instance if half of the staff within my department come to the support center our area will be over crowded',\n",
       " 'in light of the size of the organization chick fil a could improve the speed at which we make decisions we value collaboration which is generally great but it can slow down the decision making process',\n",
       " 'bureaucracy gets in the way of effective decision making the rapid growth we ve experienced in recent years plus the constant restructure and re organization that happens across the business adds a significant amount of time to decision making for the simple fact that it takes a while to determine who should make the decision and if the person is new that person has to get up to speed before weighing in',\n",
       " 'decisions that require more staff than we have to do it well like opening more restaurants than we have principal construction leads to oversee them all',\n",
       " 'allocation of new hire positions amongst the company often times it feels like certain departments get more positions and the other departments do not get the same positions and then it s not balanced to handle the influx of work',\n",
       " 'with the growing need of operators chick fil a inc needs to add more members to some of its corporate team in order to better support',\n",
       " 'decisions around approaches to handling cultural issues',\n",
       " 'decisions that involve trade offs occasionally senior leaders need to prioritize or sequence work but due to realities it can be challenging to make the decision',\n",
       " 'sequencing of major projects and change initiatives i cannot absorb any more ways of working changes even when they are improvements expenses invoices changed workday changes learning beeline campus is new printer changes tech support changes ms teams changes and all of this isn t even the work projects we are delivering to operators team members and customers i wish there was more air traffic control',\n",
       " 'headcount allocation',\n",
       " 'restaurant reinvestment speed decisions',\n",
       " 'the speed at which we make decisions should be improved',\n",
       " 'leadership disruptions timing and impact of moving talent around',\n",
       " 'decisions and policies made at the highest level are made quickly and efficiently but it seems to get bogged down once it moves down a level or two decision paralysis seems to continue be a problem with some groups',\n",
       " 'scope of work staff are generally burned out and have too many tasks that all seem to be high priority',\n",
       " 'i think we need to improve on focusing on how many initiatives we target we decide what work to do and where it ranks in priority but at times over commit people s time to what can actually get done and or we refuse to scale back the amount of work to be done',\n",
       " 'when we get down to the nitty gritty everyday decisions on strategy there s less of a single threaded decision maker we fall into group consensus which can be confusing and slow',\n",
       " 'sometimes legal decisions have large impacts on the execution for example we were told there were legal reasons to restrict contractor engagement but we are still experiencing the ramifications of that decision in technology constantly having to onboard new team members creates churn and delay in delivery',\n",
       " 'the sheer number of new projects and commitments as this can often overload operators and staff',\n",
       " 'cfa has a consensus culture to some degree so it s hard not to have everyone in the room for every decision and parse out decisions to just the minimum number of people',\n",
       " 'this is not a type of decision so much however i believe that we need to continue improving on our consensus culture which makes decisions impacting many teams take a very long time i am very appreciative that cfa s leadership pushes decisions down rather than having them all happen at the top but oftentimes without a single higher level decision maker decisions can take a very long time to work through',\n",
       " 'general speed at which decisions are reached can be longer than desired i e contract negotiations with vendors where other work is dependent on contracts being signed and that work is delayed due to contractual disputes that take longer to work through and sign',\n",
       " 'cfa mandating an opening of stores on january has caused undue stress to operators their team members and support center resources during the holiday period in many cases stores are not ready to open and do not have the staff to support an in store opening at the support center dtt is having to re prioritize and scramble to support this opening from a technical perspective considering this is the holiday season i would think cfa would want to ease the stress of working during this time period',\n",
       " 'deciding and acting on what is best for the customer vs the operator this can be seen frequently when discussing initiatives in the digital experience that directly benefit the customer but not necessarily the operator',\n",
       " 'saying no while i said that chick fil a generally does a good job of prioritizing work the other thing that happens is that there are attempts to move work forward even after resources for the work were not approved especially required headcount we can definitely think about creative solutions including engaging partners but even in partner engagements there is a fair amount of staff time required at some point we just don t have enough people to do everything an example of this is the marketplace relevance innovation funds with this being in addition to all of the planned and approved work it s uncertain how much additional bandwidth existing staff members have to pursue additional innovation initiatives using the funds',\n",
       " 'the overwhelming number one to me here is focus the best thing about when covid hit was it became very clear what areas projects experiences were the most important to focus on everyone was marching towards a clear shared purpose and work was able to move quickly because we were very honed in on the areas of work that were differentiating to survive and thrive once plans were made and approved it felt like we were back to the old ways of having hundreds of projects and focus areas with everyone who owned those projects thinking they were the most important thing in the business work progression has become much slower because we are asked to focus on so many different priorities and we end up making only progress on and or endless different initiatives instead of progress on a handful of critical initiatives that would really move the needle i really don t think the answer in this case is more money or resources to increase capacity it s about using the resources and money we do have to focus on the stuff that really matters not tons of little side projects with significantly less impact overall',\n",
       " 'alignment across departments like dtt btr cdx and field ops how do we get clarity of the best direction across these teams',\n",
       " 'we need to be better about adapting to cultural shifts especially about appearance for instance we were waaaaaay too late to the game on getting rid of ties suits for managers and pantyhose for women allowing men to have long hair bears and ear piercings and hiring people with visible tattoos we still don t allow non traditional hair colors which is insane to me in how in the world can you say that someone s choice of hair color reflects their professionalism and why does that even matter why is it ok for of women in the workplace to bleach their hair blonde destroying their hair over time but it s not ok for someone to use purple shampoo to put a colorful tint in their hair that is perfectly healthy and doesn t fry their hair clothing is another one for some reason we say that a shirt with extra fabric around the neck and a few buttons down the sternum is nicer than a shirt that omits the fabric and buttons this is a polo vs a t shirt pants that are made out of cotton and polyester are nicer than pants made out of denim dress pants vs jeans i understand the desire to mirror the attire in restaurants and think that s valuable however the type of shirt or pants shouldn t matter your clothes should be clean fit well and free of anything offensive and that should be the requirement give team members the option to wear various types of cfa shirts then we can mirror them and stop worrying about the type of fabric people are wearing to work cfa s stance on appearance has been far too closely tied to traditional southern christian opinions which tend to judge people based on subculture stereotypes cfa has leaned on outdated corporate norms too we have to break out of that mindset and allow people to look and dress how they are comfortable i m not a collared shirt and slacks kind of guy so in order to actually bring my full self to work i d need to dress like myself in a well fitting t shirt and clean jeans it s time to stay current with culture and norms not to be consumed by them but to let people be themselves',\n",
       " 'project level decisions where we may have too many levels of input required too many hands in the cookie jar so to speak potentially leads to slowing down the process of delivering outcomes to the field customers end users etc',\n",
       " 'decisions that require speed we miss out on opportunities of the moment because we make decisions so slow and have so many layers of approval',\n",
       " 'they need to work on how quickly we respond to what the general public customers want new products enhancements etc',\n",
       " 'sometimes we are slow to move but i think there is wisdom in that',\n",
       " 'being more direct with expectations that comes from managers and in performance reviews some growth each year is needed or a needed head count is not providing the work outcomes that were intended',\n",
       " 'i think one thing that we can improve on is how long our process takes to recruit and vet new talent i understand why it takes a longer amount of time so that we can get enough people to interact with the candidates but i fear that over time we will miss out on top talent to faster and more streamlined processes i have experienced this in my own journey and heard it from several other people s journeys',\n",
       " 'we should focus on upgrading existing stores and keeping their quality up to our expected levels i have heard examples even in the local atlanta area where store are not providing the level of quality given across other locations in chain',\n",
       " 'some decisions are made then remade after the decision was clear sometimes those who provide input disagree with a decision and due to our gracious culture the decision is opened back up for re evaluation',\n",
       " 'focus clarity sequencing of work with new mile ventures international market ecosystems',\n",
       " 'we need to get better at determining at what level and which department have technology decision rights',\n",
       " 'not making it a requirement for staff to work in a restaurant for more than days greater than a week for leadership in order to work in the support center',\n",
       " 'i think chick fil a needs to improve on hiring decisions it has historically taken a long time for people to get through the interview process top candidates are usually going through the process with other companies and they don t need to wait or can t wait around for chick fil a to give them an offer i also think we could pay more competitively for staff as well as for internships companies in our area are paying around more for the same positions in an already competitive market',\n",
       " 'from a technology perspective we can be better stewards by properly planning and coordinating the use of new technologies whether it be with setting more defined guidelines or being more firm on the decommissioning of legacy systems it would simplify our overall environment',\n",
       " 'how we account for headcount and resources the workload and amount of work we are being asked or expected to do for critical systems and processes while not getting headcount or resources to do it properly is really impacting us',\n",
       " 'i would appreciate more transparency about our hiring process on one hand i keep hearing about teams that need more headcount or who are losing staff members on the other hand i also have heard numerous stories of people who have found it difficult to get hired granted we shouldn t hire just anybody our team had a fantastic contractor who was trying to find a staff role so that he could stay he mentioned that he applied for or different positions here and none of them worked out in addition i would like to be able to recommend positions to friends but every time that i have checked the public portal for corporate job listings in the last year the page of entry level positions has been empty with maybe one or two exceptions for roles that are in a separate department sometimes it feels like we re only hiring senior level employees',\n",
       " 'staff personal growth and training',\n",
       " 'it does feel like many times out of way too much caution we tend to drag our feet on taking a stance on cultural matters we watch what other companies are doing too long before changes are made ie vaccines',\n",
       " 'how we work together lack of process creates inefficiencies as we often do not follow standardized structures do not apply common terms and do not knowledge share technical information effectively across departments',\n",
       " 'strategically how cfa staff is used to stand up and or support new entities and or international growth very unclear and seems to be handled by someone tasked to stand up an entity asking staff to help on top of their full time responsibilities',\n",
       " 'it is difficult for me to think of improvement opportunities but i do acknowledge that gap expressed by operators that they feel between their reality and the support center i think we can invest a lot more to ensure support center staff are in alignment with restaurants and that the partnership is at full capability',\n",
       " 'hiring talent that may not want to relocate or live in atlanta',\n",
       " 'how much resourcing to provide for international restaurant expansion',\n",
       " 'speed of decision making',\n",
       " 'cfa tends to hesitate too much when making decisions that require staff to do things a certain way my pre pandemic example is technology cfa likes to allow for several different options rather than encouraging a standard digital communication is one such example letting people choose for themselves what to use instead of guiding staff onto a single platform leading to fragmentation this seems to be changing recently though with the retirement of bluejeans and its replacement of zoom being communicated as being for external only but slack is still being used heavily miro is now being used for collaboration and confluence is still for documentation i can usually find all the information i need but sometimes it takes a while to search each tool the choice isn t necessarily a bad thing but i think more clarity around what is preferred recommended would be helpful at times where i ve really seen this hesitancy around erring towards choice become problematic is regarding covid precautions i m not considering the implications for restaurants as that s not an area i m knowledgeable in and i know things become way more complicated for them but as it relates to support center staff in atlanta i ve been disappointed in the recent trend for cfa only to enforce the legally mandated minimums for protecting our staff earlier this year when vaccines were just rolling out i didn t necessarily expect that cfa would go the extra mile and take actions like providing vaccines on campus or at giving incentives for staff to get vaccinated granted leadership did provide verbal encouragement it s certainly not cfa s fault that reactions to medical advice have become politicized and i m sure if we could ve known at the time how things would play out cfa would ve been more proactive from the beginning however in that lull before the delta variant when mask requirements began to be lifted cfa s deference to choice led to the decision of putting staff on the honor system regarding their vaccination status and not wear a mask if they were vaccinated had the guidance been followed as written the medical advice around this was solid for what we knew at the time and i know we like to think cfa staff are responsible but i know for a fact many people who were unvaccinated were going around campus without a mask i worked closely on campus for weeks with someone who never wore a mask so i assumed they were vaccinated but they then came down with covid and later confessed they weren t was that person s choice worth the risk they put on me other staff and all of our families by avoiding making a tough decision earlier cfa albeit along with almost every other company and government is now in a difficult place where the inertia of choice has picked up steam and it s difficult to change course during the last atrium talk where libby and cliff shared that pending federal requirements would mean cfa would start recording vaccination statuses and require the unvaccinated to get tested regularly i was extremely disappointed to see staff commenting horrible things in reaction in the chat now that those regulations are in limbo cfa appears to be backing off to whatever the new legally mandated minimum requirements will be which i don t think should be cfa s approach to caring for our staff i know medical decisions are difficult legally but if cfa can decide to require staff to come back to the office we can also make the decision to go the extra mile and make sure everyone will feel safe',\n",
       " 'while we generally hire high quality people i ve noticed a trend of waning stewardship in newer staff when it comes to technology there s an attitude of i want it and chick fil a has the money where i feel like five years ago there was more of an attitude of saying do i really need this all of that to say i feel like we need to be instilling stewardship into newer hires and reminding others of what stewardship really looks like',\n",
       " 'more detailed direction and action plan on department goals projects more visibility as to which teams are working on what specific tasks as they pertain to projects or overall strategy',\n",
       " 'i think our decision to deliver certain communications through teams might need to be revamped there are a lot of alerts that comes through teams which can be a distraction sometimes',\n",
       " 'i think there is room for improvement in the way we make project planning decisions e g how decide which projects are approved or not for the coming year and which resources come with approved projects the planning timeline is not very flexible we begin planning early in the year for the following year but a lot can happen in the second half of the year that could change or impact the priority of the plan for the following year',\n",
       " 'rethink the nepotism rule to allow family recommendations with great talent',\n",
       " 'when making headcount decisions sometimes the loudest voice or in this case the largest team gets more of the draw when in reality some of the sub teams not on the large team need more help than what is really told',\n",
       " 'people how talent is managed handled and moved that is not to say that no improvements have been made over the years they have but i have experienced five people leader changes in my years on staff and of those have been handled rather poorly when it comes to communicating the decision i as a direct report felt kept in the dark and at times in limbo knowing a change was coming but subjugated to a holding period before the announcement was made in one case the transition process of changing my role took months in another i did not change roles but my leader changed and i was in limbo for weeks not knowing what changes were happening this is unsettling and not considerate decision making',\n",
       " 'people leadership decisions just because someone has tenure or works hard does not mean they are capable or skilled in leading people',\n",
       " 'enterprise mindset vs departmental silos we need better alignment around business processes that span the organization',\n",
       " 'allowing non dtt groups to onboard new technology companies platforms systems products without engaging anyone within dtt then dumping it on that department to somehow figure out how to support maintain this is why there are multiple options for the same task which is frustrating to the end user and a drain on resources',\n",
       " 'name',\n",
       " 'speed up decisions about organizational alignment org structure some people will be unhappy about change that s okay this is a business and we need to best serve the business in the way our teams are aligned and incentivized i m talking specifically about enterprise analytics and dtt',\n",
       " 'i think org structure is a source of tension and friction and does not align to meeting our business objectives or we are setting objectives that are too aggressive for our staffing while i understand that truett never wanted anyone to be idle i don t know anyone who is close to being idle it feels like we always have more work than we can get done which can cause delays and less than optimal solutions the tension is particularly acute between lines of business e g supply chain financial services and shared departments e g enterprise analytics and dtt',\n",
       " 'cfa should improve on making clear decisions based on the company s values rather than being cfa nice and trying to please everyone for example it would help if more expectations were defined around the flexible future how many days we are supposed to come in whether employees are going to be required to come in on days that are not cornerstone days cornerstone days do not seem to add up to days per month i personally really enjoy coming into the support center and joined cfa because of the strong in person culture so would appreciate some clarity around what to expect next year',\n",
       " 'open broad channels of communication starting from above when it comes to prioritizing work sometimes it feels like teams are working in silos and encouragement from leadership would help improve team connectivity',\n",
       " 'in the new talent management system employees are competing with internal and external candidates alike with very little transparent feedback given to candidates who are not selected for an internal move staff are left confused as if the talent management system is a conspiracy and a mystery to most staff who have been at cfa for a long time are not equipped to compete in this way staff need resume writing assistance and interview skill training',\n",
       " 'i think we may be slow to decide and adopt on a new technology there is certainly benefits in being slow to adopt a new technology as it helps us to be careful when choosing the right technology and it allows us to watch other companies to monitor and to learn from however it may set us back from being ahead in innovation and capitalizing on a disrupter in the business that may benefit us early',\n",
       " 'project initiatives must be communicated more thoroughly',\n",
       " 'how fast should chick fil a grow to accommodate both customers and staff operators while keeping their core purposes',\n",
       " 'too conservative and slow on changing workplace culture needs to adapt to be competitive e g remote work dress code',\n",
       " 'organizational alignment ensuring teams departments are aligned across the business on strategic priorities and execution strategy of those priorities',\n",
       " 'how to prioritize or better separate competing initiatives a lot of inefficiency surfaces when strategic bets or previously big moves go up against each other needing the resources at the same time',\n",
       " 'it s not really the decisions themselves it s what we do after the decision has been made such as starting a new entity bcf or lbm or building the new parking deck office those were awesome decisions leadership understandably wants to implement quickly however these projects can be fundamentally different than our core business with many unknowns and uncharted territory more time should be spent on requirements gathering and planning before proceeding to the build phase trying to build a new vertical line of business while discovering the requirements has been equated to trying to change the tires on your car while driving it in this mode of going fast real time learning we tend to miss a lot trying to get to mvp underestimating work and costs and create a lot of debt in things that needs to be shored up post project',\n",
       " 'i will always remain baffled why a company that aspires to care refuses to take a clear stand for the lgbtq community that they have alienated being an atlanta based company there is such an amazing opportunity to be a model for the entire country on what it looks like to have traditional southern faith roots while also fully embracing and engaging the lgbtq community that is so engaged in this city i am ashamed to tell certain loved ones that i work here as i receive judgments on my own character because of the values the brand reflects i know a growing population of this next generation that refuses to eat cfa on principle i am sure the brand and revenue will be fine as long as it stays passively avoiding the important national topics while privately pandering to its conservative evangelical base i guess i am just sad for all that it could be if it were a braver company can you even imagine cfa partnering with atl pride week our clean white and red branding with a little rainbow flag the cfa logo in rainbow against our white background they could revolutionize their brand and bring it into the st century i do believe the cathy family wants to be a global brand but wants to runs like a small christian business and i think they should probably just pick a side',\n",
       " 'planning process is more about but doesnt always think about the time it takes to get the work done especially when people are needed across multiple high priority projects',\n",
       " 'prioritization work and resources for things like international expansion and little blue menu vs the core work of the organization serving improving expanding the cfa brand everything seems to be the priority',\n",
       " 'prioritization',\n",
       " 'nepotism it is tough to find talent and we are excluding a potentially huge pool of great people because of nepotism',\n",
       " 'move fast but not so fast that ramifications are not considered little blue menu seemed overly aggressive same with aspects of cfa delivery innovation and new ventures doing things on their own without identifying all partners who need to be involved',\n",
       " 'one failure i have seen that has been corrected in dtt was a tendency for top leadership to give feedback to staff anonymously through people leaders which robbed the staff of the opportunity to have a conversation and gain better understanding i have recently heard of this still happening in other areas of the business',\n",
       " 'cfa is a growing company and i understand the lack of processes but with respecting autonomy and working on standardizing best practices will help cfa leapfrog with the growing needs of the business',\n",
       " 'who leads projects within departments as an example high level initiatives that involve multiple departments such as supply chain much productivity is lost due to lack of clarity within the mid high levels of these efforts',\n",
       " 'we do a poor job of moving quickly roadmapping understanding cross cutting requirements and sequencing work accordingly there are too many cooks in the kitchen at the business level working in their own silo they hire consultants to try to tell them how so many cooks can work together in the same kitchen the consultants do their best they come up with matrices of value chains but even with all of that in place they struggle to make decisions because everything is effectively being done by committee instead of hierarchy strategic bet funding is creating sprawl in the organization of the departments which creates more stakeholders for narrow slices of functionality which inhibits quick decision making on cross cutting concerns',\n",
       " 'sometimes there is a gap in well paced decisions between the broad initiatives and the tactical work chick fil a can be more clear and focused when executing decisions',\n",
       " 'prioritizing work within business units there are many competing priorities',\n",
       " 'chick fil a s conservative staffing strategy limits the ability to have continuity of work as needs grow',\n",
       " 'the whole planning process is terrible and super unclear then when a project doesn t get approved the department still wants to work on it so there are zero no s at cfa',\n",
       " 'better direction standards from people leaders i severely lack direction from my people leader i think it is just her style and i have grown a lot in my role because of it but i also had no experience directly related to this role prior to filling it she also rarely has any feedback to give me because she is so far removed from my work i ve had to rely on my colleagues for guidance i think better standards for what is expected of people leaders would help this situation',\n",
       " 'speed of budgeting decisions',\n",
       " 'decisions that involve a degree of choice preference in the eyes of operators',\n",
       " 'hiring decisions although cfa hires good people and i trust the vetting process it takes way too long to get the help that we need',\n",
       " 'decisions that span multiple business areas i am in dtt and a challenging dynamic i have experienced is that we are partnering with our peering in functional departments and are executing on the work based on their business requirements however that functional counterpart owns the decision on the business requirements but may be slow in making these decisions this dynamic creates many challenges on the dtt side',\n",
       " 'chick fil a has a hard time saying no to work that may run counter to priorities people agree to go separate ways and pursue initiatives on their own which has heavy residual impact',\n",
       " 'focus is a big one there are a lot of priorities that different departments want which can lead to bottlenecks making the best decision and providing focus among a large number of good decisions is needed',\n",
       " 'staffing career development decisions',\n",
       " 'while chick fil a is great on deciding on large moves when it comes to decisions on executing those strategic moves we do not do that well we do not give enough time and often the right people are not being consulted very often we are having to drop everything because we are being pulled in late or priorities are shifting',\n",
       " 'i sometimes feel like the project selecting decisions could improve i think it s great that cfa is ambitious and pursue many what s next types of projects but that can sometimes take the expense of maintaining any past projects improving from short term to long term solutions or having to prioritize one project over another ex oracle cloud and puerto rico projects from this year for fs and dtt teams',\n",
       " 'faster more efficient response from cfa identity access for high priority requests',\n",
       " 'appearance guidelines i do not believe the support center necessarily needs to align with the restaurants in general i think it could be more dress for your day additionally i think restrictions on colored hair and business casual versus casual is a hindrance',\n",
       " 'considering alternative technologies novel approaches approvals etc can take too long',\n",
       " 'messaging and decisions around charitable giving we disappointed many of our core customers with decisions that seemed to be driven more by outside special interest groups profit and expansion considerations than by our corporate purpose that begins with glorifying god',\n",
       " 'lots of meetings i understand them most of the time and i understand the need for culture i do not have a good solution but there are lots of meetings and at times it can feel difficult to remain ahead on work tasks',\n",
       " 'what technologies we choose for which purposes',\n",
       " 'it personally does not bother me but i wonder if the dress code needs to be loosened to smart casual i know that is becoming extremely important to newer talent so i would not want something like that be what keeps them away from chick fil a',\n",
       " 'waaaay too many priorities',\n",
       " 'timeline of decisions at organizational departmental level rpms are important to operators but major changes are announced in sept then we are expected to focus totally on presenting to operators for a month and then immediately be ready for changes to be effective that timing seems unwise either announce changes and make them effective or announce them to go live ish before rpms',\n",
       " 'i think we really need to listen to the main issues concerns of the operators during this current season for example if this season is focusing on team members and talent we should focus on this and how to address this situation on top of capacity',\n",
       " 'decisions that are a win for all audiences i e operator inc team member guests the tension to balance these audiences perfectly in each decision at times can lead to delay and paralysis not every decision can be a perfect for all audiences and some scenarios require a more heavily weighted direction for a specific audience',\n",
       " 'providing a career path for your team and not always looking to hire a senior level candidate outside the organization',\n",
       " 'we need to improve at making timely decisions when it comes to long term restaurant strategies and secure senior leadership approvals',\n",
       " 'ownership division of labor between departments',\n",
       " 'hiring decisions historically the length of the process has always been a challenge but resulted in stellar and well fitting talent being hired team members to candidate being considered used to be involved in peer hiring and now are completely excluded from the process oftentimes staff are hired without meeting any one actually doing the work of the role they only meet with leadership who typically are not have not done the day to day work of the role this could result in unrealistic expectations of the new hire as they don t get opportunity to discuss the role with someone doing the role and could result in negative impact to the chemistry of the team',\n",
       " 'resourcing and capacity for staff and operators',\n",
       " 'technology',\n",
       " 'we assign work without well thought out planning nor resourcing extra funds and priority flagging does not equate to good work',\n",
       " 'speed to market of new ideas',\n",
       " 'speed to delivery to restaurants take to long to test things',\n",
       " 'consistency across restaurant opening strategies it is confusing to the customer',\n",
       " 'corporate departmental structure the decisions take too long and then when they are made do not appear thought out it seems that some corporate structure decisions are made based on the good or feelings of an individual rather than the good of the business and daily work this has a negative affect on morale and causes burnout',\n",
       " 'faster deployment of initiatives to support operators',\n",
       " 'people leader decisions',\n",
       " 'correct allocation of headcount across the department we need to understand work in one department affects another department projects that are cross departmental need the appropriate level of focus',\n",
       " 'promotion from within based on experience and demonstrated performance and not other factors that are not performance based',\n",
       " 'we have room to improve around our process and how we communicate and stick to those paths we loose a lot of efficiency when we deviate from those established channels and creates a lot of confusion and can create cascading additional issues if not corrected',\n",
       " 'decisions on when how to communicate projects in test not too early not too late',\n",
       " 'clarify who has the decision chick fil a encourages consensus building that is good but it sometimes feels that there must be unanimous support before an initiative move forward sometime a group may be an input provider but feel they have veto power this slows down progress',\n",
       " 'people chick fil a has done a great job choosing people people the character of those people is the bedrock upon which all else is built you have to be able to trust those people to make decisions every day and you want those decisions to be based on good principles truett made the franchise fee so low in order to not loose a quality candidate over their financial strength i am beginning to fear that our filter for people selection specifically support center staff is shifting to items like education and other factors that don t necessarily correlate with their character and the way in which they conduct themselves on a day to day basis for the decisions they make for the business let s make sure we continue hiring people of character who make good decisions for the right reasons',\n",
       " 'as the company grows we need to be comfortable with holding off making quick changes that have a drag on overall productivity',\n",
       " 'we need to improve decisions where we are looking for consensus or do not have a clear department or person who is accountable to the decision',\n",
       " 'we need to better diversify our portfolio of vendors we are too dedicated to one source vendors companies like villa lighting fcc national sign miss america etc we are paying too much money and not getting competitive pricing for most of our vendors',\n",
       " 'decisions requiring approval from other departments takes time and prolongs the process',\n",
       " 'at a department or sub team level stop setting goals for the sake of setting goals then abandon them',\n",
       " 'operator selection process',\n",
       " 'proper staffing running too lean now but especially for future growth',\n",
       " 'fighting to keep the culture in areas that move away from our foundation',\n",
       " 'decisions about technology we still lack basic tools to get work done effectively particularly on the budgeting committed costs and cost tracking side',\n",
       " 'headcount gearing ratios for work maintain a work life balance',\n",
       " 'having operations support for relo projects operators and team members are getting a brand new different restaurant and need help getting it set up just like a new store and operator with this program ramping up we need to find the capacity to support this',\n",
       " 'technology improvement speed of decisions for technology that would improve efficiency',\n",
       " 'the playground decisions have been horrendous on the new relocation restaurant side',\n",
       " 'technology',\n",
       " 'alignment across departments sometimes it feels like certain departments power ahead with their decisions direction and expect other departments to fall in line with their vision doesn t always feel like the big rocks across the major departments are always aligned',\n",
       " 'we need to move quicker with technology advancements',\n",
       " 'speed of service internally as it relates to decisions',\n",
       " 'i think chickfila needs to be more agile and quick to make market level decisions instead of waiting for a chain wide decision',\n",
       " 'quick decisions to help operators i think the feel from the field is we are too slow to make decisions',\n",
       " 'change management giving people leaders more freedom to discuss decisions with direct reports',\n",
       " 'understanding that while moving faster might be a necessity it does impact other things and can potentially have a negative impact on employees and operators the is key is finding the balance between moving fast and being efficient intentional thorough and thinking things through',\n",
       " 'how quickly the business can actually make changes if they want to be successful changes being too quick',\n",
       " 'operator selection it still needs to be pushed down to the people on the ground that know the operator i e fol more time could be spent training the fols how to do that by the people making the decisions today operators feel like the people making those decisions are not close to the work',\n",
       " 'those that create tension both with operators and staff',\n",
       " 'cfa needs to make hiring decisions quicker when there is a need it should not take months to just get someone hired',\n",
       " 'diversity more black and brown people for representation at all levels of leadership',\n",
       " 'increasing efficiency and speed of decision making at the department sub team level removing layers of approval',\n",
       " 'ensuring staff at all levels are well equipped for change before the change is announced and immediately implemented knowing what the plan is ahead of time would allow us to create cascading communication and preparation as it relates to our specific work',\n",
       " 'length of time it can take to engage other teams departments to support our work sometimes it s a budget or resource issue',\n",
       " 'making strategic decisions that involve significant increases in workload quickly without adding the headcount to address the additional workload at the same speed as the budget is added',\n",
       " 'spreading staff so thin in work that strategic priorities cannot be executed',\n",
       " 'when there are folks are incapable of performing the requirements of their role or are not in the right seat on the bus it is seemingly very hard to change that situation i love that we care so deeply and we treat every single person with such high honor however at times doing nothing in these situations can be to the detriment of the team work and can have a negative impact on the team s ability to serve operators',\n",
       " 'caution in advancing leadership for the sake of diversity without consideration to experience including culture experience',\n",
       " 'we need better decisions in how to address capacity issues in our stores',\n",
       " 'speed of improvement of systems and processes that are not shiny restaurant production systems restaurant it systems etc',\n",
       " 'streamlining of technology not more platforms but focus on connectivity of the right data to be considered pushed pulled amongst necessary platforms and readily available in context to inform wise decisions',\n",
       " 'the leveling system for promotion is related to the job not the person it is difficult to promote if you are moved into newly developed positions often',\n",
       " 'people leaders those that were grand fathered in prior to tms might need more training or evaluation for the professional track crucial uncomfortable conversations are often not had',\n",
       " 'talent the process for individual growth seems to drag and has the reputation of holding up promotions and lateral moves',\n",
       " 'those involving cross functional leadership',\n",
       " 'any decision that needs to happen quickly',\n",
       " 'cfa definitely needs to improve their hiring practices there s a mold management seems to look for married children certain college certain church etc just because someone may not fit that mold doesn t mean they can t do the job well who s to say that someone who is single or a single parent couldn t do a job just as well if they don t fit the mold they will most likely never get the opportunity to prove they can do the job',\n",
       " 'deciding on common technology platforms that can integrate across the business and fulfill needs of different departments',\n",
       " 'staff facing technology resources choices planning support it is to be expected that any new software and or process roll out will not go smoothly of them have significant breaks and problems that take a long time or never to get addressed enough to bring the tool into actual reliable functionality resulting in significant loss of performance',\n",
       " 'technology too much too fast and right when you get familiar with a platform it suddenly changes to the next best thing lots of times it hasn t been well thought out because the end users were not included in the decision on multiple occasopms this has caused confusion and forces the decision makers to back track and fix what they forgot to ask the end user',\n",
       " 'career paths for all this can still be extremely vague',\n",
       " 'technology l ve been in a lot of discovery sessions over the years and they often lead to nowhere i ve seen improvement here over the last year or two but be careful not to research without implementing change as an outcome',\n",
       " 'the business is changing quickly and sometimes i don t feel like we get the resources to keep up',\n",
       " 'the speed in which the company makes decisions it seems like the company prefers to test and test and think and think before implementing anything',\n",
       " 'talent whose being hired and promotion structure',\n",
       " 'collaboration across departments needs to improve there is a lot of siloed work in this organization resulting in lack of awareness for staff which in turn can provide more ambiguity for the operator',\n",
       " 'adequate resources i can only speak for our group but the volume of work has tripled over the past years however the growth of the team has not been maintained at the same level as the amount of work not only has the volume of work grown but so to has the complexity of the work in order to be successful we also need to make the right decision around how resources are brought on board or re assigned',\n",
       " 'decisions about what is best for the customer we focus so much on the operator that i feel like the customer takes a backseat many times and that feels like a slippery slope',\n",
       " 'dei and culture decisions',\n",
       " 'while our risk management function has grown in recent years it still feels like there are significant risks we largely ignore because they require infrastructure and funding that isn t necessarily growth oriented we continue to have a need to infuse risk assessment into decision making at chick fil a where decisions and looks ahead tend to be very optimistic',\n",
       " 'focus on prioritize staff resources',\n",
       " 'flexible resource funding request fulfillment i e when staff are asked to do the jobs of multiple headcount and there is an opportunity to allocate additional budget or consulting support to help alleviate stress and work more effectively this process is painful and feels unequal across departments and sub teams',\n",
       " 'as we become more cross functional staff below the director level need more autonomy to make decisions quickly',\n",
       " 'headcount',\n",
       " 'too many initiatives that negatively impact operators capacity and by extension staff s capacity',\n",
       " 'headcount and people leader decisions',\n",
       " 'prioritization of initiatives we have our strategic bets which is a great barometer for where everyone should focus their efforts however many times there are tests or work going on that pull on resources and make operations more challenging for operators is there a way to list out all projects across the enterprise and determine which need to stop',\n",
       " 'investing in modern technology and processes e g we are still have bluejeans',\n",
       " 'new staffing process very lengthy',\n",
       " 'there is a fair amount of misunderstanding amongst the broader team on how we arrive at role leveling decisions and internal promotion processes considerations we can improve in this domain by being a bit more transparent',\n",
       " 'ownership of specific processes that combine multiple business facets for instance the feedback loop between customer service receiving and the supplier management team this has a direct correlation to our financial bottom line',\n",
       " 'name',\n",
       " 'internal versus external consultant support for projects the continued high level involvement of support from consultants enables some speed but creates lots of hurdles duplication of efforts and communication challenges',\n",
       " 'continue to improve on structure of the business with continued growth',\n",
       " 'identifying career paths helping employees to understand their role and evolution in the company looking for talent from within',\n",
       " 'chick fil a supply could improve on having more culture driven conversations or events though there is time for this in quarterly meetings there could be more time on a bi weekly or monthly basis at a team level dedicated to talking about culture talking about what s working well what may need some improvement',\n",
       " 'prioritization of work',\n",
       " 'sticking with a strategy it s fine to change course but realizing that it will take teams some time to adapt their research and analysis to this new course of action i think decisions strategy are changed and we re expected to respond very quickly sometimes to the detriment of the company',\n",
       " 'promotions',\n",
       " 'aligning the priorities within the make and deliver value chain',\n",
       " 'develop programs and training resources to foster growth and development across the staff',\n",
       " 'hard boundaries compromise we have to be clear if we want to establish clear boundaries of saying no to a process or procedure vs compromising to foster our partnered relationships in addition the proper discernment on which choice is most appropriate we do not always align in this decision making process example freezer rotation',\n",
       " 'great at looking out for cfa in the future but sometimes at the cost of what we need to do now for operators',\n",
       " 'decisions that should occur in the department leading the work sometimes decisions are brought to officers executive committee that would have been more effectively decided by the experts of the work',\n",
       " 'cfa could improve by minimizing how many people are involved with making low level department decisions',\n",
       " 'hiring for any position this includes the initial process of actually posting the position on either the internal or external portal a leadership position was needed for our department and we knew the position was needed for over year and the position has been approved since january of this year and yet it was only posted weeks ago the end of october just one of many examples of stalls in the hiring process that occur before we ever actually start to interview anyone this is a huge burden not just on the poor person who has to take on double the work because they are waiting for another leader but for the multiple teams they are trying to juggle while waiting',\n",
       " 'i think technology enhancements need better communication to the restaurant level and how to effectively implement those resources',\n",
       " 'advancement opportunities for staff that consistently met expectations yearly',\n",
       " 'i believe more initiative could be taken in my department help as a company we have many opportunities for development that will not apply to us as analyst s and s our time is spent mostly answering phones the little development time that we are awarded is not recognized by other departments example many of us including myself have applied for other roles gig assignments we are constantly beat out by others who have more experience i was able to get the certification i needed for my prospective position but the certification is not worth nearly as much as the experience',\n",
       " 'when there are improvements to be made test faster and fail fast if needed',\n",
       " 'continued business growth',\n",
       " 'chick fil a could improve upon decisions regarding feeling of unity with other departments help and other departments feel like extensions at times and do not feel fully included as staff',\n",
       " 'employee diversity',\n",
       " 'budget and headcount decisions during the annual planning process decisions seem to be crammed into a few key months after several months of discussions across the business the decisions have significant financial and operational impacts but departments don t allow enough time for their leaders to effectively evaluate the rois',\n",
       " 'clearly defining what success looks like in a decision determining when is enough is good enough and identifying how much effort must be put forth before admitting the decision was not the best course of action and explore an alternative solutions',\n",
       " 'another opportunity area is being able to balance legacy decisions with the potential changes that are needed for continued growth and future results on several occasions i have witnessed a decision defaulting to the status quo because that s the way it has always been done keep in mind that what got us here won t get us there',\n",
       " 'sometimes too much latitude is given to teams or individuals who are supposed to execute decisions and this leads to unnecessary delays leadership should share all information and context to empower their reports to make decisions and execute',\n",
       " 'chick fil a leadership needs to improve on assisting staff with ensuring they are properly prepared for their role',\n",
       " 'decisions with rollouts and changes are not always carefully considered with regards to how it will affect our restaurants there have been many poor or failed rollouts this year that had to be paused or rolled back entirely i work at help so i feel this pain vicariously through our restaurants',\n",
       " 'chick fil a needs to continually find ways to better automate our restaurants to help our people meet labor challenges',\n",
       " 'quick communication between department',\n",
       " 'decisions of taking care of team members at restaurants they are the operators employees but the corporation needs to implement guardrails to ensure they re taken care of especially in the current environment for workers',\n",
       " 'we need to improve our entrepreneurial mindset i think we are going to run into more issues in the future if more staff and operators are stuck in the we ve always done this and it s worked mindset and they are not prepared for the challenges of building new areas of the business from scratch',\n",
       " 'decisions around technology on campus to better grow the hybrid work environment',\n",
       " 'how to align cross functional teams in multiple departments to the same business initiatives',\n",
       " 'staff increase head count for teams coming into a team where the workload is clearly way more than the team count is able to handle without sacrificing quality of service to operators team members shows how much more head count is needed',\n",
       " 'rollouts to restaurants decisions such as how much are we rolling out when to rollout out',\n",
       " 'align departments with support teams network teams all under dtt cares with the customer service department and support calibration of different department to learn and celebrate its difference',\n",
       " 'accountability around words and actions that promote or deter growth in dei especially in leadership',\n",
       " 'i wish that our talent acquisition would be more considerate in the way they reject external candidates i have a few friends who have a really bad taste in their mouths after their experience applying or interviewing with our talent team some of them completely never heard back at all and didn t know if they should be waiting for a response i understand that we have quite the multitude of applicants but i believe in order to be the most caring company in the world we need to care about everyone s experience with us even those who might not be the best fit at the time we could miss out on great talent who will never apply again or share their negative experience with their friends i have to believe we could at least send a considerate canned email to those we are rejecting',\n",
       " 'hiring the best candidates based on qualifications such as character chemistry and competency rather than a person s color or gender',\n",
       " 'how to more effectively collaborate as we grow quickly to reduce eliminate duplication of work for example several departments and teams are working on digital tools to assist team members with daily execution in the restaurant efficiency could be gained if like projects were somehow brought together for more collaboration',\n",
       " 'level of approvals built within departments and then built out over and across department lines officers ec board',\n",
       " 'occasionally allowing non cfa restaurants to be able to cater in x a year maybe',\n",
       " 'how to enforce better food safety practices at restaurants',\n",
       " 'more tactical aspects of strategic plans we get big goals from leadership but the details often seem murky and need more direction',\n",
       " 'sometimes decisions that affect the restaurant are not always fully vetted and we often react to a problem in a way that just creates more problems in the future we need to be more agile to meet the needs of operators and the restaurant while also aligning those solutions with big picture strategy',\n",
       " 'chick fil a can improve decision making processes related to operator cited critical issues is there a way to respond to true operator crises faster',\n",
       " 'people decisions could improve this is true for how we develop people and for how we align people for meaningful work what of our people believe they have a clear vision for how they can grow and contribute at a greater level in the next five years what of staff are in roles where they have the greatest passion',\n",
       " 'the amount of information which is rolled out to operators and some times staff which is great but can create information overload',\n",
       " 'implementing a process or system for keeping all support center staff more closely connected to the realities of the restaurant business something like a required in restaurant week for all staff would help this effort',\n",
       " 'pay inequities for same job in different departments',\n",
       " 'restaurant site some lots are built to fail we depend on the strenght of the operator to make up for a poor site selection',\n",
       " 'in the non traditional environments we need to be more open to what is relevant versus only viewing decisions through the lens of an operator business',\n",
       " 'while it is absolutely critical that we ensure operators have proper follow up we have tried a one size fits all with the servicenow platform each department has different needs and service levels',\n",
       " 'sometimes i think we make the wrong decisions on mid level leadership it feels like it s often more about right place right time or right diversity vs always the right person',\n",
       " 'true operator and staff relationship',\n",
       " 'when to stop work altogether there are many examples where someone keeps doing a slice of work that was not funded but operators ask about it would love to see the answer that is accepted be we are not working on that because',\n",
       " 'accelerate restaurant reinvestment and custom project solutions top increase capacity to help meet customer demand',\n",
       " 'i m not sure if this is a decision opportunity or a communication of the reasons for a decision that was made with that said i sometimes don t understand some of the people decisions that are made for example i sometimes wonder why some people are put in mid level leadership positions as it doesn t alway seem like a fit or feels like a surprise also there is very little to no communication around why an agreement with an operator may be terminated it comes across as if it was for negative reasons even if they may have just retired but you never know for sure',\n",
       " 'lower level decision making most everything ultimately needs ec approval even decisions that are made at senior leadership levels can end up being reversed by the ec',\n",
       " 'give more decision making power to the field allow regions to determine the breadth and scope of work for operators with facilities equipment and reinvestment the longer we treat operators as numbers data and restaurant numbers the more distance we get between operators and inc not one operator runs their business like another we are in business with unique individuals we need to do the hard work of evaluating situations and then deciding where they rank in priority the field has major capacity to do this priority of resources gets set either way we just need to be more effective with it',\n",
       " 'talent decisions are too political not based on quality of work but on who s been slated to move up the ladder',\n",
       " 'we tend to gather insight from a small segment of operators who may not reflect the realties of the broader audience executives in our company do this often with the reliance on older relationships versus intentional to hear from a broader audience of operators and internal stakeholders',\n",
       " 'benefits technology the phone benefit doesn t feel like much of a benefit anymore someone decided we have to pay a large chunk of money for our phones which is fine but when we upgrade we aren t allowed to keep our current phone it s really hard to justify an upgrade anymore the daycare was huge for my family now it doesn t really make sense to utilize the facility since i m not working onsite very much instead i m paying a small fortune for a local daycare i really appreciated the family care credit and my budget has taken a big hit since it went away please don t hear me say i m not grateful i m forever thankful for cfa and the cathy family',\n",
       " 'how internal candidate job interviews movement around the organization are handled',\n",
       " 'in the tension of brand consistency versus individualism we built this brand on trusting operators they were truett s friends for life we have to trust they ll tell us what they need or don t need to best serve their communities be it playgrounds or dining rooms or innovative solutions they know what they need but need us to support them quicker',\n",
       " 'erosion of culture flexible workplace will on continue to damage culture',\n",
       " 'in operations we ve moved towards operator support now and it feels as if we re testing our way into what is right that is totally understandable but when we talk about strategies tactics within our ast it s difficult to do many of the things we talk about without financial resources at the ast level',\n",
       " 'speed of budget allocations budget needs to live in operations for work and have visibility to asts or ops teams',\n",
       " 'decisions are relatively easy it s buy in that takes work creating operator buy in e g acceptance of the decisions sometimes requires a less efficient decision making process it might even require settling for the nd best idea too many folks prefer the less messy approach and would rather inform the operator than listen to the operator',\n",
       " 'promotions all of our leaders used to have so much history with cfa that the culture was protected and lived out now many of our leaders are hired in and are newer to cfa and don t bring the same commitment to our culture we are also promoting workaholics who do not set a good example regarding maintaining a healthy holistic life balance no wonder personal health is such a big area of opportunity right now',\n",
       " 'staff wide decisions that impact field facing staff differently from office based staff recognizing the difference specifically related to travel covid requirements that make being in the field more challenging we are a restaurant company that needs people in the field if we make this organization corporate then we will lose the people that really can support represent operators',\n",
       " 'internal selection process it s the most dishonoring thing that has every happened to me in my entire career',\n",
       " 'area support teams who does what decision making is still not clear as a whole in terms of how these teams can impact the business',\n",
       " 'being nimble in the current year for the current year to serve operators',\n",
       " 'we take too long to help operators especially around the menu and reducing complexity in the business',\n",
       " 'decisions regarding communications to operators it s not what was said but how it is said obviously during times of high stress this is wildly more important',\n",
       " 'how they evaluate leaders to my knowledge there are no evaluations leaders evaluate staff or those that report to them some people are great at leading up and laterally but have blind spots when leading those that report to them why has chick fil a been slow to move forward with degree evaluations seems an obvious way to protect our culture especially as we grow faster and bigger',\n",
       " 'decisions need to be pushed closer to the work and feel less parental in management we have many staff that are in people leader positions that have hardly any say so in who we hire who we promote and move forward also we preach to operators about empowerment of team members and many times people leaders from the director level down here do not feel empowered to make decisions',\n",
       " 'promotions',\n",
       " 'candidate discussions by interviewers need improvement inappropriate conversations are had that do not relate to the role',\n",
       " 'evaluation of work or people leadership',\n",
       " 'communication decisions communicate quickly and consistently regarding external factors facing the company',\n",
       " 'in the area of new restaurant growth we oftentimes push opening restaurants to meet plan while not considering the adverse effects on customers and our own staff in order to make it happen we need to understand better how our jobs are intertwined and the stress one department s goals can cause other areas of the business',\n",
       " 'termination decisions regarding operators some operators are completely disengaged from their business and it s clear in their restaurants sometimes ops leads are now informed or equipped to identify and address these issues it s demoralizing to other operators and to staff who have to clean up the mess',\n",
       " 'communication channels',\n",
       " 'operator decisions not many but some are very clear poor decisions specifically for existing operators either relocating or being selected for multi unit',\n",
       " 'pushing decisions and budgets to regional teams to respond quicker to operational needs in restaurants',\n",
       " 'again change is great but there are too many technology changes happening at the same time almost every month that can take way too much time out of our lives learning how to do new expenses new invoices and training leaders and teams on those changes',\n",
       " 'decisions are often held up at the highest level and often changed from leadership even if they approve something early they often come in and change their decision later in the timeline not always for changing business needs but they have changed their opinion the type of decisions leadership gets in on many times is too granular most of the the time the leader isn t the sme and trumps the decision of the sme and they should be trusting their people leadership should be pressure testing and challenging but at cfa leaders make most of the decisions when people are assigned as the owning the decision they often are just waiting for someone to come in a change it it is almost expected for something to change than not to change it feels like no one owns decisions unless they are officers or above and officers are often layers away from the work that they are making decisions on they might have done that work years ago but there are people doing that work now that we hired to do that work let them do the work and leadership should want to make their work better not harder i don t often think that is the frame our leaders are using',\n",
       " 'some of the individuals that have received leadership opportunities on the staff side over the past few years have been very surprising the ones i am thinking of have nothing to do with my work department but some of the moves i have seen have been very surprising to me based on my past interactions and work with some people and i have heard more about this from other people over the past few years than i ever heard in my entire time at chick fil a my concern is two fold that some of the people leading other people and or work are not the best people for the job which could result in outcomes that are not as good as what could be and that some high performing staff members will become discouraged disgruntled disillusioned over time and lose focus or reduce their efforts',\n",
       " 'change is inevitable but we have to be cautious about diluting our corporate culture the forces outside of chick fil a cannot be ignored but we might have gone too far to highlight our individual differences versus our similarities the corporate purpose is and should be as strong today as the day it was created',\n",
       " 'not clear roles and responsibilities',\n",
       " 'decision making we are still navigating what decisions can be made in departments and which ones need to be pushed up to leadership decision making process are incredibly confusing and are so much based on influence at times as opposed to principled business decisions',\n",
       " 'with limited resources i think there are decisions that lead others to question what the focus and priority of the larger business is today and into the future it feels like a decision is made in a siloed discussion without a full understanding of the ramifications one example right now is the strategic bet to accelerate growth i understand that decision and in many ways support it but the strain it will create on the systems people and processes necessary to execute this growth at the restaurant level have never been more strained than they are currently how can we accelerate growth well given those present day constraints',\n",
       " 'chick fil a needs to improve on having a global mindset both with communication and decision making',\n",
       " 'communication amoung various departments',\n",
       " 'people decisions talent acquisition is broken and beyond repair and i have no confidence that hiring managers get to see the best candidates there is no accountability for people who fail to do their job and it s getting worse',\n",
       " 'technology too many people get involved or fear their voice has not been heard we should let the experts make the call after getting the input they need we could benefit from a raci or rapid to ensure all appropriate voices are heard',\n",
       " 'one whole class of decision making that feels greatly lacking is how we think about whose problem it is to solve we take even the most strategic organization wide opportunities and then functionally assign ownership to one group we take a problem like market ecosystem that is fundamentally an organization wide opportunity give it to someone with a great breadth of relationships and experience across many departments then put ownership all in rd when the resulting product focuses largely on new store growth and reinvestment we shouldn t be surprised making up for non enterprise wide work structure by expecting people to relationally overcome that is not setting people up for success nor the best way to approach ensuring enterprise wide aligned strategies',\n",
       " 'shift from operational focus to full lifecycle for example problems are solved operationally but impact and considerations such as data are after thoughts',\n",
       " 'who and how to hire there is so much unfilled headcount standing in the way of us realizing our priorities',\n",
       " 'more options for non people leader progression',\n",
       " 'as i m new much of my time spent is in degreed and learning pathways these are very valuable and offer much insight i ve also been asking many seasoned staff about what i should focus on during my first year and many have said to not worry about tools and technology so much and offered advice to get to know people and build relationships even ones outside of my department i ve been doing that spending time in both degreed and meeting with people which i ve been thoroughly enjoying however i ve heard from many people who say that after about a year they don t have any time for things like that i wonder if there s a way to encourage and promote people to carve out margin in their schedules so that they don t lose the ability for things like this once people get overwhelmed with the work',\n",
       " 'who works on what both from a project level perspective but also among departments role clarity',\n",
       " 'we are growing too fast and at times it feels uncontrollably this is putting a lot of stress in the workforce and families',\n",
       " 'decisions where there is clear dissent we need to get better at making the decision and moving on rather than dwelling on those that may not agree',\n",
       " 'planning for international growth',\n",
       " 'having worked outside of chick fil a for many years i believe an area that can be improved upon here is with expectation setting and accountability there is a growing perceptions and sense of entitlement being observed within the operator community that is leading to concerning expectations on how the support center is expected to support them further when operators cross lines where they treat staff with a lack of honor dignity and respect they are not held accountable on the flip side when there is a perceived deficiency in the level of service from the support center to operators example answering phones returning call the issue is not addressed at the root cause instead a broad brush is used to suggest all staff is a fault and that we should all strive to do better my encouragement to our leadership is to not have fear in setting appropriate and clear expectations then being fair and reasonable yet judicious in holding people accountable to those expectations',\n",
       " 'drawing the line between helping operators and enabling bad behaviors operators using the excuse that they do not need to do x because they are a cfa operator and above said task',\n",
       " 'operator selection there seems to be an overwhelming amount of entitlement in many of the operators we select currently especially the young ones some of the stories floating around and witnessed of how operators treat view staff are appalling but this message never gets told instead its always about what staff need to do better the majority of staff i know work their fingers raw for this brand and every year we hear the same thing you need to do better it s disheartening that nobody leans into the other side of this equation',\n",
       " 'job growth discussions are difficult especially for my people leader who has the best intentions for me which i absolutely believe those intentions but understanding what i need to do next is very difficult to understand',\n",
       " 'decisions that cross over multiple departments or even multiple businesses sometimes decision makers are unaware of the bigger picture and needs to execute',\n",
       " 'promotion process',\n",
       " 'in an effort to please all angles of political arguments cfa has really leaned into the woke corporate culture at a detriment to its most loyal raving fans i m concerned about the direction we as a brand are moving in',\n",
       " 'allocating enough resources to implement and complete departmental reorganizations',\n",
       " 'the corprorate adiminstartive culture fight change and does not share information or knowedge',\n",
       " 'what the shifting of complexity from restaurants to staff will impact',\n",
       " 'decisions involving leadership changes could be communicated sooner',\n",
       " 'understanding the impact of new initiatives on various teams e g the roll out of new complex initiatives weighs down teams that are already at full capacity often the teams that are impacted have no input or say into the decisions but have to take on the additional work regardless',\n",
       " 'leadership promotion not everyone is fit to lead a team there needs to be a balance between people interpersonal skills and technical skills having too much of one or the other does not a great leader make how can one make decisions and attempt to advocate on my behalf if they don t truly understand my work',\n",
       " 'de i in hiring promotions it is very obvious that de i has not been top of mind for the past few years within cfa even after this last year i do not see things changing right away tax leadership is often silent when it comes to de i discussions it is also discouraging to look at the org chart for tax leadership',\n",
       " 'take a good look at leadership and why there is no color diversity in some areas of the company',\n",
       " 'improving on having quicker hiring process and work with contractors to be more valuable',\n",
       " 'chick fil a needs to improve upon the make up of middle management and other top leaders',\n",
       " 'diversity of thought when selecting leaders too often people with the strongest technical background are selected as leaders these individuals sometimes do not have the soft skills to be a leader or ever develop into an effective one',\n",
       " 'the operator model needs to adapt and change to the increasing complexity of the business and resource constraint what truett envisioned service to operators to be in the s is not the same as it is in the operators are leading multi million businesses with team members they can handle some of the business non chicken requirements of the business like various accounting services',\n",
       " 'reorganization decisions i think reorganizations happen way to often and it s a culture killer when you have to learn and build a relationship with a new leader every couple of years',\n",
       " 'decisions that must have input from a variety of people these are done too slowly',\n",
       " 'promotion for lower levels trust people leaders waste of resources to convince total rewards total rewards not consistent in talk versus action for example skipping levels inconsistent levels between departments inconsistent application of level requirements',\n",
       " 'sometimes decisions that help operators and restaurants are made very quickly and those supporting the work are left to figure it out in a tight timeframe',\n",
       " 'contractual agreements speed from creation to execution',\n",
       " 'hiring individuals that specialize in the new works we re rolling out as opposed to just shifting those that are already on staff based on the fact that they know the culture of cfa',\n",
       " 'my department is lacking in strong leadership and direction there is so much work to be done that my people leader seems stuck and is too busy working on the work instead of leading me and my team mates to accomplish the work',\n",
       " 'i think we could also stand to improve decisions around headcount i know we re doing our best to optimize what we have and improve systems so we don t need as many people but some departments are drowning in work and utilizing contractors instead of staff that has to be expensive plus it s on work that doesn t go away it seems as if there is more attention paid to those departments that directly support operators which i do understand however if we keep growing those groups and not the staff that support all of us then we re still in a deficit',\n",
       " 'slow on implementing needs on corporate side',\n",
       " 'continuing to engage talent on a personal level as we get bigger',\n",
       " 'we need to have a framework for reference for cross functional work that is not project based with a lead facilitator to provide clarity as to who has the d when questions issues come up and what are there qualifications that would align the d to a certain level of leadership we currently have a culture of consensus and cfa nice where staff tend to hesitate to step out and call the d',\n",
       " 'job levels in the most recent re org i noticed employee a left a role at one level and employee b was promoted to that specific role but leveled beneath where employee a had been same job different level this type of thing erodes the trust staff has placed in the talent management system we were told job levels were to be determined entirely by the job itself rather than the person but in practice that is not true',\n",
       " 'decisions where there isn t a single person group accountable i e staff headcount',\n",
       " 'what does stewardship look like from an accountability perspective we all want to be good stewards of what s been entrusted to us but we have different ideas for what that looks like because accountability at an enterprise level is not clear',\n",
       " 'contractor involvement ex when a contractor can can t be included culturally it is difficult to not treat them as all other staff',\n",
       " 'improve hiring practice at a faster pace',\n",
       " 'expanding too much too fast',\n",
       " 'promotions decisions are not consistent and take too long',\n",
       " 'growth how can we scale properly for growth across the business in every area',\n",
       " 'hiring staff faster it takes an act of congress to even get staff approved i can appreciate that lean mentality to prevent unnecessary hires but there are so many interviewers involved it takes forever to get the position filled talent is struggling to catch up from covid they need help to get staffing needs filled',\n",
       " 'decisions regarding the titling structure and levels there is much confusion surrounding promotion and moving to the next level',\n",
       " 'decisions made around communication to be sent out communication gets scrutinized vigorously and at several levels of the hierarchy',\n",
       " 'decisions that are highly cross functional is another area where improvement is needed this is a difficult area since it may impact many areas which can create slow down and many different opinions',\n",
       " 'jccc is such an incredible benefit to employees and i know that it is one of the biggest pulls for talent recruiting at cfa however now that we are finally being given the option to work from home for a majority of the time and avoid horrible traffic and a long commute yay many of us would prefer a childcare stipend to put our children in a daycare that is close to our home this would avoid us having our children in the car for hours every single day to get them to from daycare and would allow parents to actually take advantage of the wfh opportunity',\n",
       " 'technology decision to provide necessary technology for returning to the support center such as double monitors and video conferencing in all meeting rooms',\n",
       " 'cfa needs to cast vision and inspire throughout all levels of leadership',\n",
       " 'people hiring the hiring process is so long that we have open positions to fill for months on end this adds to the workload of everyone else on the job and can lead to burnout if adequate resources were invested in the hiring process for each individual we could move through the stages much faster',\n",
       " 'tension between rapid scrappy tools and ability to scale and automate neither is bad on it s own but we sometimes act like there aren t tensions and tradeoffs to be made which do we want what tradeoffs are we willing to accept because of that for example if we want speed and scrappy tools for a new entity we ll need more headcount because those tools are manual and take man hours to support if we want ability to build a system or tool or process that scales with a large multi national enterprise we need to trust those closest to the work to estimate the resources and timeline options available',\n",
       " 'chick fil a should expand the enterprise innovation team so that all departments at the support center are focused on building a culture of innovation an innovation process will help us execute business decisions faster and more efficiently a culture of innovation will help us see where the puck needs to go how guests want to be served conveniently quickly and safely rather than where the puck is going not letting the qsr industry show where the puck is going',\n",
       " 'go all in with data adoption and tech resources it has seemingly taken too long to begin to heavily incorporate data into out decision making and into operators hands',\n",
       " 'making changes in leadership for the sake of making decisions because someone is good at their job doesn t automatically mean they will be a good leader these decisions need to be intentional and leadership development needs to be required internal and external',\n",
       " 'continue to improve operator selection to continue finding potential operator with appropriate business acumen to run increasingly fast paced complex and rapidly growing businesses currently i think we do a great job with selection yet there s opportunity to raise the bar with the business acumen we expect for successful operators without sacrificing the critical focus on character and cultural fit',\n",
       " 'posting new jobs after headcount approval',\n",
       " 'it sometimes feels as if promotions of some are rushed while others may be overlooked maybe this is a misevaluation of talent i ve seen this happen some in my area where some people seem to be on a fast track even if they show signs of not being prepared or not able to handle the extra responsibilities while others are not even given opportunities for growth',\n",
       " 'brand expansion decisions more so speed than quality of decision',\n",
       " 'talent hiring decisions cfa inc is growing at an unbelievable rate and sometimes it feels as though arduous talent processes slow down hiring recruiting decisions which puts a strain on teams that need more people',\n",
       " 'promotion process career paths long term internal moves',\n",
       " 'while i am encouraged by the changes that have been made we still have some work to do with diversity in the organization with the recent restructure i was hoping to see the promotion of an african american female into a vp position there are currently no black women at that level though we have several at the executive director level',\n",
       " 'transparency in advancement promotion decision making',\n",
       " 'i have witnessed my department struggle making good decisions regarding mid level leadership promoting tenure over talent and putting the careers of young talent in the hands of questionable leaders',\n",
       " 'growth at times has felt prioritized over doing the job well from a staff perspective new innovations don t always seem to have the proper amount of staffing and they don t always align with operator interests i understand getting ahead of the curve but i don t think our competitors will be anywhere near the curve with the staffing issues',\n",
       " 'in our group we often spend way too much time adding ad hoc work that distracts from the main plan it s important work but it obviously wasn t important enough to make it into the plan it s when we add all this other work that we lack the focus needed to drive the core business plan items for our individual group forward with the needed speed',\n",
       " 'people leader budgets the autonomy to surprise and delight team members',\n",
       " 'with other companies moving towards more flexible working options i believe we are losing top tier talent that otherwise would choose to work for us if we had more flexible wfh options i understand that there is a need for employees to be in person for certain events but having employees that live out of state for legit reasons and then requiring that they pay their own way for travel seems a little crazy at the end of the day we should want the most qualified candidate in our roles and i believe a more flexible wfh policy could help achieve gaining retaining great talent',\n",
       " 'accurate level of placement when hiring and or promoting example if someone applies for a position but they are more qualified to be in a different level then they should be interviewed hired for the level they qualify for also if they are hired into a level that they are overqualified for and should have been one level higher they should have the option of skipping a promotion level to get to the right placement',\n",
       " 'there is so little clarity on what is required of this halted osha mandate if someone refuses to get vaccinated get tested or wear a mask do they just work virtually until the environment becomes inclusive again or will they be fired if the latter is cfa willing to lose a large group of people just because those employees decide to stand up to discrimination',\n",
       " 'it seems like some decisions are made very slowly for example i heard from many operators at rpms how much better it would be if their team could be paid weekly especially considering the talent shortage crisis that many are struggling with it sounded like it will be at least years before this will be an option why can t we prioritize this more when it would be such a huge win for our restaurants',\n",
       " 'ones that impact multiple departments often times too many opinions impact the speed at which a decision can be made',\n",
       " 'people people decisions in promotions and in internal moves',\n",
       " 'there are a lot of moving areas in the business right now and as much as i love the atrium talks to get updates i feel like there are a lot of questions that go unanswered i know not all questions can be answered during the live atrium talk but a follow up would be greatly appreciated i feel that this would make people feel heard and understood and provide more clarity',\n",
       " 'clarity on expectations and priorities of the core business compared to strategic bets if we had clarity sooner on priorities we could circle back with leaders and resource better to meet those expectations but currently we are struggling to meet all the expectations and pulls from so many strategic bets initiatives and our own improvement processes work for example it was originally shared from the ec that individual teams will not be impacted by int l and they were funding that work outside core dept big move work but the reality is many teams have had to hire people within their teams to keep up with the demand for int l with very little strategy shared and lots of wasted time with lack of communication on decisions and what decisions mean or after a decision was made individual teams had to make a lot of changes to meet that decision expectation causing lots of stress and misaligned priorities for cross functional work often times it s the same teams trying to meet needs of little blue menu international other concepts initiatives but there isn t clarity of which one of those should be prioritized first int l work or lbm or supply chain strategic bets or our own dept work it s very hard',\n",
       " 'decisions on promotions need to be better explained i am unclear as to why some people get promoted quickly and others don t',\n",
       " 'i think the new talent management system tms has done some good things but there is no denying that it has absolutely changed the dynamic and culture of our work environment one downside is that i feel it encourages unhealthy individualism instead of organizational and team spirit more and more it seems like i bump into staff who i can tell are just in this for themselves it has been a little disheartening on the plus side i like that we have more internal opportunity but the new tms model in conjunction with that opportunity has led to rewarding incentivizing the wrong thing in my opinion for example as a staff member reaches level they stand to gain more financially by seeking a new role than they do to excel in their current role what is the impact of that to the team and the organization',\n",
       " 'instituting some sort of project management methodology into critical projects to ensure goals scope of work project teams project milestones etc are carefully and clearly defined and that voice of customer whoever customers may be is taken into account and is the primary input for solution development let s not assume internally what solutions restaurants want',\n",
       " 'identification and mitigation of culture risks',\n",
       " 'decisions related to investment in talent at lower levels feels like nearly all intentional movement of people is done at director level or above michael lage khalilah c etc this is very troubling when the future resides below those levels and needs to be invested in by way of tours in different departments etc a more intensive effort needs to be taken to identify future leaders how to best give them differing experiences across the business',\n",
       " 'style versus substance we ve become obsessed with style it s not enough to have a strategy or idea it must be packaged with a hype video or world class presentation we need to focus more on results and execution too many consultants running around buffington road',\n",
       " 'greater willingness to stop work that s not a priority',\n",
       " 'identifying effective leaders managers within the company',\n",
       " 'recognizing that culture can be maintained via virtual environment allowing staff to work from home even more reducing the days month required to be in the office',\n",
       " 'i have been told that operators receive a million emails daily so they may over look emails about certain items everyone feels their area is most important and i understand that but communication should be streamlined so that no emails or communication is over looked',\n",
       " 'allocating the right amount of talent to different areas of the business',\n",
       " 'aligning product quality to customer preference and across groups menu quality restaurant',\n",
       " 'keeping the chick fil a culture but allowing some flexibility in some areas like facial hair it took so long to make the decision on facial hair to go along with this dressed up jeans on fridays would be awesome at the office',\n",
       " 'tours of duty for senior leadership just because someone is a good leader doesn t mean that they could should lead in areas that require industry knowledge',\n",
       " 'at times it feels like leadership isn t listening to the challenges we are facing and they push new and exciting things menu instead of focusing on the core menu items that we are better able to control',\n",
       " 'speed of overall decision making all too often a simple decision has to be approved or reviewed by multiple teams of people that just seem to cause bottlenecks to the process of servicing the business and operators',\n",
       " 'the work from home stance could be clearer we haven t heard anything on this in some time i feel like are we supposed to be coming back the days a month in january',\n",
       " 'chick fil a seems to continue to prioritize new projects over core work they promote and elevate those working on new projects while those that are keeping the business going today while planning for the future seem to be left in the dust you have to focus on the future but you can t leave behind those who are working on the core business',\n",
       " 'resistance to change that is disguised as climbing with confidence and care absolutely want to climb with confidence and care but need to be able to also make tough decisions that will make a difference quickly',\n",
       " 'we need to honor deadlines set to stop development on menu items and other projects as well and move forward quickly and efficiently without making additional changes that affect potential delivery dates',\n",
       " 'new menu or packaging decisions that don t free up capacity for operators or for supply chain there s a functional hierarchy and new menu objectives tend to get pushed through without consideration for other functions or operator efficiency',\n",
       " 'technology resource selection',\n",
       " 'how quickly changes need to be made',\n",
       " 'leadership chick fil a does not prepare leaders for how to best lead people and how their work gets done we put people in leadership for a variety of reasons and many times they have not been given the tools guidance experience to truly lead a large team to productivity satisfaction empowerment maximum results etc our leaders are generally great people qualified and their intentions are all right and they have good ideas but there could be more support for them on processes customer oriented mindset strategy planning with data metrics as well as an understanding of workflow and decision frameworks to best empower enable their teams i also think there needs to be an opportunity for feedback loop in workday from their team members on improvement opportunities we are growing so fast we have talented people but we need to prepare our leaders for the workplace of the future we still operate using older more traditional work styles methods',\n",
       " 'still too much consensus driven decision making which also decreases productivity its ingrained in our culture hopefully we can begin to trust one another to make the appropriate decision at the lowest level possible',\n",
       " 'time to make decisions it sometimes takes too much time to make decisions risk we miss opportunities or bring them to life rather slowly drivers very consensus driven fragmented information systems so it takes a long time to gather information to support recommendations',\n",
       " 'work that has cross functional implications who has the d when project scope changes create impacts in supporting departments',\n",
       " 'how do we manage shifting talent performance over time especially in places where business may be outgrowing individuals in current role',\n",
       " 'moving certain projects through faster',\n",
       " 'we need to figure out a way to help people understand the work of the different departments it would give others insight into the business and all the wonderful things we have to brag about e g the way we work to create win win partnerships with our suppliers it would help with cross departmental projects and better equip staff to assist direct operators team members',\n",
       " 'our current culture is encouraging micromanaging',\n",
       " 'processes for accomplishing work and gaining approval on work it can end up wasting significant amounts of time when processes are not clear overcomplicated or convoluted',\n",
       " 'make a decision on how will cfa inc support entities and what that will look like operationally financially legal culture etc',\n",
       " 'decisions necessary to hold people or work accountable will probably always have some level of improvement needed the abundance of grace offered at chick fil a is admirable and i have certainly been a recipient in my career however challenges occur when grace turns into lack of accountability i have seen many times in my own department where an individual has been relocated to team after team in an attempt to address a problem but the problem is truly never addressed when this happens not only does the work suffer but team dynamics and individuals suffer as well when an issue continues for an extended period of time oe of the ripple affects is a perceived lack of support for those individuals picking up the slack or carrying the weight in the interim',\n",
       " 'i was really disappointed that the support center transformation work seemed to fall apart overall there is poor communication or lack of rationale for when something is abandoned or morphed into something different this isn t so much about the decision making process as it is about following a disciplined and transparent process of communicating clarifying the conditions that precede or serve as impetus for a decision then ensuring wide spread understanding of the solution then creating accountability for the studying of the effects of the solution decision and creating systems of improvement',\n",
       " 'teaming approach we have too many leadership teams and cross functional teams some are completely necessary but too many teams are spun up and given the appearance of importance because such and such a leader has commissioned us to solve this issue',\n",
       " 'consistency of practice and accountability particularly in roles that are operator facing like ops leads it seems like different people in the job can do the same job dramatically different ways people definitely need freedom to create and tailor their roles but a complete lack of consistency and accountability becomes a massive problem this makes dealing with cfa much more unpredictable much slower more cumbersome and way more difficult than it has to be',\n",
       " 'we need to improve how decisions are made between agile teams and the bureaucratic parts of the business our leadership keeps pushing agile whether it fits or not they expect us to be agile but they do not use agile principles or the tools we are forced to use also the leadership of our dept does not create a leadership structure that supports agility this slows things way down when we have to have bureaucratic functional leaders interact with agile teams it is also hard to change things because each person on the agile team has a different leader so you have to get leaders to agree and then take it to our dept leader it is so slow also functional leaders hire for what they want on their functional team versus the skills the agile team needs to do its work',\n",
       " 'cfa needs to decide if we are running an agile business or scaling agile there are so many departments doing some version of agile and that s great but it gets messy when there are so many versions also its really difficult to be on an agile team when the leaders of your department are working in an agile framework it makes things difficult when functional leaders and agile teams aren t aligned',\n",
       " 'the vision and strategy for career development is not clear leading me to believe their might not be one established which causes great concern people are looking for opportunities where they can grow there doesn t appear to be a well thought out avenue for that is there a strategy or vision for this perhaps it needs to be published',\n",
       " 'functional department level decisions don t always level up to what we are saying are organizational priorities and tend to be what s trendy or what individual preferences are strategies often change too quickly usually based on re structures which then prompts working on a new strategy for the department and creates a cycle where the employees never really know what the goal is because it is changing yearly',\n",
       " 'tactical decisions the leaders i work with want to make decisions on all of the tactical operational decisions vs staying in strategic decisions that would impact the business years out',\n",
       " 'people decisions the same people the rock stars are promoted given stretch assignments assigned to strategic bets and cross functional teams with very little transparency or reasoning staff are left wondering about the process the procedural fairness and what feels like a secret closed door process amongst leaders and the talent consulting team what data is being used to inform these decisions aside from anecdotal data',\n",
       " 'supporting international growth it is currently painful to stand up new countries clear central decisions are hard to find and slow to materialize its not always clear if decisions about the timing of launch level of support menu equipment and supply differences fully consider the downstream implications to our content development it takes time to build translate and publish content to prepare for launch and it feels like a scramble every time',\n",
       " 'group decisions at the department or sub department level can also be improved by not involving as many people and get hung up on everyones consensus however this still needs transparency and communication of a decision that was made or if there s time on the front end seek input from a wider audience but at least clearly communicate the specific people who will be deciding and when',\n",
       " 'work being done i don t understand why we have to ask permission to work on stuff when we have the capacity and the work needs to get done in the l d department work must be approved at the portfolio level and oftentimes the department work is not distributed in a balanced manor there are teams that are swamped and other teams that are not doing much work because the work is not approved it doesn t make sense the people doing the work should be able to just do the work',\n",
       " 'continue tearing down silos from my perspective each department continues to make their own decisions and frequently the work to make those decisions become reality falls on other teams who are also balancing other decisions for example the test and rollout calendar seems to have set dates before understanding the work of other departments to make those dates reality',\n",
       " 'decisions for social trends can be too conservative but getting better i e beards tattoos acceptable dress codes for restaurant and office attire',\n",
       " 'decisions in which puts more staff in the field more often operators need help labor wise and we as staff need to reconnect with operators in there space better understand new restaurant realities and based on and influence our teams work at the support center to better support operator needs',\n",
       " 'not decision making per say but change management when decisions are made especially at the department level and in communication between the support center and operators',\n",
       " 'politics in l d especially it seems like it s a popularity contest they shut down people who share direct fair and honest opinions and feedback because it doesn t fit the mold i ve watched my mentors who are pioneers in the learning industry get shot down multiple times and it s incredibly discouraging it has made me not share honest feedback because i ve seen that every time that happens leadership will do the opposite of what people recommend i ve always thought that they had their reasons that i m just not seeing but now that i ve seen them use multiple people multiple times because those people are good at their jobs and then keep them stuck in their same positions with the only reason of you re the only one who knows the content is absurd to me they don t let their people grow because they don t hire people who actually learn their role so all the work that people don t know and can t aren t willing to do falls on the select few people who are actually wanting to work learn and grow it is baffling that l d leadership just ignores this issue and doesn t see it most of the extremely talented learning partners on the learning partner team have moved to different departments and l d leadership says it s because the l d department has helped them with their career goals but for many of them it s actually because the l d department leadership doesn t reward their good work by helping them move around within the l d department i would love for my career to grow in learning because that s what i want to do but if i want to grow and learn at chick fil a i m realizing that i will probably need to look outside of the l d department',\n",
       " 'we need to develop a language around priority level and business impact when making decisions at the moment it seems that all decisions especially those that may impact operators all carry the same level of priority an example is recent decisions around little blue menu that required resourcing or investment that have jumped ahead of or delayed decisions that affect much larger parts of the organization',\n",
       " 'leaders need to be comfortable with decisions made by those empowered to and not backtrack with expectations that could derail progress made or change scope significantly',\n",
       " 'leadership succession lower than the ec level',\n",
       " 'reducing complexity in the restaurant i feel like this is talked about a lot but it does not feel like there s action behind it',\n",
       " 'what kind of company is cfa in the modern world how focused are we on keeping and recruiting new and young talent this can get difficult with more traditional ways of working how can we attract a diverse work force how would that diverse work force help support international growth',\n",
       " 'better talent selection of middle managers read the research at https hbr org the real value of middle managers the inspiring quote is the most effective ones are in possession of humane sophisticated communications skills and the knack to mediate and find common grounds between actors at different levels in the organization too many times middle managers simply say the exact same thing as executive leadership and do not do the best job of finding common ground between levels in the organization',\n",
       " 'amount of capital for reinvestments with our older restaurants can take longer than expected clear messaging to operators sooner than later is appreciated and needed even when it s a no share this sooner vs later to keep relationships strong',\n",
       " 'org re org chart decisions while certainly an element of a growing business are still anxious seasons as staff sense or guess at what is to come some of the wonder and concern is valid while mostly it is conjecture that creates tension for awhile most staff have experienced these already however the looming of the next one can hover over staff trying to determine their own next career move trajectory sharing org decisions at the earliest and setting transition dates as soon as possible help rip the band aid off quickly',\n",
       " 'staff does not know when operators are at the support center when operators are in classes graduating or on site for meetings staff especially new staff could not feel connected to the operators as we not making those connections staff may have no idea how many restaurants and where we are opening them up every thursday',\n",
       " 'too much time if focused on individual team restructures and department mission statements',\n",
       " 'the process and time for the new remote worker policy was interesting for months the question was asked in multiple staff meetings and seemingly ignored once an announcement was made it seems like there could have been more clarification we learned during the pandemic that we can all do the work we do successfully and not be tied to a specific location for myself i would dream about moving approx hours away to be able to serve my family better but don t have a reason since i m not married in a small way when the new policy was announced i felt that family and culture matters as long as it s in atlanta',\n",
       " 'staffing in how it relates to the work load quicker decisions on staffing needs for the business',\n",
       " 'hiring decisions',\n",
       " 'align communication projects where staff are knowledgeable about the daily business',\n",
       " 'the headcount approval process',\n",
       " 'utilizing staff in a more agile way seeing potential in poeple to serve in various area of the business and being able to quickly shifts goals based on business realities sometimes we get so married to an idea or goal the business operator s needs have shifted but we re so invested financially head count etc we keep going how might we equip staff members to be multi demensional similar to a tm who is trained in both boh and foh this i think would solve part of the we need to hire so many people while our growth right now is great in years if we have doubled staff numbers will we need all the specialized positions will we need staff if technology has eliminated some roles it s great we don t terminate but out of all the decisions we are expediting making fast i am super surprised that offering full time jobs is what we are saying is an emergency and our greatest need',\n",
       " 'in my department in particular not feeling as if i have confidence to make a statement across the organization there is room to improve decisions around the kinds of systems and processes implemented and how those are used across multiple teams many processes of workflows are done at an independent or singular level which leads to a lot of time spent on work that can be automated or simplified a great amount of loss when a staff moves to a new role and a new hire comes online and a lot of spending that can be consolidated and efficiencies created',\n",
       " 'career management managing sc staff s career expectations and aspirations',\n",
       " 'what work is important right now how to appropriately prioritize',\n",
       " 'departmental head count decisions',\n",
       " ...]"
      ]
     },
     "execution_count": 97,
     "metadata": {},
     "output_type": "execute_result"
    }
   ],
   "source": [
    "x_test"
   ]
  },
  {
   "cell_type": "code",
   "execution_count": 98,
   "metadata": {},
   "outputs": [
    {
     "data": {
      "text/plain": [
       "(1378, 3)"
      ]
     },
     "execution_count": 98,
     "metadata": {},
     "output_type": "execute_result"
    }
   ],
   "source": [
    "df.shape"
   ]
  },
  {
   "cell_type": "code",
   "execution_count": 99,
   "metadata": {},
   "outputs": [
    {
     "data": {
      "text/html": [
       "<div>\n",
       "<style scoped>\n",
       "    .dataframe tbody tr th:only-of-type {\n",
       "        vertical-align: middle;\n",
       "    }\n",
       "\n",
       "    .dataframe tbody tr th {\n",
       "        vertical-align: top;\n",
       "    }\n",
       "\n",
       "    .dataframe thead th {\n",
       "        text-align: right;\n",
       "    }\n",
       "</style>\n",
       "<table border=\"1\" class=\"dataframe\">\n",
       "  <thead>\n",
       "    <tr style=\"text-align: right;\">\n",
       "      <th></th>\n",
       "      <th>Body</th>\n",
       "      <th>Actual Tags</th>\n",
       "      <th>Predicted Tags</th>\n",
       "    </tr>\n",
       "  </thead>\n",
       "  <tbody>\n",
       "    <tr>\n",
       "      <th>597</th>\n",
       "      <td>how we account for headcount and resources the...</td>\n",
       "      <td>(2,)</td>\n",
       "      <td>(2,)</td>\n",
       "    </tr>\n",
       "    <tr>\n",
       "      <th>700</th>\n",
       "      <td>we need to move quicker with technology advanc...</td>\n",
       "      <td>(6, 13)</td>\n",
       "      <td>(13,)</td>\n",
       "    </tr>\n",
       "    <tr>\n",
       "      <th>1222</th>\n",
       "      <td>the cwt platform is not always functional reli...</td>\n",
       "      <td>(53,)</td>\n",
       "      <td>(53,)</td>\n",
       "    </tr>\n",
       "    <tr>\n",
       "      <th>1145</th>\n",
       "      <td>we are growing really fast so it takes longer ...</td>\n",
       "      <td>(13, 54)</td>\n",
       "      <td>(13, 54)</td>\n",
       "    </tr>\n",
       "    <tr>\n",
       "      <th>602</th>\n",
       "      <td>strategically how cfa staff is used to stand u...</td>\n",
       "      <td>(12, 54)</td>\n",
       "      <td>(54,)</td>\n",
       "    </tr>\n",
       "    <tr>\n",
       "      <th>1078</th>\n",
       "      <td>when to engage contractors i know engagement o...</td>\n",
       "      <td>(2, 54)</td>\n",
       "      <td>(2,)</td>\n",
       "    </tr>\n",
       "    <tr>\n",
       "      <th>65</th>\n",
       "      <td>i wish that administrators who desired to purs...</td>\n",
       "      <td>(3,)</td>\n",
       "      <td>(3,)</td>\n",
       "    </tr>\n",
       "    <tr>\n",
       "      <th>745</th>\n",
       "      <td>headcount and people leader decisions</td>\n",
       "      <td>(2, 70)</td>\n",
       "      <td>(2,)</td>\n",
       "    </tr>\n",
       "    <tr>\n",
       "      <th>478</th>\n",
       "      <td>acknowledging distinction between staff roles ...</td>\n",
       "      <td>(53,)</td>\n",
       "      <td>(53,)</td>\n",
       "    </tr>\n",
       "    <tr>\n",
       "      <th>67</th>\n",
       "      <td>budget tracking decisions the new system makes...</td>\n",
       "      <td>(6,)</td>\n",
       "      <td>()</td>\n",
       "    </tr>\n",
       "  </tbody>\n",
       "</table>\n",
       "</div>"
      ],
      "text/plain": [
       "                                                   Body Actual Tags  \\\n",
       "597   how we account for headcount and resources the...        (2,)   \n",
       "700   we need to move quicker with technology advanc...     (6, 13)   \n",
       "1222  the cwt platform is not always functional reli...       (53,)   \n",
       "1145  we are growing really fast so it takes longer ...    (13, 54)   \n",
       "602   strategically how cfa staff is used to stand u...    (12, 54)   \n",
       "1078  when to engage contractors i know engagement o...     (2, 54)   \n",
       "65    i wish that administrators who desired to purs...        (3,)   \n",
       "745               headcount and people leader decisions     (2, 70)   \n",
       "478   acknowledging distinction between staff roles ...       (53,)   \n",
       "67    budget tracking decisions the new system makes...        (6,)   \n",
       "\n",
       "     Predicted Tags  \n",
       "597            (2,)  \n",
       "700           (13,)  \n",
       "1222          (53,)  \n",
       "1145       (13, 54)  \n",
       "602           (54,)  \n",
       "1078           (2,)  \n",
       "65             (3,)  \n",
       "745            (2,)  \n",
       "478           (53,)  \n",
       "67               ()  "
      ]
     },
     "execution_count": 99,
     "metadata": {},
     "output_type": "execute_result"
    }
   ],
   "source": [
    "df.sample(10)"
   ]
  },
  {
   "cell_type": "code",
   "execution_count": 100,
   "metadata": {},
   "outputs": [],
   "source": [
    "df.to_csv(\"U:/computer/Python BERT/CFA data/outQ5top13_2.csv\")"
   ]
  },
  {
   "cell_type": "code",
   "execution_count": 101,
   "metadata": {},
   "outputs": [],
   "source": [
    "#flat_true_labels.shape"
   ]
  },
  {
   "cell_type": "code",
   "execution_count": 102,
   "metadata": {},
   "outputs": [],
   "source": [
    "#np.array(y_pred_labels).shape"
   ]
  },
  {
   "cell_type": "code",
   "execution_count": 103,
   "metadata": {},
   "outputs": [],
   "source": [
    "#y_temp = mlb.inverse_transform(flat_true_labels)\n",
    "#y_temp"
   ]
  },
  {
   "cell_type": "code",
   "execution_count": 104,
   "metadata": {},
   "outputs": [
    {
     "name": "stderr",
     "output_type": "stream",
     "text": [
      "Some weights of the model checkpoint at bert-base-cased were not used when initializing BertModel: ['cls.predictions.transform.dense.bias', 'cls.seq_relationship.bias', 'cls.seq_relationship.weight', 'cls.predictions.decoder.weight', 'cls.predictions.transform.dense.weight', 'cls.predictions.transform.LayerNorm.bias', 'cls.predictions.transform.LayerNorm.weight', 'cls.predictions.bias']\n",
      "- This IS expected if you are initializing BertModel from the checkpoint of a model trained on another task or with another architecture (e.g. initializing a BertForSequenceClassification model from a BertForPreTraining model).\n",
      "- This IS NOT expected if you are initializing BertModel from the checkpoint of a model that you expect to be exactly identical (initializing a BertForSequenceClassification model from a BertForSequenceClassification model).\n"
     ]
    },
    {
     "data": {
      "text/plain": [
       "QTagClassifier(\n",
       "  (bert): BertModel(\n",
       "    (embeddings): BertEmbeddings(\n",
       "      (word_embeddings): Embedding(28996, 768, padding_idx=0)\n",
       "      (position_embeddings): Embedding(512, 768)\n",
       "      (token_type_embeddings): Embedding(2, 768)\n",
       "      (LayerNorm): LayerNorm((768,), eps=1e-12, elementwise_affine=True)\n",
       "      (dropout): Dropout(p=0.1, inplace=False)\n",
       "    )\n",
       "    (encoder): BertEncoder(\n",
       "      (layer): ModuleList(\n",
       "        (0): BertLayer(\n",
       "          (attention): BertAttention(\n",
       "            (self): BertSelfAttention(\n",
       "              (query): Linear(in_features=768, out_features=768, bias=True)\n",
       "              (key): Linear(in_features=768, out_features=768, bias=True)\n",
       "              (value): Linear(in_features=768, out_features=768, bias=True)\n",
       "              (dropout): Dropout(p=0.1, inplace=False)\n",
       "            )\n",
       "            (output): BertSelfOutput(\n",
       "              (dense): Linear(in_features=768, out_features=768, bias=True)\n",
       "              (LayerNorm): LayerNorm((768,), eps=1e-12, elementwise_affine=True)\n",
       "              (dropout): Dropout(p=0.1, inplace=False)\n",
       "            )\n",
       "          )\n",
       "          (intermediate): BertIntermediate(\n",
       "            (dense): Linear(in_features=768, out_features=3072, bias=True)\n",
       "            (intermediate_act_fn): GELUActivation()\n",
       "          )\n",
       "          (output): BertOutput(\n",
       "            (dense): Linear(in_features=3072, out_features=768, bias=True)\n",
       "            (LayerNorm): LayerNorm((768,), eps=1e-12, elementwise_affine=True)\n",
       "            (dropout): Dropout(p=0.1, inplace=False)\n",
       "          )\n",
       "        )\n",
       "        (1): BertLayer(\n",
       "          (attention): BertAttention(\n",
       "            (self): BertSelfAttention(\n",
       "              (query): Linear(in_features=768, out_features=768, bias=True)\n",
       "              (key): Linear(in_features=768, out_features=768, bias=True)\n",
       "              (value): Linear(in_features=768, out_features=768, bias=True)\n",
       "              (dropout): Dropout(p=0.1, inplace=False)\n",
       "            )\n",
       "            (output): BertSelfOutput(\n",
       "              (dense): Linear(in_features=768, out_features=768, bias=True)\n",
       "              (LayerNorm): LayerNorm((768,), eps=1e-12, elementwise_affine=True)\n",
       "              (dropout): Dropout(p=0.1, inplace=False)\n",
       "            )\n",
       "          )\n",
       "          (intermediate): BertIntermediate(\n",
       "            (dense): Linear(in_features=768, out_features=3072, bias=True)\n",
       "            (intermediate_act_fn): GELUActivation()\n",
       "          )\n",
       "          (output): BertOutput(\n",
       "            (dense): Linear(in_features=3072, out_features=768, bias=True)\n",
       "            (LayerNorm): LayerNorm((768,), eps=1e-12, elementwise_affine=True)\n",
       "            (dropout): Dropout(p=0.1, inplace=False)\n",
       "          )\n",
       "        )\n",
       "        (2): BertLayer(\n",
       "          (attention): BertAttention(\n",
       "            (self): BertSelfAttention(\n",
       "              (query): Linear(in_features=768, out_features=768, bias=True)\n",
       "              (key): Linear(in_features=768, out_features=768, bias=True)\n",
       "              (value): Linear(in_features=768, out_features=768, bias=True)\n",
       "              (dropout): Dropout(p=0.1, inplace=False)\n",
       "            )\n",
       "            (output): BertSelfOutput(\n",
       "              (dense): Linear(in_features=768, out_features=768, bias=True)\n",
       "              (LayerNorm): LayerNorm((768,), eps=1e-12, elementwise_affine=True)\n",
       "              (dropout): Dropout(p=0.1, inplace=False)\n",
       "            )\n",
       "          )\n",
       "          (intermediate): BertIntermediate(\n",
       "            (dense): Linear(in_features=768, out_features=3072, bias=True)\n",
       "            (intermediate_act_fn): GELUActivation()\n",
       "          )\n",
       "          (output): BertOutput(\n",
       "            (dense): Linear(in_features=3072, out_features=768, bias=True)\n",
       "            (LayerNorm): LayerNorm((768,), eps=1e-12, elementwise_affine=True)\n",
       "            (dropout): Dropout(p=0.1, inplace=False)\n",
       "          )\n",
       "        )\n",
       "        (3): BertLayer(\n",
       "          (attention): BertAttention(\n",
       "            (self): BertSelfAttention(\n",
       "              (query): Linear(in_features=768, out_features=768, bias=True)\n",
       "              (key): Linear(in_features=768, out_features=768, bias=True)\n",
       "              (value): Linear(in_features=768, out_features=768, bias=True)\n",
       "              (dropout): Dropout(p=0.1, inplace=False)\n",
       "            )\n",
       "            (output): BertSelfOutput(\n",
       "              (dense): Linear(in_features=768, out_features=768, bias=True)\n",
       "              (LayerNorm): LayerNorm((768,), eps=1e-12, elementwise_affine=True)\n",
       "              (dropout): Dropout(p=0.1, inplace=False)\n",
       "            )\n",
       "          )\n",
       "          (intermediate): BertIntermediate(\n",
       "            (dense): Linear(in_features=768, out_features=3072, bias=True)\n",
       "            (intermediate_act_fn): GELUActivation()\n",
       "          )\n",
       "          (output): BertOutput(\n",
       "            (dense): Linear(in_features=3072, out_features=768, bias=True)\n",
       "            (LayerNorm): LayerNorm((768,), eps=1e-12, elementwise_affine=True)\n",
       "            (dropout): Dropout(p=0.1, inplace=False)\n",
       "          )\n",
       "        )\n",
       "        (4): BertLayer(\n",
       "          (attention): BertAttention(\n",
       "            (self): BertSelfAttention(\n",
       "              (query): Linear(in_features=768, out_features=768, bias=True)\n",
       "              (key): Linear(in_features=768, out_features=768, bias=True)\n",
       "              (value): Linear(in_features=768, out_features=768, bias=True)\n",
       "              (dropout): Dropout(p=0.1, inplace=False)\n",
       "            )\n",
       "            (output): BertSelfOutput(\n",
       "              (dense): Linear(in_features=768, out_features=768, bias=True)\n",
       "              (LayerNorm): LayerNorm((768,), eps=1e-12, elementwise_affine=True)\n",
       "              (dropout): Dropout(p=0.1, inplace=False)\n",
       "            )\n",
       "          )\n",
       "          (intermediate): BertIntermediate(\n",
       "            (dense): Linear(in_features=768, out_features=3072, bias=True)\n",
       "            (intermediate_act_fn): GELUActivation()\n",
       "          )\n",
       "          (output): BertOutput(\n",
       "            (dense): Linear(in_features=3072, out_features=768, bias=True)\n",
       "            (LayerNorm): LayerNorm((768,), eps=1e-12, elementwise_affine=True)\n",
       "            (dropout): Dropout(p=0.1, inplace=False)\n",
       "          )\n",
       "        )\n",
       "        (5): BertLayer(\n",
       "          (attention): BertAttention(\n",
       "            (self): BertSelfAttention(\n",
       "              (query): Linear(in_features=768, out_features=768, bias=True)\n",
       "              (key): Linear(in_features=768, out_features=768, bias=True)\n",
       "              (value): Linear(in_features=768, out_features=768, bias=True)\n",
       "              (dropout): Dropout(p=0.1, inplace=False)\n",
       "            )\n",
       "            (output): BertSelfOutput(\n",
       "              (dense): Linear(in_features=768, out_features=768, bias=True)\n",
       "              (LayerNorm): LayerNorm((768,), eps=1e-12, elementwise_affine=True)\n",
       "              (dropout): Dropout(p=0.1, inplace=False)\n",
       "            )\n",
       "          )\n",
       "          (intermediate): BertIntermediate(\n",
       "            (dense): Linear(in_features=768, out_features=3072, bias=True)\n",
       "            (intermediate_act_fn): GELUActivation()\n",
       "          )\n",
       "          (output): BertOutput(\n",
       "            (dense): Linear(in_features=3072, out_features=768, bias=True)\n",
       "            (LayerNorm): LayerNorm((768,), eps=1e-12, elementwise_affine=True)\n",
       "            (dropout): Dropout(p=0.1, inplace=False)\n",
       "          )\n",
       "        )\n",
       "        (6): BertLayer(\n",
       "          (attention): BertAttention(\n",
       "            (self): BertSelfAttention(\n",
       "              (query): Linear(in_features=768, out_features=768, bias=True)\n",
       "              (key): Linear(in_features=768, out_features=768, bias=True)\n",
       "              (value): Linear(in_features=768, out_features=768, bias=True)\n",
       "              (dropout): Dropout(p=0.1, inplace=False)\n",
       "            )\n",
       "            (output): BertSelfOutput(\n",
       "              (dense): Linear(in_features=768, out_features=768, bias=True)\n",
       "              (LayerNorm): LayerNorm((768,), eps=1e-12, elementwise_affine=True)\n",
       "              (dropout): Dropout(p=0.1, inplace=False)\n",
       "            )\n",
       "          )\n",
       "          (intermediate): BertIntermediate(\n",
       "            (dense): Linear(in_features=768, out_features=3072, bias=True)\n",
       "            (intermediate_act_fn): GELUActivation()\n",
       "          )\n",
       "          (output): BertOutput(\n",
       "            (dense): Linear(in_features=3072, out_features=768, bias=True)\n",
       "            (LayerNorm): LayerNorm((768,), eps=1e-12, elementwise_affine=True)\n",
       "            (dropout): Dropout(p=0.1, inplace=False)\n",
       "          )\n",
       "        )\n",
       "        (7): BertLayer(\n",
       "          (attention): BertAttention(\n",
       "            (self): BertSelfAttention(\n",
       "              (query): Linear(in_features=768, out_features=768, bias=True)\n",
       "              (key): Linear(in_features=768, out_features=768, bias=True)\n",
       "              (value): Linear(in_features=768, out_features=768, bias=True)\n",
       "              (dropout): Dropout(p=0.1, inplace=False)\n",
       "            )\n",
       "            (output): BertSelfOutput(\n",
       "              (dense): Linear(in_features=768, out_features=768, bias=True)\n",
       "              (LayerNorm): LayerNorm((768,), eps=1e-12, elementwise_affine=True)\n",
       "              (dropout): Dropout(p=0.1, inplace=False)\n",
       "            )\n",
       "          )\n",
       "          (intermediate): BertIntermediate(\n",
       "            (dense): Linear(in_features=768, out_features=3072, bias=True)\n",
       "            (intermediate_act_fn): GELUActivation()\n",
       "          )\n",
       "          (output): BertOutput(\n",
       "            (dense): Linear(in_features=3072, out_features=768, bias=True)\n",
       "            (LayerNorm): LayerNorm((768,), eps=1e-12, elementwise_affine=True)\n",
       "            (dropout): Dropout(p=0.1, inplace=False)\n",
       "          )\n",
       "        )\n",
       "        (8): BertLayer(\n",
       "          (attention): BertAttention(\n",
       "            (self): BertSelfAttention(\n",
       "              (query): Linear(in_features=768, out_features=768, bias=True)\n",
       "              (key): Linear(in_features=768, out_features=768, bias=True)\n",
       "              (value): Linear(in_features=768, out_features=768, bias=True)\n",
       "              (dropout): Dropout(p=0.1, inplace=False)\n",
       "            )\n",
       "            (output): BertSelfOutput(\n",
       "              (dense): Linear(in_features=768, out_features=768, bias=True)\n",
       "              (LayerNorm): LayerNorm((768,), eps=1e-12, elementwise_affine=True)\n",
       "              (dropout): Dropout(p=0.1, inplace=False)\n",
       "            )\n",
       "          )\n",
       "          (intermediate): BertIntermediate(\n",
       "            (dense): Linear(in_features=768, out_features=3072, bias=True)\n",
       "            (intermediate_act_fn): GELUActivation()\n",
       "          )\n",
       "          (output): BertOutput(\n",
       "            (dense): Linear(in_features=3072, out_features=768, bias=True)\n",
       "            (LayerNorm): LayerNorm((768,), eps=1e-12, elementwise_affine=True)\n",
       "            (dropout): Dropout(p=0.1, inplace=False)\n",
       "          )\n",
       "        )\n",
       "        (9): BertLayer(\n",
       "          (attention): BertAttention(\n",
       "            (self): BertSelfAttention(\n",
       "              (query): Linear(in_features=768, out_features=768, bias=True)\n",
       "              (key): Linear(in_features=768, out_features=768, bias=True)\n",
       "              (value): Linear(in_features=768, out_features=768, bias=True)\n",
       "              (dropout): Dropout(p=0.1, inplace=False)\n",
       "            )\n",
       "            (output): BertSelfOutput(\n",
       "              (dense): Linear(in_features=768, out_features=768, bias=True)\n",
       "              (LayerNorm): LayerNorm((768,), eps=1e-12, elementwise_affine=True)\n",
       "              (dropout): Dropout(p=0.1, inplace=False)\n",
       "            )\n",
       "          )\n",
       "          (intermediate): BertIntermediate(\n",
       "            (dense): Linear(in_features=768, out_features=3072, bias=True)\n",
       "            (intermediate_act_fn): GELUActivation()\n",
       "          )\n",
       "          (output): BertOutput(\n",
       "            (dense): Linear(in_features=3072, out_features=768, bias=True)\n",
       "            (LayerNorm): LayerNorm((768,), eps=1e-12, elementwise_affine=True)\n",
       "            (dropout): Dropout(p=0.1, inplace=False)\n",
       "          )\n",
       "        )\n",
       "        (10): BertLayer(\n",
       "          (attention): BertAttention(\n",
       "            (self): BertSelfAttention(\n",
       "              (query): Linear(in_features=768, out_features=768, bias=True)\n",
       "              (key): Linear(in_features=768, out_features=768, bias=True)\n",
       "              (value): Linear(in_features=768, out_features=768, bias=True)\n",
       "              (dropout): Dropout(p=0.1, inplace=False)\n",
       "            )\n",
       "            (output): BertSelfOutput(\n",
       "              (dense): Linear(in_features=768, out_features=768, bias=True)\n",
       "              (LayerNorm): LayerNorm((768,), eps=1e-12, elementwise_affine=True)\n",
       "              (dropout): Dropout(p=0.1, inplace=False)\n",
       "            )\n",
       "          )\n",
       "          (intermediate): BertIntermediate(\n",
       "            (dense): Linear(in_features=768, out_features=3072, bias=True)\n",
       "            (intermediate_act_fn): GELUActivation()\n",
       "          )\n",
       "          (output): BertOutput(\n",
       "            (dense): Linear(in_features=3072, out_features=768, bias=True)\n",
       "            (LayerNorm): LayerNorm((768,), eps=1e-12, elementwise_affine=True)\n",
       "            (dropout): Dropout(p=0.1, inplace=False)\n",
       "          )\n",
       "        )\n",
       "        (11): BertLayer(\n",
       "          (attention): BertAttention(\n",
       "            (self): BertSelfAttention(\n",
       "              (query): Linear(in_features=768, out_features=768, bias=True)\n",
       "              (key): Linear(in_features=768, out_features=768, bias=True)\n",
       "              (value): Linear(in_features=768, out_features=768, bias=True)\n",
       "              (dropout): Dropout(p=0.1, inplace=False)\n",
       "            )\n",
       "            (output): BertSelfOutput(\n",
       "              (dense): Linear(in_features=768, out_features=768, bias=True)\n",
       "              (LayerNorm): LayerNorm((768,), eps=1e-12, elementwise_affine=True)\n",
       "              (dropout): Dropout(p=0.1, inplace=False)\n",
       "            )\n",
       "          )\n",
       "          (intermediate): BertIntermediate(\n",
       "            (dense): Linear(in_features=768, out_features=3072, bias=True)\n",
       "            (intermediate_act_fn): GELUActivation()\n",
       "          )\n",
       "          (output): BertOutput(\n",
       "            (dense): Linear(in_features=3072, out_features=768, bias=True)\n",
       "            (LayerNorm): LayerNorm((768,), eps=1e-12, elementwise_affine=True)\n",
       "            (dropout): Dropout(p=0.1, inplace=False)\n",
       "          )\n",
       "        )\n",
       "      )\n",
       "    )\n",
       "    (pooler): BertPooler(\n",
       "      (dense): Linear(in_features=768, out_features=768, bias=True)\n",
       "      (activation): Tanh()\n",
       "    )\n",
       "  )\n",
       "  (classifier): Linear(in_features=768, out_features=13, bias=True)\n",
       "  (criterion): BCEWithLogitsLoss()\n",
       ")"
      ]
     },
     "execution_count": 104,
     "metadata": {},
     "output_type": "execute_result"
    }
   ],
   "source": [
    "#Inference\n",
    "# load a model along with its weights, biases and hyperparameters\n",
    "QTmodel = QTagClassifier.load_from_checkpoint(model_path)\n",
    "QTmodel.eval()"
   ]
  },
  {
   "cell_type": "code",
   "execution_count": 105,
   "metadata": {},
   "outputs": [],
   "source": [
    "#Function to Predict Tags from a Question\n",
    "def predict(question):\n",
    "    text_enc = Bert_tokenizer.encode_plus(\n",
    "            question,\n",
    "            None,\n",
    "            add_special_tokens=True,\n",
    "            max_length= MAX_LEN,\n",
    "            padding = 'max_length',\n",
    "            return_token_type_ids= False,\n",
    "            return_attention_mask= True,\n",
    "            truncation=True,\n",
    "            return_tensors = 'pt'      \n",
    "    )\n",
    "    outputs = QTmodel(text_enc['input_ids'], text_enc['attention_mask'])\n",
    "    pred_out = outputs[0].detach().numpy()\n",
    "    #print(f'Outputs = {outputs}')\n",
    "    #print(f'Type = {type(outputs)}')\n",
    "    #print(f'Pred Outputs = {pred_out}')\n",
    "    #print(f'Type = {type(pred_out)}')\n",
    "    #preds = np.round(pred_out)\n",
    "    preds = [(pred > opt_thresh) for pred in pred_out ]\n",
    "    #pred_list = [ round(pred) for pred in pred_logits ]\n",
    "    preds = np.asarray(preds)\n",
    "    #print(f'Predictions = {preds}')\n",
    "    #print(f'Type = {type(preds)}')\n",
    "    #print(mlb.classes_)\n",
    "    new_preds = preds.reshape(1,-1).astype(int)\n",
    "    #print(new_preds)\n",
    "    pred_tags = mlb.inverse_transform(new_preds)\n",
    "    #print(mlb.inverse_transform(np.array(new_preds)))\n",
    "    return pred_tags "
   ]
  },
  {
   "cell_type": "code",
   "execution_count": 106,
   "metadata": {},
   "outputs": [
    {
     "name": "stdout",
     "output_type": "stream",
     "text": [
      "This Question can not be associated with any known tag - Please review to see if a new tag is required \n"
     ]
    }
   ],
   "source": [
    "#Try out the Model - Ask a question\n",
    "\n",
    "# Your question stored in the question variable\n",
    "question = \"based on the following relationship between matthew s correlation coefficient mcc and chi square mcc is the pearson product moment correlation coefficient is it possible to conclude that by having imbalanced binary classification problem n and p df following mcc is significant mcc sqrt which is mcc when comparing two algorithms a b with trials of times if mean mcc a mcc a mean mcc b mcc b then a significantly outperforms b thanks in advance edit roc curves provide an overly optimistic view of the performance for imbalanced binary classification regarding threshold i m not a big fan of not using it as finally one have to decide for a threshold and quite frankly that person has no more information than me to decide upon hence providing pr or roc curves are just for the sake of circumventing the problem for publishing\"\n",
    "\n",
    "# Call the predict function to predict the associated Tags\n",
    "tags = predict(question)\n",
    "if not tags[0]:\n",
    "    print('This Question can not be associated with any known tag - Please review to see if a new tag is required ')\n",
    "else:\n",
    "    print(f'Following Tags are associated : \\n {tags}')"
   ]
  },
  {
   "cell_type": "code",
   "execution_count": 107,
   "metadata": {},
   "outputs": [],
   "source": [
    "#save the model\n",
    "torch.save(QTmodel.state_dict(), 'U:/computer/Python BERT/CFA data/BERT_saved_model/BERT_Q5_top13.pth')\n",
    "#torch.save(model.state_dict(), 'U:/computer/Python BERT/CFA data/BERT_saved_model/BERT_Q5a.pth')\n",
    "#saved_model = torch.load('U:/computer/Python BERT/CFA data/BERT_saved_model')\n",
    "\n",
    "#model=QTagClassifier()\n",
    "#model.load_state_dict(torch.load('U:/computer/Python BERT/CFA data/BERT_saved_model/BERT_Q5.pth'))"
   ]
  },
  {
   "cell_type": "markdown",
   "metadata": {},
   "source": [
    "#\n",
    "#saving model\n",
    "#https://stackoverflow.com/questions/59340061/saving-a-fine-tuned-bert-model\n",
    "#https://mccormickml.com/2019/07/22/BERT-fine-tuning/#advantages-of-fine-tuning"
   ]
  }
 ],
 "metadata": {
  "kernelspec": {
   "display_name": "Python 3.9.13 64-bit (windows store)",
   "language": "python",
   "name": "python3"
  },
  "language_info": {
   "codemirror_mode": {
    "name": "ipython",
    "version": 3
   },
   "file_extension": ".py",
   "mimetype": "text/x-python",
   "name": "python",
   "nbconvert_exporter": "python",
   "pygments_lexer": "ipython3",
   "version": "3.9.13"
  },
  "orig_nbformat": 4,
  "vscode": {
   "interpreter": {
    "hash": "9acc76e4b9a35d63fc61b74ab460f351b841a4aee9213aada568847fcdf204df"
   }
  }
 },
 "nbformat": 4,
 "nbformat_minor": 2
}
